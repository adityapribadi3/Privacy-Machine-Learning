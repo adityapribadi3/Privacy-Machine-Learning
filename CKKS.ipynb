{
 "metadata": {
  "language_info": {
   "codemirror_mode": {
    "name": "ipython",
    "version": 3
   },
   "file_extension": ".py",
   "mimetype": "text/x-python",
   "name": "python",
   "nbconvert_exporter": "python",
   "pygments_lexer": "ipython3",
   "version": "3.8.5-final"
  },
  "orig_nbformat": 2,
  "kernelspec": {
   "name": "python3",
   "display_name": "Python 3.8.5 64-bit ('base': conda)",
   "metadata": {
    "interpreter": {
     "hash": "dca0ade3e726a953b501b15e8e990130d2b7799f14cfd9f4271676035ebe5511"
    }
   }
  }
 },
 "nbformat": 4,
 "nbformat_minor": 2,
 "cells": [
  {
   "cell_type": "code",
   "execution_count": 16,
   "metadata": {},
   "outputs": [],
   "source": [
    "import numpy as np"
   ]
  },
  {
   "cell_type": "code",
   "execution_count": 17,
   "metadata": {},
   "outputs": [],
   "source": [
    "# First we set the parameters\n",
    "M = 8\n",
    "N = M //2"
   ]
  },
  {
   "cell_type": "code",
   "execution_count": 18,
   "metadata": {},
   "outputs": [
    {
     "output_type": "execute_result",
     "data": {
      "text/plain": [
       "(0.7071067811865476+0.7071067811865475j)"
      ]
     },
     "metadata": {},
     "execution_count": 18
    }
   ],
   "source": [
    "xi = np.exp(2 * np.pi * 1j / M)\n",
    "xi"
   ]
  },
  {
   "cell_type": "code",
   "execution_count": 19,
   "metadata": {},
   "outputs": [],
   "source": [
    "from numpy.polynomial import Polynomial\n",
    "\n",
    "class CKKSEncoder:\n",
    "    \"\"\"Basic CKKS encoder to encode complex vectors into polynomials.\"\"\"\n",
    "    \n",
    "    def __init__(self, M: int):\n",
    "        \"\"\"Initialization of the encoder for M a power of 2. \n",
    "        \n",
    "        xi, which is an M-th root of unity will, be used as a basis for our computations.\n",
    "        \"\"\"\n",
    "        self.xi = np.exp(2 * np.pi * 1j / M)\n",
    "        self.M = M\n",
    "        \n",
    "    @staticmethod\n",
    "    def vandermonde(xi: np.complex128, M: int) -> np.array:\n",
    "        \"\"\"Computes the Vandermonde matrix from a m-th root of unity.\"\"\"\n",
    "        \n",
    "        N = M //2\n",
    "        matrix = []\n",
    "        # We will generate each row of the matrix\n",
    "        for i in range(N):\n",
    "            # For each row we select a different root\n",
    "            root = xi ** (2 * i + 1)\n",
    "            row = []\n",
    "\n",
    "            # Then we store its powers\n",
    "            for j in range(N):\n",
    "                row.append(root ** j)\n",
    "            matrix.append(row)\n",
    "        return matrix\n",
    "    \n",
    "    def sigma_inverse(self, b: np.array) -> Polynomial:\n",
    "        \"\"\"Encodes the vector b in a polynomial using an M-th root of unity.\"\"\"\n",
    "\n",
    "        # First we create the Vandermonde matrix\n",
    "        A = CKKSEncoder.vandermonde(self.xi, M)\n",
    "\n",
    "        # Then we solve the system\n",
    "        coeffs = np.linalg.solve(A, b)\n",
    "\n",
    "        # Finally we output the polynomial\n",
    "        p = Polynomial(coeffs)\n",
    "        return p\n",
    "\n",
    "    def sigma(self, p: Polynomial) -> np.array:\n",
    "        \"\"\"Decodes a polynomial by applying it to the M-th roots of unity.\"\"\"\n",
    "\n",
    "        outputs = []\n",
    "        N = self.M //2\n",
    "\n",
    "        # We simply apply the polynomial on the roots\n",
    "        for i in range(N):\n",
    "            root = self.xi ** (2 * i + 1)\n",
    "            output = p(root)\n",
    "            outputs.append(output)\n",
    "        return np.array(outputs)"
   ]
  },
  {
   "cell_type": "code",
   "execution_count": 20,
   "metadata": {},
   "outputs": [
    {
     "output_type": "execute_result",
     "data": {
      "text/plain": [
       "array([1, 2, 3, 4])"
      ]
     },
     "metadata": {},
     "execution_count": 20
    }
   ],
   "source": [
    "encoder = CKKSEncoder(M)\n",
    "\n",
    "b = np.array([1, 2, 3, 4])\n",
    "b"
   ]
  },
  {
   "cell_type": "code",
   "execution_count": 21,
   "metadata": {},
   "outputs": [
    {
     "output_type": "execute_result",
     "data": {
      "text/plain": [
       "Polynomial([ 2.50000000e+00+4.44089210e-16j, -4.99600361e-16+7.07106781e-01j,\n",
       "       -3.46944695e-16+5.00000000e-01j, -8.32667268e-16+7.07106781e-01j], domain=[-1,  1], window=[-1,  1])"
      ],
      "text/latex": "$x \\mapsto \\text{(2.5+4.440892098500626e-16j)} + (\\text{(-4.996003610813204e-16+0.7071067811865479j)})\\,x + (\\text{(-3.4694469519536176e-16+0.5000000000000003j)})\\,x^{2} + (\\text{(-8.326672684688674e-16+0.7071067811865472j)})\\,x^{3}$"
     },
     "metadata": {},
     "execution_count": 21
    }
   ],
   "source": [
    "p = encoder.sigma_inverse(b)\n",
    "p"
   ]
  },
  {
   "cell_type": "code",
   "execution_count": 22,
   "metadata": {},
   "outputs": [
    {
     "output_type": "execute_result",
     "data": {
      "text/plain": [
       "array([1.-1.11022302e-16j, 2.-4.71844785e-16j, 3.+2.77555756e-17j,\n",
       "       4.+2.22044605e-16j])"
      ]
     },
     "metadata": {},
     "execution_count": 22
    }
   ],
   "source": [
    "b_reconstructed = encoder.sigma(p)\n",
    "b_reconstructed"
   ]
  },
  {
   "cell_type": "code",
   "execution_count": 23,
   "metadata": {},
   "outputs": [
    {
     "output_type": "execute_result",
     "data": {
      "text/plain": [
       "6.944442800358888e-16"
      ]
     },
     "metadata": {},
     "execution_count": 23
    }
   ],
   "source": [
    "np.linalg.norm(b_reconstructed - b)"
   ]
  },
  {
   "cell_type": "code",
   "execution_count": 24,
   "metadata": {},
   "outputs": [],
   "source": [
    "m1 = np.array([1, 2, 3, 4])\n",
    "m2 = np.array([1, -2, 3, -4])\n",
    "\n",
    "p1 = encoder.sigma_inverse(m1)\n",
    "p2 = encoder.sigma_inverse(m2)"
   ]
  },
  {
   "cell_type": "code",
   "execution_count": 25,
   "metadata": {},
   "outputs": [
    {
     "output_type": "execute_result",
     "data": {
      "text/plain": [
       "Polynomial([ 2.00000000e+00+1.11022302e-16j, -7.07106781e-01+7.07106781e-01j,\n",
       "        2.10942375e-15-2.00000000e+00j,  7.07106781e-01+7.07106781e-01j], domain=[-1.,  1.], window=[-1.,  1.])"
      ],
      "text/latex": "$x \\mapsto \\text{(2.0000000000000004+1.1102230246251565e-16j)} + (\\text{(-0.7071067811865477+0.707106781186547j)})\\,x + (\\text{(2.1094237467877966e-15-1.9999999999999996j)})\\,x^{2} + (\\text{(0.7071067811865466+0.707106781186549j)})\\,x^{3}$"
     },
     "metadata": {},
     "execution_count": 25
    }
   ],
   "source": [
    "p_add = p1 + p2\n",
    "p_add"
   ]
  },
  {
   "cell_type": "code",
   "execution_count": 26,
   "metadata": {},
   "outputs": [
    {
     "output_type": "execute_result",
     "data": {
      "text/plain": [
       "array([2.0000000e+00+3.25176795e-17j, 4.4408921e-16-4.44089210e-16j,\n",
       "       6.0000000e+00+1.11022302e-16j, 4.4408921e-16+3.33066907e-16j])"
      ]
     },
     "metadata": {},
     "execution_count": 26
    }
   ],
   "source": [
    "encoder.sigma(p_add)"
   ]
  },
  {
   "cell_type": "code",
   "execution_count": 27,
   "metadata": {},
   "outputs": [
    {
     "output_type": "execute_result",
     "data": {
      "text/plain": [
       "Polynomial([1., 0., 0., 0., 1.], domain=[-1,  1], window=[-1,  1])"
      ],
      "text/latex": "$x \\mapsto \\text{1.0}\\color{LightGray}{ + \\text{0.0}\\,x}\\color{LightGray}{ + \\text{0.0}\\,x^{2}}\\color{LightGray}{ + \\text{0.0}\\,x^{3}} + \\text{1.0}\\,x^{4}$"
     },
     "metadata": {},
     "execution_count": 27
    }
   ],
   "source": [
    "poly_modulo = Polynomial([1,0,0,0,1])\n",
    "poly_modulo"
   ]
  },
  {
   "cell_type": "code",
   "execution_count": 28,
   "metadata": {},
   "outputs": [],
   "source": [
    "p_mult = p1 * p2 % poly_modulo"
   ]
  },
  {
   "cell_type": "code",
   "execution_count": 29,
   "metadata": {},
   "outputs": [
    {
     "output_type": "execute_result",
     "data": {
      "text/plain": [
       "array([  1.-8.67361738e-16j,  -4.+6.86950496e-16j,   9.+6.86950496e-16j,\n",
       "       -16.-9.08301212e-15j])"
      ]
     },
     "metadata": {},
     "execution_count": 29
    }
   ],
   "source": [
    "encoder.sigma(p_mult)"
   ]
  },
  {
   "cell_type": "code",
   "execution_count": 30,
   "metadata": {},
   "outputs": [],
   "source": [
    "#CKKS EXPLAINED: PART 1, VANILLA ENCODING AND DECODING\n",
    "#https://blog.openmined.org/ckks-explained-part-1-simple-encoding-and-decoding/"
   ]
  },
  {
   "cell_type": "code",
   "execution_count": null,
   "metadata": {},
   "outputs": [],
   "source": []
  }
 ]
}