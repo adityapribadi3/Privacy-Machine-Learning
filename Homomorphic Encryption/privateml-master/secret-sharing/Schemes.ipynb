{
 "cells": [
  {
   "cell_type": "code",
   "execution_count": 1,
   "metadata": {
    "collapsed": true
   },
   "outputs": [],
   "source": [
    "import random"
   ]
  },
  {
   "cell_type": "markdown",
   "metadata": {},
   "source": [
    "# Encoding"
   ]
  },
  {
   "cell_type": "code",
   "execution_count": 2,
   "metadata": {
    "collapsed": true
   },
   "outputs": [],
   "source": [
    "Q = 41"
   ]
  },
  {
   "cell_type": "code",
   "execution_count": 3,
   "metadata": {
    "collapsed": true
   },
   "outputs": [],
   "source": [
    "def encode(x):\n",
    "    return x % Q\n",
    "\n",
    "def decode(x):\n",
    "    return x if x <= Q/2 else x-Q"
   ]
  },
  {
   "cell_type": "code",
   "execution_count": 4,
   "metadata": {},
   "outputs": [
    {
     "name": "stdout",
     "output_type": "stream",
     "text": [
      "encoded: 36\n",
      "decoded: -5\n"
     ]
    }
   ],
   "source": [
    "x = encode(-5)\n",
    "print(\"encoded: %d\" % x)\n",
    "print(\"decoded: %d\" % decode(x))"
   ]
  },
  {
   "cell_type": "markdown",
   "metadata": {},
   "source": [
    "# Additive sharing"
   ]
  },
  {
   "cell_type": "code",
   "execution_count": 5,
   "metadata": {
    "collapsed": true
   },
   "outputs": [],
   "source": [
    "N = 10"
   ]
  },
  {
   "cell_type": "code",
   "execution_count": 6,
   "metadata": {},
   "outputs": [
    {
     "name": "stdout",
     "output_type": "stream",
     "text": [
      "[37, 23, 36, 26, 20, 14, 28, 40, 14, 13]\n",
      "5\n"
     ]
    }
   ],
   "source": [
    "def additive_share(secret):\n",
    "    shares  = [ random.randrange(Q) for _ in range(N-1) ]\n",
    "    shares += [ (secret - sum(shares)) % Q ]\n",
    "    return shares\n",
    "\n",
    "def additive_reconstruct(shares):\n",
    "    return sum(shares) % Q\n",
    "\n",
    "shares = additive_share(5)\n",
    "print(shares)\n",
    "print(additive_reconstruct(shares))"
   ]
  },
  {
   "cell_type": "code",
   "execution_count": 7,
   "metadata": {},
   "outputs": [
    {
     "name": "stdout",
     "output_type": "stream",
     "text": [
      "guess 0 can be explained by 8\n",
      "guess 1 can be explained by 9\n",
      "guess 2 can be explained by 10\n",
      "guess 3 can be explained by 11\n",
      "guess 4 can be explained by 12\n",
      "guess 5 can be explained by 13\n",
      "guess 6 can be explained by 14\n",
      "guess 7 can be explained by 15\n",
      "guess 8 can be explained by 16\n",
      "guess 9 can be explained by 17\n",
      "guess 10 can be explained by 18\n",
      "guess 11 can be explained by 19\n",
      "guess 12 can be explained by 20\n",
      "guess 13 can be explained by 21\n",
      "guess 14 can be explained by 22\n",
      "guess 15 can be explained by 23\n",
      "guess 16 can be explained by 24\n",
      "guess 17 can be explained by 25\n",
      "guess 18 can be explained by 26\n",
      "guess 19 can be explained by 27\n",
      "guess 20 can be explained by 28\n",
      "guess 21 can be explained by 29\n",
      "guess 22 can be explained by 30\n",
      "guess 23 can be explained by 31\n",
      "guess 24 can be explained by 32\n",
      "guess 25 can be explained by 33\n",
      "guess 26 can be explained by 34\n",
      "guess 27 can be explained by 35\n",
      "guess 28 can be explained by 36\n",
      "guess 29 can be explained by 37\n",
      "guess 30 can be explained by 38\n",
      "guess 31 can be explained by 39\n",
      "guess 32 can be explained by 40\n",
      "guess 33 can be explained by 0\n",
      "guess 34 can be explained by 1\n",
      "guess 35 can be explained by 2\n",
      "guess 36 can be explained by 3\n",
      "guess 37 can be explained by 4\n",
      "guess 38 can be explained by 5\n",
      "guess 39 can be explained by 6\n",
      "guess 40 can be explained by 7\n"
     ]
    }
   ],
   "source": [
    "def explain(seen_shares, guess):\n",
    "    # compute the unseen share that justifies the seen shares and the guess\n",
    "    simulated_unseen_share = (guess - sum(seen_shares)) % Q\n",
    "    # and would-be sharing by combining seen and unseen shares\n",
    "    simulated_shares = seen_shares + [simulated_unseen_share]\n",
    "    if additive_reconstruct(simulated_shares) == guess:\n",
    "        # found an explanation\n",
    "        return simulated_unseen_share\n",
    "\n",
    "seen_shares = shares[:N-1]\n",
    "for guess in range(Q):\n",
    "    explanation = explain(seen_shares, guess)\n",
    "    if explanation is not None: \n",
    "        print(\"guess %d can be explained by %d\" % (guess, explanation))"
   ]
  },
  {
   "cell_type": "code",
   "execution_count": 8,
   "metadata": {
    "collapsed": true
   },
   "outputs": [],
   "source": [
    "def additive_add(x, y):\n",
    "    return [ (xi + yi) % Q for xi, yi in zip(x, y) ]\n",
    "\n",
    "def additive_sub(x, y):\n",
    "    return [ (xi - yi) % Q for xi, yi in zip(x, y) ]"
   ]
  },
  {
   "cell_type": "code",
   "execution_count": 9,
   "metadata": {},
   "outputs": [
    {
     "name": "stdout",
     "output_type": "stream",
     "text": [
      "Additive(5)\n",
      "Additive(8)\n",
      "Additive(-3)\n"
     ]
    }
   ],
   "source": [
    "class Additive:\n",
    "    \n",
    "    def __init__(self, secret=None):\n",
    "        self.shares = additive_share(encode(secret)) if secret is not None else []\n",
    "    \n",
    "    def reveal(self):\n",
    "        return decode(additive_reconstruct(self.shares))\n",
    "    \n",
    "    def __repr__(self):\n",
    "        return \"Additive(%d)\" % self.reveal()\n",
    "    \n",
    "    def __add__(x, y):\n",
    "        z = Additive()\n",
    "        z.shares = additive_add(x.shares, y.shares)\n",
    "        return z\n",
    "    \n",
    "    def __sub__(x, y):\n",
    "        z = Additive()\n",
    "        z.shares = additive_sub(x.shares, y.shares)\n",
    "        return z\n",
    "\n",
    "x = Additive(5)\n",
    "print(x)\n",
    "\n",
    "y = Additive(8)\n",
    "print(y)\n",
    "\n",
    "z = x - y\n",
    "print(z)\n",
    "assert(z.reveal() == -3)"
   ]
  },
  {
   "cell_type": "markdown",
   "metadata": {},
   "source": [
    "# Polynomials"
   ]
  },
  {
   "cell_type": "code",
   "execution_count": 10,
   "metadata": {
    "collapsed": true
   },
   "outputs": [],
   "source": [
    "# using Horner's rule\n",
    "\n",
    "def evaluate_at_point(coefs, point):\n",
    "    result = 0\n",
    "    for coef in reversed(coefs):\n",
    "        result = (coef + point * result) % Q\n",
    "    return result"
   ]
  },
  {
   "cell_type": "code",
   "execution_count": 11,
   "metadata": {
    "collapsed": true
   },
   "outputs": [],
   "source": [
    "def egcd(a, b):\n",
    "    if a == 0:\n",
    "        return (b, 0, 1)\n",
    "    else:\n",
    "        g, y, x = egcd(b % a, a)\n",
    "        return (g, x - (b // a) * y, y)\n",
    "\n",
    "# from http://www.ucl.ac.uk/~ucahcjm/combopt/ext_gcd_python_programs.pdf\n",
    "def egcd_binary(a,b):\n",
    "    u, v, s, t, r = 1, 0, 0, 1, 0\n",
    "    while (a % 2 == 0) and (b % 2 == 0):\n",
    "        a, b, r = a//2, b//2, r+1\n",
    "    alpha, beta = a, b\n",
    "    while (a % 2 == 0):\n",
    "        a = a//2\n",
    "        if (u % 2 == 0) and (v % 2 == 0):\n",
    "            u, v = u//2, v//2\n",
    "        else:\n",
    "            u, v = (u + beta)//2, (v - alpha)//2\n",
    "    while a != b:\n",
    "        if (b % 2 == 0):\n",
    "            b = b//2\n",
    "            if (s % 2 == 0) and (t % 2 == 0):\n",
    "                s, t = s//2, t//2\n",
    "            else:\n",
    "                s, t = (s + beta)//2, (t - alpha)//2\n",
    "        elif b < a:\n",
    "            a, b, u, v, s, t = b, a, s, t, u, v\n",
    "        else:\n",
    "            b, s, t = b - a, s - u, t - v\n",
    "    return (2 ** r) * a, s, t\n",
    "\n",
    "\n",
    "def inverse(a):\n",
    "    _, b, _ = egcd_binary(a, Q)\n",
    "    return b"
   ]
  },
  {
   "cell_type": "code",
   "execution_count": 12,
   "metadata": {
    "collapsed": true
   },
   "outputs": [],
   "source": [
    "# see https://en.wikipedia.org/wiki/Lagrange_polynomial\n",
    "\n",
    "def lagrange_constants_for_point(points, point):\n",
    "    constants = [0] * len(points)\n",
    "    for i in range(len(points)):\n",
    "        xi = points[i]\n",
    "        num = 1\n",
    "        denum = 1\n",
    "        for j in range(len(points)):\n",
    "            if j != i:\n",
    "                xj = points[j]\n",
    "                num = (num * (xj - point)) % Q\n",
    "                denum = (denum * (xj - xi)) % Q\n",
    "        constants[i] = (num * inverse(denum)) % Q\n",
    "    return constants\n",
    "\n",
    "def interpolate_at_point(points_values, point):\n",
    "    points, values = zip(*points_values)\n",
    "    constants = lagrange_constants_for_point(points, point)\n",
    "    return sum( vi * ci for vi, ci in zip(values, constants) ) % Q"
   ]
  },
  {
   "cell_type": "markdown",
   "metadata": {},
   "source": [
    "# Shamir sharing"
   ]
  },
  {
   "cell_type": "code",
   "execution_count": 13,
   "metadata": {
    "collapsed": true
   },
   "outputs": [],
   "source": [
    "N = 10\n",
    "T = 4\n",
    "\n",
    "assert(T+1 <= N)"
   ]
  },
  {
   "cell_type": "code",
   "execution_count": 14,
   "metadata": {
    "collapsed": true
   },
   "outputs": [],
   "source": [
    "def sample_shamir_polynomial(zero_value):\n",
    "    coefs = [zero_value] + [random.randrange(Q) for _ in range(T)]\n",
    "    return coefs"
   ]
  },
  {
   "cell_type": "code",
   "execution_count": 15,
   "metadata": {
    "collapsed": true
   },
   "outputs": [],
   "source": [
    "SHARE_POINTS = [ p for p in range(1, N+1) ]\n",
    "assert(0 not in SHARE_POINTS)\n",
    "\n",
    "def shamir_share(secret):\n",
    "    polynomial = sample_shamir_polynomial(secret)\n",
    "    shares = [ evaluate_at_point(polynomial, p) for p in SHARE_POINTS ]\n",
    "    return shares\n",
    "\n",
    "def shamir_reconstruct(shares):\n",
    "    polynomial = [ (p,v) for p,v in zip(SHARE_POINTS, shares) if v is not None ]\n",
    "    secret = interpolate_at_point(polynomial, 0)\n",
    "    return secret\n",
    "\n",
    "shares = shamir_share(5)\n",
    "for i in range(N-(T+1)):\n",
    "    shares[i] = None\n",
    "#shares[-1] = None  # would fail; we need T+K points to reconstruct\n",
    "x = shamir_reconstruct(shares)\n",
    "assert(x == 5)"
   ]
  },
  {
   "cell_type": "code",
   "execution_count": 16,
   "metadata": {
    "collapsed": true
   },
   "outputs": [],
   "source": [
    "def shamir_add(x, y):\n",
    "    return [ (xi + yi) % Q for xi, yi in zip(x, y) ]\n",
    "\n",
    "def shamir_sub(x, y):\n",
    "    return [ (xi - yi) % Q for xi, yi in zip(x, y) ]"
   ]
  },
  {
   "cell_type": "code",
   "execution_count": 17,
   "metadata": {
    "collapsed": true
   },
   "outputs": [],
   "source": [
    "def shamir_mul(x, y):\n",
    "    return [ (xi * yi) % Q for xi, yi in zip(x, y) ]"
   ]
  },
  {
   "cell_type": "code",
   "execution_count": 18,
   "metadata": {},
   "outputs": [
    {
     "name": "stdout",
     "output_type": "stream",
     "text": [
      "Shamir(2)\n",
      "Shamir(3)\n",
      "Shamir(-1)\n",
      "Shamir(6)\n"
     ]
    }
   ],
   "source": [
    "class Shamir:\n",
    "    \n",
    "    def __init__(self, secret=None):\n",
    "        self.shares = shamir_share(encode(secret)) if secret is not None else []\n",
    "        self.degree = T\n",
    "    \n",
    "    def reveal(self):\n",
    "        assert(self.degree+1 <= N)\n",
    "        return decode(shamir_reconstruct(self.shares))\n",
    "    \n",
    "    def __repr__(self):\n",
    "        return \"Shamir(%d)\" % self.reveal()\n",
    "    \n",
    "    def __add__(x, y):\n",
    "        z = Shamir()\n",
    "        z.shares = shamir_add(x.shares, y.shares)\n",
    "        z.degree = max(x.degree, y.degree)\n",
    "        return z\n",
    "    \n",
    "    def __sub__(x, y):\n",
    "        z = Shamir()\n",
    "        z.shares = shamir_sub(x.shares, y.shares)\n",
    "        z.degree = max(x.degree, y.degree)\n",
    "        return z\n",
    "    \n",
    "    def __mul__(x, y):\n",
    "        z = Shamir()\n",
    "        z.shares = shamir_mul(x.shares, y.shares)\n",
    "        z.degree = x.degree + y.degree\n",
    "        return z\n",
    "    \n",
    "x = Shamir(2)\n",
    "print(x)\n",
    "\n",
    "y = Shamir(3)\n",
    "print(y)\n",
    "\n",
    "z = x - y\n",
    "print(z)\n",
    "assert(z.reveal() == -1)\n",
    "\n",
    "v = x * y\n",
    "print(v)\n",
    "assert(v.reveal() == 6)"
   ]
  },
  {
   "cell_type": "markdown",
   "metadata": {},
   "source": [
    "# Packed sharing"
   ]
  },
  {
   "cell_type": "code",
   "execution_count": 19,
   "metadata": {
    "collapsed": true
   },
   "outputs": [],
   "source": [
    "N = 20\n",
    "T = 8\n",
    "K = 2\n",
    "\n",
    "assert(T+K <= N)"
   ]
  },
  {
   "cell_type": "code",
   "execution_count": 20,
   "metadata": {
    "collapsed": true
   },
   "outputs": [],
   "source": [
    "SECRET_POINTS =     [ -p % Q for p in range(1, K+1) ]\n",
    "RANDOMNESS_POINTS = [ -p % Q for p in range(K+1, K+T+1) ]\n",
    "assert(set(SECRET_POINTS).intersection(RANDOMNESS_POINTS) == set())\n",
    "\n",
    "def sample_packed_polynomial(secrets):\n",
    "    assert(len(secrets) == K)\n",
    "    points = SECRET_POINTS + RANDOMNESS_POINTS\n",
    "    values = secrets + [ random.randrange(Q) for _ in range(T) ]\n",
    "    return list(zip(points, values))"
   ]
  },
  {
   "cell_type": "code",
   "execution_count": 21,
   "metadata": {
    "collapsed": true
   },
   "outputs": [],
   "source": [
    "SHARE_POINTS = [ p for p in range(1, N+1) ]\n",
    "assert(set(SHARE_POINTS).intersection(SECRET_POINTS) == set())\n",
    "assert(set(SHARE_POINTS).intersection(RANDOMNESS_POINTS) == set())\n",
    "\n",
    "def packed_share(secrets):\n",
    "    polynomial = sample_packed_polynomial(secrets)\n",
    "    shares = [ interpolate_at_point(polynomial, p) for p in SHARE_POINTS ]\n",
    "    return shares\n",
    "\n",
    "def packed_reconstruct(shares):\n",
    "    points = SHARE_POINTS\n",
    "    values = shares\n",
    "    polynomial = [ (p,v) for p,v in zip(points, values) if v is not None ]\n",
    "    secrets = [ interpolate_at_point(polynomial, p) for p in SECRET_POINTS ]\n",
    "    return secrets\n",
    "\n",
    "secrets = [5,6]\n",
    "shares = packed_share(secrets)\n",
    "for i in range(N-(T+K)):\n",
    "    shares[i] = None\n",
    "#shares[-1] = None  # would fail; we need T+K points to reconstruct\n",
    "reconstructed_secrets = packed_reconstruct(shares)\n",
    "assert(reconstructed_secrets == secrets)"
   ]
  },
  {
   "cell_type": "code",
   "execution_count": 22,
   "metadata": {
    "collapsed": true
   },
   "outputs": [],
   "source": [
    "def packed_add(x, y):\n",
    "    return [ (xi + yi) % Q for xi, yi in zip(x, y) ]\n",
    "\n",
    "def packed_sub(x, y):\n",
    "    return [ (xi - yi) % Q for xi, yi in zip(x, y) ]"
   ]
  },
  {
   "cell_type": "code",
   "execution_count": 23,
   "metadata": {
    "collapsed": true
   },
   "outputs": [],
   "source": [
    "def packed_mul(x, y):\n",
    "    return [ (xi * yi) % Q for xi, yi in zip(x, y) ]"
   ]
  },
  {
   "cell_type": "code",
   "execution_count": 24,
   "metadata": {},
   "outputs": [
    {
     "name": "stdout",
     "output_type": "stream",
     "text": [
      "Packed([2, 3])\n",
      "Packed([2, 3])\n",
      "Packed([0, 0])\n",
      "Packed([4, 9])\n"
     ]
    }
   ],
   "source": [
    "class Packed:\n",
    "    \n",
    "    def __init__(self, secrets=None):\n",
    "        self.shares = packed_share([ encode(s) for s in secrets ]) if secrets is not None else []\n",
    "        self.degree = T+K-1\n",
    "    \n",
    "    def reveal(self):\n",
    "        assert(self.degree+1 <= N)\n",
    "        #print(packed_reconstruct(self.shares))\n",
    "        return [ decode(s) for s in packed_reconstruct(self.shares) ]\n",
    "    \n",
    "    def __repr__(self):\n",
    "        return \"Packed(%s)\" % self.reveal()\n",
    "    \n",
    "    def __add__(x, y):\n",
    "        z = Packed()\n",
    "        z.shares = packed_add(x.shares, y.shares)\n",
    "        z.degree = max(x.degree, y.degree)\n",
    "        return z\n",
    "    \n",
    "    def __sub__(x, y):\n",
    "        z = Packed()\n",
    "        z.shares = packed_sub(x.shares, y.shares)\n",
    "        z.degree = max(x.degree, y.degree)\n",
    "        return z\n",
    "    \n",
    "    def __mul__(x, y):\n",
    "        z = Packed()\n",
    "        z.shares = packed_mul(x.shares, y.shares)\n",
    "        z.degree = x.degree + y.degree\n",
    "        return z\n",
    "    \n",
    "x = Packed([2,3])\n",
    "print(x)\n",
    "\n",
    "y = Packed([2,3])\n",
    "print(y)\n",
    "\n",
    "z = x - y\n",
    "print(z)\n",
    "assert(z.reveal() == [0,0])\n",
    "\n",
    "v = x * y\n",
    "print(v)\n",
    "assert(v.reveal() == [4,9])"
   ]
  },
  {
   "cell_type": "code",
   "execution_count": null,
   "metadata": {
    "collapsed": true
   },
   "outputs": [],
   "source": []
  }
 ],
 "metadata": {
  "kernelspec": {
   "display_name": "Python 3",
   "language": "python",
   "name": "python3"
  },
  "language_info": {
   "codemirror_mode": {
    "name": "ipython",
    "version": 3
   },
   "file_extension": ".py",
   "mimetype": "text/x-python",
   "name": "python",
   "nbconvert_exporter": "python",
   "pygments_lexer": "ipython3",
   "version": "3.6.1"
  }
 },
 "nbformat": 4,
 "nbformat_minor": 2
}
