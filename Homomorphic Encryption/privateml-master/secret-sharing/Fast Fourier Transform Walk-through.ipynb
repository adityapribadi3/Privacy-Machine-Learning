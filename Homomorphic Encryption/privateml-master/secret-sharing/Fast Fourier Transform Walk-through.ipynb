{
 "cells": [
  {
   "cell_type": "code",
   "execution_count": 1,
   "metadata": {
    "collapsed": true
   },
   "outputs": [],
   "source": [
    "def horner_evaluate(coeffs, point):\n",
    "    result = 0\n",
    "    for coef in reversed(coeffs):\n",
    "        result = (coef + point * result) % Q\n",
    "    return result"
   ]
  },
  {
   "cell_type": "code",
   "execution_count": 2,
   "metadata": {
    "collapsed": true
   },
   "outputs": [],
   "source": [
    "Q = 433"
   ]
  },
  {
   "cell_type": "markdown",
   "metadata": {},
   "source": [
    "## Polynomial A"
   ]
  },
  {
   "cell_type": "code",
   "execution_count": 3,
   "metadata": {},
   "outputs": [
    {
     "name": "stdout",
     "output_type": "stream",
     "text": [
      "[1, 179, 432, 254]\n"
     ]
    }
   ],
   "source": [
    "OMEGA4 = 179\n",
    "\n",
    "w = [ pow(OMEGA4, e, Q) for e in range(4) ]\n",
    "\n",
    "print(w)"
   ]
  },
  {
   "cell_type": "code",
   "execution_count": 4,
   "metadata": {
    "collapsed": true
   },
   "outputs": [],
   "source": [
    "A_coeffs = [ 1, 2, 3, 4 ]"
   ]
  },
  {
   "cell_type": "code",
   "execution_count": 5,
   "metadata": {
    "collapsed": true
   },
   "outputs": [],
   "source": [
    "A = lambda x: horner_evaluate(A_coeffs, x)\n",
    "\n",
    "assert([ A(wi) for wi in w ]\n",
    "    == [ 10, 73, 431, 356 ])"
   ]
  },
  {
   "cell_type": "code",
   "execution_count": 6,
   "metadata": {
    "collapsed": true
   },
   "outputs": [],
   "source": [
    "# split A into B and C\n",
    "B_coeffs = A_coeffs[0::2] # == [ 1,    3,   ]\n",
    "C_coeffs = A_coeffs[1::2] # == [    2,    4 ]\n",
    "\n",
    "v = [ wi * wi % Q for wi in w ]\n",
    "\n",
    "# compute values for B and C at v points\n",
    "B = lambda x: horner_evaluate(B_coeffs, x)\n",
    "C = lambda x: horner_evaluate(C_coeffs, x)\n",
    "B_values = [ B(vi) for vi in v ]\n",
    "C_values = [ C(vi) for vi in v ]\n",
    "assert( B_values == [ B(vi) for vi in v ] )\n",
    "assert( C_values == [ C(vi) for vi in v ] )\n",
    "\n",
    "# combine results into values for A at w points\n",
    "A_values = [ ( B_values[i] + w[i] * C_values[i] ) % Q for i,_ in enumerate(w) ]\n",
    "\n",
    "assert( A_values == [ A(wi) for wi in w ] )"
   ]
  },
  {
   "cell_type": "markdown",
   "metadata": {},
   "source": [
    "## Polynomial B and C"
   ]
  },
  {
   "cell_type": "code",
   "execution_count": 7,
   "metadata": {},
   "outputs": [
    {
     "name": "stdout",
     "output_type": "stream",
     "text": [
      "[1, 432, 1, 432]\n",
      "[1, 432]\n"
     ]
    }
   ],
   "source": [
    "OMEGA2 = OMEGA4 * OMEGA4 % Q\n",
    "\n",
    "w_squared = [ pow(OMEGA2, e, Q) for e in range(4) ]\n",
    "print(w_squared)\n",
    "\n",
    "v = [ pow(OMEGA2, e, Q) for e in range(2) ]\n",
    "print(v)"
   ]
  },
  {
   "cell_type": "markdown",
   "metadata": {},
   "source": [
    "## Order test"
   ]
  },
  {
   "cell_type": "code",
   "execution_count": 8,
   "metadata": {},
   "outputs": [
    {
     "name": "stdout",
     "output_type": "stream",
     "text": [
      "[1, 179, 432, 254, 1, 179, 432, 254]\n",
      "[1, 432, 1, 432, 1, 432, 1, 432]\n"
     ]
    }
   ],
   "source": [
    "print([ pow(OMEGA4, e, Q) for e in range(8) ])\n",
    "print([ pow(OMEGA2, e, Q) for e in range(8) ])"
   ]
  },
  {
   "cell_type": "code",
   "execution_count": null,
   "metadata": {
    "collapsed": true
   },
   "outputs": [],
   "source": []
  }
 ],
 "metadata": {
  "kernelspec": {
   "display_name": "Python 3",
   "language": "python",
   "name": "python3"
  },
  "language_info": {
   "codemirror_mode": {
    "name": "ipython",
    "version": 3
   },
   "file_extension": ".py",
   "mimetype": "text/x-python",
   "name": "python",
   "nbconvert_exporter": "python",
   "pygments_lexer": "ipython3",
   "version": "3.6.1"
  }
 },
 "nbformat": 4,
 "nbformat_minor": 2
}
