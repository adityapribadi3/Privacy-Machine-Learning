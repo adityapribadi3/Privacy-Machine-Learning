{
 "cells": [
  {
   "cell_type": "code",
   "execution_count": 1,
   "metadata": {
    "collapsed": true
   },
   "outputs": [],
   "source": [
    "from copy import copy\n",
    "import random"
   ]
  },
  {
   "cell_type": "markdown",
   "metadata": {},
   "source": [
    "# Base field arithmetic"
   ]
  },
  {
   "cell_type": "code",
   "execution_count": 2,
   "metadata": {
    "collapsed": true
   },
   "outputs": [],
   "source": [
    "PRIME = 433"
   ]
  },
  {
   "cell_type": "code",
   "execution_count": 3,
   "metadata": {
    "collapsed": true
   },
   "outputs": [],
   "source": [
    "def base_egcd(a, b):\n",
    "    r0, r1 = a, b\n",
    "    s0, s1 = 1, 0\n",
    "    t0, t1 = 0, 1\n",
    "    \n",
    "    while r1 != 0:\n",
    "        q, r2 = divmod(r0, r1)\n",
    "        r0, s0, t0, r1, s1, t1 = \\\n",
    "            r1, s1, t1, \\\n",
    "            r2, s0 - s1*q, t0 - t1*q\n",
    "\n",
    "    d = r0\n",
    "    s = s0\n",
    "    t = t0\n",
    "    return d, s, t"
   ]
  },
  {
   "cell_type": "code",
   "execution_count": 4,
   "metadata": {
    "collapsed": true
   },
   "outputs": [],
   "source": [
    "def base_inverse(a):\n",
    "    _, b, _ = base_egcd(a, PRIME)\n",
    "    return b if b >= 0 else b+PRIME"
   ]
  },
  {
   "cell_type": "code",
   "execution_count": 5,
   "metadata": {
    "collapsed": true
   },
   "outputs": [],
   "source": [
    "def base_add(a, b):\n",
    "    return (a + b) % PRIME"
   ]
  },
  {
   "cell_type": "code",
   "execution_count": 6,
   "metadata": {
    "collapsed": true
   },
   "outputs": [],
   "source": [
    "def base_sub(a, b):\n",
    "    return (a - b) % PRIME"
   ]
  },
  {
   "cell_type": "code",
   "execution_count": 7,
   "metadata": {
    "collapsed": true
   },
   "outputs": [],
   "source": [
    "def base_mul(a, b):\n",
    "    return (a * b) % PRIME"
   ]
  },
  {
   "cell_type": "code",
   "execution_count": 8,
   "metadata": {
    "collapsed": true
   },
   "outputs": [],
   "source": [
    "def base_div(a, b):\n",
    "    return base_mul(a, base_inverse(b))"
   ]
  },
  {
   "cell_type": "markdown",
   "metadata": {},
   "source": [
    "# Polynomial arithmetic"
   ]
  },
  {
   "cell_type": "code",
   "execution_count": 9,
   "metadata": {
    "collapsed": true
   },
   "outputs": [],
   "source": [
    "def expand_to_match(A, B):\n",
    "    diff = len(A) - len(B)\n",
    "    if diff > 0:\n",
    "        return A, B + [0] * diff\n",
    "    elif diff < 0:\n",
    "        diff = abs(diff)\n",
    "        return A + [0] * diff, B\n",
    "    else:\n",
    "        return A, B\n",
    "\n",
    "assert( expand_to_match([1,1], [])  == ([1,1], [0,0]) )\n",
    "assert( expand_to_match([1,1], [1]) == ([1,1], [1,0]) )"
   ]
  },
  {
   "cell_type": "code",
   "execution_count": 10,
   "metadata": {
    "collapsed": true
   },
   "outputs": [],
   "source": [
    "def canonical(A):\n",
    "    for i in reversed(range(len(A))):\n",
    "        if A[i] != 0:\n",
    "            return A[:i+1]\n",
    "    return []\n",
    "\n",
    "assert( canonical([ ]) == [] )\n",
    "assert( canonical([0]) == [] )\n",
    "assert( canonical([0,0]) == [] )\n",
    "assert( canonical([0,1,2]) == [0,1,2] )\n",
    "assert( canonical([0,1,2,0,0]) == [0,1,2] )"
   ]
  },
  {
   "cell_type": "code",
   "execution_count": 11,
   "metadata": {
    "collapsed": true
   },
   "outputs": [],
   "source": [
    "def lc(A):\n",
    "    B = canonical(A)\n",
    "    return B[-1]\n",
    "\n",
    "assert( lc([0,1,2,0]) == 2 )"
   ]
  },
  {
   "cell_type": "code",
   "execution_count": 12,
   "metadata": {
    "collapsed": true
   },
   "outputs": [],
   "source": [
    "def deg(A):\n",
    "    return len(canonical(A)) - 1\n",
    "\n",
    "assert( deg([ ]) == -1 )\n",
    "assert( deg([0]) == -1 )\n",
    "assert( deg([1,0]) == 0 )\n",
    "assert( deg([0,0,1]) == 2 )"
   ]
  },
  {
   "cell_type": "code",
   "execution_count": 13,
   "metadata": {
    "collapsed": true
   },
   "outputs": [],
   "source": [
    "def poly_add(A, B):\n",
    "    F, G = expand_to_match(A, B)\n",
    "    return canonical([ base_add(f, g) for f, g in zip(F, G) ])\n",
    "\n",
    "assert( poly_add([1,2,3], [2,1]) == [3,3,3] )"
   ]
  },
  {
   "cell_type": "code",
   "execution_count": 14,
   "metadata": {
    "collapsed": true
   },
   "outputs": [],
   "source": [
    "def poly_sub(A, B):\n",
    "    F, G = expand_to_match(A, B)\n",
    "    return canonical([ base_sub(f, g) for f, g in zip(F, G) ])\n",
    "\n",
    "assert( poly_sub([1,2,3], [1,2]) == [0,0,3] )"
   ]
  },
  {
   "cell_type": "code",
   "execution_count": 15,
   "metadata": {
    "collapsed": true
   },
   "outputs": [],
   "source": [
    "def poly_scalarmul(A, b):\n",
    "    return canonical([ base_mul(a, b) for a in A ])\n",
    "\n",
    "def poly_scalardiv(A, b):\n",
    "    return canonical([ base_div(a, b) for a in A ])"
   ]
  },
  {
   "cell_type": "code",
   "execution_count": 16,
   "metadata": {
    "collapsed": true
   },
   "outputs": [],
   "source": [
    "def poly_mul(A, B):\n",
    "    C = [0] * (len(A) + len(B) - 1)\n",
    "    for i in range(len(A)):\n",
    "        for j in range(len(B)):\n",
    "            C[i+j] = base_add(C[i+j], base_mul(A[i], B[j]))\n",
    "    return canonical(C)"
   ]
  },
  {
   "cell_type": "code",
   "execution_count": 17,
   "metadata": {
    "collapsed": true
   },
   "outputs": [],
   "source": [
    "def poly_divmod(A, B):\n",
    "    t = base_inverse(lc(B))\n",
    "    Q = [0] * len(A)\n",
    "    R = copy(A)\n",
    "    for i in reversed(range(0, len(A) - len(B) + 1)):\n",
    "        Q[i] = base_mul(t, R[i + len(B) - 1])\n",
    "        for j in range(len(B)):\n",
    "            R[i+j] = base_sub(R[i+j], base_mul(Q[i], B[j]))\n",
    "    return canonical(Q), canonical(R)\n",
    "\n",
    "A = [7,4,5,4]\n",
    "B = [1,0,1]\n",
    "Q, R = poly_divmod(A, B)\n",
    "assert( poly_add(poly_mul(Q, B), R) == A )"
   ]
  },
  {
   "cell_type": "code",
   "execution_count": 18,
   "metadata": {
    "collapsed": true
   },
   "outputs": [],
   "source": [
    "def poly_div(A, B):\n",
    "    Q, _ = poly_divmod(A, B)\n",
    "    return Q\n",
    "\n",
    "def poly_mod(A, B):\n",
    "    _, R = poly_divmod(A, B)\n",
    "    return R"
   ]
  },
  {
   "cell_type": "markdown",
   "metadata": {},
   "source": [
    "# Polynomial evaluation"
   ]
  },
  {
   "cell_type": "code",
   "execution_count": 19,
   "metadata": {
    "collapsed": true
   },
   "outputs": [],
   "source": [
    "def poly_eval(A, x):\n",
    "    result = 0\n",
    "    for coef in reversed(A):\n",
    "        result = base_add(coef, base_mul(x, result))\n",
    "    return result"
   ]
  },
  {
   "cell_type": "markdown",
   "metadata": {},
   "source": [
    "# Polynomial interpolation"
   ]
  },
  {
   "cell_type": "code",
   "execution_count": 20,
   "metadata": {
    "collapsed": true
   },
   "outputs": [],
   "source": [
    "def lagrange_polynomials(xs):\n",
    "    polys = []\n",
    "    for i, xi in enumerate(xs):\n",
    "        numerator = [1]\n",
    "        denominator = 1\n",
    "        for j, xj in enumerate(xs):\n",
    "            if i == j: continue\n",
    "            numerator   = poly_mul(numerator, [base_sub(0, xj), 1])\n",
    "            denominator = base_mul(denominator, base_sub(xi, xj))\n",
    "        poly = poly_scalardiv(numerator, denominator)\n",
    "        polys.append(poly)\n",
    "    return polys"
   ]
  },
  {
   "cell_type": "code",
   "execution_count": 21,
   "metadata": {
    "collapsed": true
   },
   "outputs": [],
   "source": [
    "def lagrange_interpolation(xs, ys):\n",
    "    ls = lagrange_polynomials(xs)\n",
    "    poly = []\n",
    "    for i in range(len(ys)):\n",
    "        term = poly_scalarmul(ls[i], ys[i])\n",
    "        poly = poly_add(poly, term)\n",
    "    return poly"
   ]
  },
  {
   "cell_type": "code",
   "execution_count": 22,
   "metadata": {
    "collapsed": true
   },
   "outputs": [],
   "source": [
    "F = [1,2,3]\n",
    "\n",
    "xs = [10,20,30,40]\n",
    "ys = [ poly_eval(F, x) for x in xs ]\n",
    "\n",
    "G = lagrange_interpolation(xs, ys)\n",
    "assert( G == F )"
   ]
  },
  {
   "cell_type": "markdown",
   "metadata": {},
   "source": [
    "# Reed-Solomon decoding via EGCD"
   ]
  },
  {
   "cell_type": "code",
   "execution_count": 23,
   "metadata": {
    "collapsed": true
   },
   "outputs": [],
   "source": [
    "def poly_gcd(A, B):\n",
    "    R0, R1 = A, B\n",
    "    while R1 != []:\n",
    "        R2 = poly_mod(R0, R1)\n",
    "        R0, R1 = R1, R2\n",
    "    D = poly_scalardiv(R0, lc(R0))\n",
    "    return D"
   ]
  },
  {
   "cell_type": "code",
   "execution_count": 24,
   "metadata": {
    "collapsed": true
   },
   "outputs": [],
   "source": [
    "def poly_egcd(A, B):\n",
    "    R0, R1 = A, B\n",
    "    S0, S1 = [1], []\n",
    "    T0, T1 = [], [1]\n",
    "    \n",
    "    while R1 != []:\n",
    "        Q, R2 = poly_divmod(R0, R1)\n",
    "        \n",
    "        R0, S0, T0, R1, S1, T1 = \\\n",
    "            R1, S1, T1, \\\n",
    "            R2, poly_sub(S0, poly_mul(S1, Q)), poly_sub(T0, poly_mul(T1, Q))\n",
    "            \n",
    "    c = lc(R0)\n",
    "    D = poly_scalardiv(R0, c)\n",
    "    S = poly_scalardiv(S0, c)\n",
    "    T = poly_scalardiv(T0, c)\n",
    "    return D, S, T\n",
    "\n",
    "A = [2,0,2]\n",
    "B = [1,3]\n",
    "G = [1,0,0,1]\n",
    "assert( poly_gcd(A, B) == [1] )\n",
    "assert( poly_gcd(A, G) == [1] )\n",
    "assert( poly_gcd(B, G) == [1] )\n",
    "\n",
    "F = poly_mul(G, A)\n",
    "H = poly_mul(G, B)\n",
    "D, S, T = poly_egcd(F, H)\n",
    "assert( D == poly_gcd(F, H) )\n",
    "assert( D == poly_add(poly_mul(F, S), poly_mul(H, T)) )"
   ]
  },
  {
   "cell_type": "code",
   "execution_count": 25,
   "metadata": {
    "collapsed": true
   },
   "outputs": [],
   "source": [
    "def poly_eea(F, H):\n",
    "    R0, R1 = F, H\n",
    "    S0, S1 = [1], []\n",
    "    T0, T1 = [], [1]\n",
    "    \n",
    "    triples = []\n",
    "    \n",
    "    while R1 != []:\n",
    "        Q, R2 = poly_divmod(R0, R1)\n",
    "        \n",
    "        triples.append( (R0, S0, T0) )\n",
    "        \n",
    "        R0, S0, T0, R1, S1, T1 = \\\n",
    "            R1, S1, T1, \\\n",
    "            R2, poly_sub(S0, poly_mul(S1, Q)), poly_sub(T0, poly_mul(T1, Q))\n",
    "            \n",
    "    return triples"
   ]
  },
  {
   "cell_type": "code",
   "execution_count": 26,
   "metadata": {
    "collapsed": true
   },
   "outputs": [],
   "source": [
    "def gao_decoding(points, values, max_degree, max_error_count):\n",
    "    assert(len(values) == len(points))\n",
    "    assert(len(points) >= 2*max_error_count + max_degree)\n",
    "    \n",
    "    # interpolate faulty polynomial\n",
    "    H = lagrange_interpolation(points, values)\n",
    "    \n",
    "    # compute f\n",
    "    F = [1]\n",
    "    for xi in points:\n",
    "        Fi = [base_sub(0, xi), 1]\n",
    "        F = poly_mul(F, Fi)\n",
    "    \n",
    "    # run EEA-like algorithm on (F,H) to find EEA triple\n",
    "    R0, R1 = F, H\n",
    "    S0, S1 = [1], []\n",
    "    T0, T1 = [], [1]\n",
    "    while True:\n",
    "        Q, R2 = poly_divmod(R0, R1)\n",
    "        \n",
    "        if deg(R0) < max_degree + max_error_count:\n",
    "            G, leftover = poly_divmod(R0, T0)\n",
    "            if leftover == []:\n",
    "                decoded_polynomial = G\n",
    "                error_locator = T0\n",
    "                return decoded_polynomial, error_locator\n",
    "            else:\n",
    "                return None\n",
    "        \n",
    "        R0, S0, T0, R1, S1, T1 = \\\n",
    "            R1, S1, T1, \\\n",
    "            R2, poly_sub(S0, poly_mul(S1, Q)), poly_sub(T0, poly_mul(T1, Q))"
   ]
  },
  {
   "cell_type": "markdown",
   "metadata": {},
   "source": [
    "# Application to Secret Sharing\n",
    "\n",
    "Using it Shamir's scheme here but it generalises to the packed variant naturally."
   ]
  },
  {
   "cell_type": "code",
   "execution_count": 27,
   "metadata": {
    "collapsed": true
   },
   "outputs": [],
   "source": [
    "K = 1 # fixed in Shamir's scheme\n",
    "\n",
    "N = 15\n",
    "T = 5\n",
    "R = T+K\n",
    "assert(R <= N)\n",
    "\n",
    "MAX_MISSING = 3\n",
    "MAX_MANIPULATED = 3\n",
    "assert(R + MAX_MISSING + 2*MAX_MANIPULATED <= N)\n",
    "\n",
    "POINTS = [ p for p in range(1, N+1) ]\n",
    "assert(0 not in POINTS)\n",
    "assert(len(POINTS) == N)"
   ]
  },
  {
   "cell_type": "code",
   "execution_count": 28,
   "metadata": {
    "collapsed": true
   },
   "outputs": [],
   "source": [
    "def shamir_share(secret):\n",
    "    polynomial = [secret] + [random.randrange(PRIME) for _ in range(T)]\n",
    "    shares = [ poly_eval(polynomial, p) for p in POINTS ]\n",
    "    return shares\n",
    "\n",
    "def shamir_robust_reconstruct(shares):\n",
    "    assert(len(shares) == N)\n",
    "    \n",
    "    # filter missing shares\n",
    "    points_values = [ (p,v) for p,v in zip(POINTS, shares) if v is not None ]\n",
    "    assert(len(points_values) >= N - MAX_MISSING)\n",
    "    \n",
    "    # decode remaining faulty\n",
    "    points, values = zip(*points_values)\n",
    "    polynomial, error_locator = gao_decoding(points, values, R, MAX_MANIPULATED)\n",
    "    \n",
    "    # check if recovery was possible\n",
    "    if polynomial is None: raise Exception(\"Too many errors, cannot reconstruct\")\n",
    "\n",
    "    # recover secret\n",
    "    secret = poly_eval(polynomial, 0)\n",
    "    \n",
    "    # find error indices\n",
    "    error_indices = [ i for i,v in enumerate( poly_eval(error_locator, p) for p in POINTS ) if v == 0 ]\n",
    "\n",
    "    return secret, error_indices"
   ]
  },
  {
   "cell_type": "code",
   "execution_count": 29,
   "metadata": {},
   "outputs": [
    {
     "name": "stdout",
     "output_type": "stream",
     "text": [
      "Original shares: [25, 208, 143, 27, 327, 143, 334, 149, 353, 291, 148, 178, 366, 90, 381]\n",
      "Received shares: [25, 89, 143, None, None, 143, 407, 149, 353, 241, 148, 178, None, 90, 381]\n"
     ]
    }
   ],
   "source": [
    "# sharing\n",
    "original_shares = shamir_share(5)\n",
    "print(\"Original shares: %s\" % original_shares)\n",
    "\n",
    "# introduce faults in shares\n",
    "received_shares = copy(original_shares)\n",
    "indices = random.sample(range(N), MAX_MISSING + MAX_MANIPULATED)\n",
    "missing, manipulated = indices[:MAX_MISSING], indices[MAX_MISSING:]\n",
    "for i in missing:     received_shares[i] = None\n",
    "for i in manipulated: received_shares[i] = random.randrange(PRIME)\n",
    "print(\"Received shares: %s\" % received_shares)\n",
    "\n",
    "# robust reconstruction\n",
    "recovered_secret, error_indices = shamir_robust_reconstruct(received_shares)\n",
    "assert(recovered_secret == 5)\n",
    "assert(sorted(error_indices) == sorted(manipulated))"
   ]
  },
  {
   "cell_type": "code",
   "execution_count": null,
   "metadata": {
    "collapsed": true
   },
   "outputs": [],
   "source": []
  }
 ],
 "metadata": {
  "kernelspec": {
   "display_name": "Python 3",
   "language": "python",
   "name": "python3"
  },
  "language_info": {
   "codemirror_mode": {
    "name": "ipython",
    "version": 3
   },
   "file_extension": ".py",
   "mimetype": "text/x-python",
   "name": "python",
   "nbconvert_exporter": "python",
   "pygments_lexer": "ipython3",
   "version": "3.4.3"
  }
 },
 "nbformat": 4,
 "nbformat_minor": 2
}
