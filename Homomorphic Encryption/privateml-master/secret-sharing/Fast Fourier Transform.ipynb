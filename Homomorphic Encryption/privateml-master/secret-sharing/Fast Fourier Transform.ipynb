{
 "cells": [
  {
   "cell_type": "code",
   "execution_count": 1,
   "metadata": {
    "collapsed": true
   },
   "outputs": [],
   "source": [
    "import random"
   ]
  },
  {
   "cell_type": "markdown",
   "metadata": {},
   "source": [
    "# Primes"
   ]
  },
  {
   "cell_type": "code",
   "execution_count": 2,
   "metadata": {
    "collapsed": true
   },
   "outputs": [],
   "source": [
    "SMALL_PRIMES = [2, 3, 5, 7, 11, 13, 17, 19, 23, 29, 31, 37, 41, 43, 47, 53, 59, 61, 67, 71, 73, 79, 83, 89, 97, 101, 103, 107, 109, 113, 127, 131, 137, 139, 149, 151, 157, 163, 167, 173, 179, 181, 191, 193, 197, 199, 211, 223, 227, 229, 233, 239, 241, 251, 257, 263, 269, 271, 277, 281, 283, 293, 307, 311, 313, 317, 331, 337, 347, 349, 353, 359, 367, 373, 379, 383, 389, 397, 401, 409, 419, 421, 431, 433, 439, 443, 449, 457, 461, 463, 467, 479, 487, 491, 499, 503, 509, 521, 523, 541, 547, 557, 563, 569, 571, 577, 587, 593, 599, 601, 607, 613, 617, 619, 631, 641, 643, 647, 653, 659, 661, 673, 677, 683, 691, 701, 709, 719, 727, 733, 739, 743, 751, 757, 761, 769, 773, 787, 797, 809, 811, 821, 823, 827, 829, 839, 853, 857, 859, 863, 877, 881, 883, 887, 907, 911, 919, 929, 937, 941, 947, 953, 967, 971, 977, 983, 991, 997]"
   ]
  },
  {
   "cell_type": "code",
   "execution_count": 3,
   "metadata": {
    "collapsed": true
   },
   "outputs": [],
   "source": [
    "# see https://inventwithpython.com/rabinMiller.py\n",
    "\n",
    "def rewrite(num):\n",
    "    s = num - 1\n",
    "    t = 0\n",
    "    while s % 2 == 0:\n",
    "        s = s // 2\n",
    "        t += 1\n",
    "    return s, t\n",
    "\n",
    "def rabin_miller(num, iterations=10):\n",
    "    s, t = rewrite(num)\n",
    "    for _ in range(iterations):\n",
    "        a = random.randrange(2, num - 1)\n",
    "        v = pow(a, s, num)\n",
    "        if v != 1:\n",
    "            i = 0\n",
    "            while v != (num - 1):\n",
    "                if i == t - 1:\n",
    "                    return False\n",
    "                else:\n",
    "                    i = i + 1\n",
    "                    v = pow(v, 2, num)\n",
    "    return True"
   ]
  },
  {
   "cell_type": "code",
   "execution_count": 4,
   "metadata": {
    "collapsed": true
   },
   "outputs": [],
   "source": [
    "def is_prime(num):\n",
    "    if (num < 2): return False\n",
    "    for prime in SMALL_PRIMES:\n",
    "        if num == prime: return True\n",
    "        if num % prime == 0: return False\n",
    "    return rabin_miller(num)\n",
    "\n",
    "assert(not is_prime(1))\n",
    "assert(    is_prime(2))\n",
    "assert(    is_prime(3))\n",
    "assert(not is_prime(4))\n",
    "assert(    is_prime(5))\n",
    "assert(not is_prime(6))\n",
    "assert(    is_prime(7))\n",
    "assert(not is_prime(8))\n",
    "assert(not is_prime(9))"
   ]
  },
  {
   "cell_type": "markdown",
   "metadata": {},
   "source": [
    "# Parameter generation"
   ]
  },
  {
   "cell_type": "code",
   "execution_count": 5,
   "metadata": {
    "collapsed": true
   },
   "outputs": [],
   "source": [
    "def is_power_of(x, base):\n",
    "    p = 1\n",
    "    while p < x:\n",
    "        p = p * base\n",
    "    return p == x\n",
    "\n",
    "assert(not is_power_of(0, 2))\n",
    "assert(    is_power_of(1, 2))\n",
    "assert(    is_power_of(2, 2))\n",
    "assert(not is_power_of(3, 2))\n",
    "assert(    is_power_of(4, 2))\n",
    "assert(not is_power_of(5, 2))\n",
    "assert(not is_power_of(6, 2))\n",
    "assert(not is_power_of(7, 2))\n",
    "assert(    is_power_of(8, 2))\n",
    "assert(not is_power_of(9, 2))\n",
    "\n",
    "assert(not is_power_of(0, 3))\n",
    "assert(    is_power_of(1, 3))\n",
    "assert(not is_power_of(2, 3))\n",
    "assert(    is_power_of(3, 3))\n",
    "assert(not is_power_of(4, 3))\n",
    "assert(not is_power_of(5, 3))\n",
    "assert(not is_power_of(6, 3))\n",
    "assert(not is_power_of(7, 3))\n",
    "assert(not is_power_of(8, 3))\n",
    "assert(    is_power_of(9, 3))"
   ]
  },
  {
   "cell_type": "code",
   "execution_count": 6,
   "metadata": {
    "collapsed": true
   },
   "outputs": [],
   "source": [
    "def sample_prime(bitsize):\n",
    "    lower = 1 << (bitsize-1)\n",
    "    upper = 1 << (bitsize)\n",
    "    while True:\n",
    "        candidate = random.randrange(lower, upper)\n",
    "        if is_prime(candidate):\n",
    "            return candidate\n",
    "\n",
    "assert(is_prime(sample_prime(5)))\n",
    "assert(is_prime(sample_prime(128)))"
   ]
  },
  {
   "cell_type": "code",
   "execution_count": 7,
   "metadata": {
    "collapsed": true
   },
   "outputs": [],
   "source": [
    "def remove_factor(x, factor):\n",
    "    while x % factor == 0:\n",
    "        x //= factor\n",
    "    return x\n",
    "    \n",
    "assert(remove_factor(1, 2) == 1)\n",
    "assert(remove_factor(2, 2) == 1)\n",
    "assert(remove_factor(3, 2) == 3)\n",
    "assert(remove_factor(4, 2) == 1)\n",
    "\n",
    "def prime_factor(x):\n",
    "    factors = []\n",
    "    for prime in SMALL_PRIMES:\n",
    "        if prime > x: break\n",
    "        if x % prime == 0:\n",
    "            factors.append(prime)\n",
    "            x = remove_factor(x, prime)\n",
    "    assert(x == 1) # fail if we were trying to factor a too large number\n",
    "    return factors\n",
    "\n",
    "assert(prime_factor(1) == [])\n",
    "assert(prime_factor(2) == [2])\n",
    "assert(prime_factor(3) == [3])\n",
    "assert(prime_factor(4) == [2])\n",
    "assert(prime_factor(5) == [5])\n",
    "assert(prime_factor(6) == [2,3])\n",
    "assert(prime_factor(7) == [7])\n",
    "assert(prime_factor(8) == [2])\n",
    "assert(prime_factor(9) == [3])"
   ]
  },
  {
   "cell_type": "code",
   "execution_count": 8,
   "metadata": {
    "collapsed": true
   },
   "outputs": [],
   "source": [
    "def find_prime(min_bitsize, order_divisor):\n",
    "    while True:\n",
    "        k1 = sample_prime(min_bitsize)\n",
    "        for k2 in range(128):\n",
    "            q = k1 * k2 * order_divisor + 1\n",
    "            if is_prime(q):\n",
    "                order_prime_factors  = [k1]\n",
    "                order_prime_factors += prime_factor(k2)\n",
    "                order_prime_factors += prime_factor(order_divisor)\n",
    "                return q, order_prime_factors\n",
    "\n",
    "def find_generator(q, order_prime_factors):\n",
    "    order = q - 1\n",
    "    for candidate in range(2, q):\n",
    "        for factor in order_prime_factors:\n",
    "            exponent = order // factor\n",
    "            if pow(candidate, exponent, q) == 1:\n",
    "                break\n",
    "        else:\n",
    "            return candidate\n",
    "            \n",
    "def find_prime_field(min_bitsize, order_divisor):\n",
    "    q, order_prime_factors = find_prime(min_bitsize, order_divisor)\n",
    "    g = find_generator(q, order_prime_factors)\n",
    "    return q, g\n",
    "\n",
    "assert(find_prime_field(2, 8*9) == (433, 5))"
   ]
  },
  {
   "cell_type": "code",
   "execution_count": 9,
   "metadata": {},
   "outputs": [],
   "source": [
    "def generate_parameters(min_bitsize, order2, order3):\n",
    "    assert(is_power_of(order2, 2))\n",
    "    assert(is_power_of(order3, 3))\n",
    "    \n",
    "    order_divisor = order2 * order3\n",
    "    q, g = find_prime_field(min_bitsize, order_divisor)\n",
    "    assert(is_prime(q))\n",
    "    \n",
    "    order = q - 1\n",
    "    assert(order % order2 == 0)\n",
    "    assert(order % order3 == 0)\n",
    "    omega2 = pow(g, order // order2, q)\n",
    "    omega3 = pow(g, order // order3, q)\n",
    "    \n",
    "    return q, omega2, omega3\n",
    "    \n",
    "assert(generate_parameters(2, 8, 9) == (433, 354, 150))"
   ]
  },
  {
   "cell_type": "markdown",
   "metadata": {},
   "source": [
    "### Either generate new parameters ..."
   ]
  },
  {
   "cell_type": "code",
   "execution_count": 10,
   "metadata": {},
   "outputs": [
    {
     "name": "stdout",
     "output_type": "stream",
     "text": [
      "Prime is 10931067715358518584417802183681\n",
      "512-th principal root of unity is 1452790765625403579292312919844\n",
      "729-th principal root of unity is 10486827228965628789878829027445\n"
     ]
    }
   ],
   "source": [
    "ORDER2 = 512\n",
    "ORDER3 = 729\n",
    "Q, OMEGA2, OMEGA3 = generate_parameters(80, ORDER2, ORDER3)\n",
    "\n",
    "print(\"Prime is %d\" % Q)\n",
    "print(\"%d-th principal root of unity is %d\" % (ORDER2, OMEGA2))\n",
    "print(\"%d-th principal root of unity is %d\" % (ORDER3, OMEGA3))"
   ]
  },
  {
   "cell_type": "markdown",
   "metadata": {},
   "source": [
    "### .. or use a fixed choice ..."
   ]
  },
  {
   "cell_type": "code",
   "execution_count": 11,
   "metadata": {
    "collapsed": true
   },
   "outputs": [],
   "source": [
    "ORDER2 = 8\n",
    "ORDER3 = 9\n",
    "\n",
    "Q = 433\n",
    "OMEGA2 = 354\n",
    "OMEGA3 = 150"
   ]
  },
  {
   "cell_type": "markdown",
   "metadata": {},
   "source": [
    "### ... but in both cases the following should hold"
   ]
  },
  {
   "cell_type": "code",
   "execution_count": 12,
   "metadata": {
    "collapsed": true
   },
   "outputs": [],
   "source": [
    "assert(is_prime(Q))\n",
    "\n",
    "assert(is_power_of(ORDER2, 2))\n",
    "assert(is_power_of(ORDER3, 3))\n",
    "\n",
    "ORDER = Q - 1\n",
    "assert(ORDER % ORDER2 == 0)\n",
    "assert(ORDER % ORDER3 == 0)\n",
    "\n",
    "assert(pow(OMEGA2, ORDER2, Q) == 1) # root of unity\n",
    "assert(1 not in ( pow(OMEGA2, e, Q) for e in range(1, ORDER2) )) # principal \n",
    "\n",
    "assert(pow(OMEGA3, ORDER3, Q) == 1) # root of unity\n",
    "assert(1 not in ( pow(OMEGA3, e, Q) for e in range(1, ORDER3) )) # principal"
   ]
  },
  {
   "cell_type": "markdown",
   "metadata": {},
   "source": [
    "# Basic algorithms"
   ]
  },
  {
   "cell_type": "code",
   "execution_count": 13,
   "metadata": {
    "collapsed": true
   },
   "outputs": [],
   "source": [
    "# from http://www.ucl.ac.uk/~ucahcjm/combopt/ext_gcd_python_programs.pdf\n",
    "def egcd_binary(a, b):\n",
    "    u, v, s, t, r = 1, 0, 0, 1, 0\n",
    "    while (a % 2 == 0) and (b % 2 == 0):\n",
    "        a, b, r = a//2, b//2, r+1\n",
    "    alpha, beta = a, b\n",
    "    while (a % 2 == 0):\n",
    "        a = a//2\n",
    "        if (u % 2 == 0) and (v % 2 == 0):\n",
    "            u, v = u//2, v//2\n",
    "        else:\n",
    "            u, v = (u + beta)//2, (v - alpha)//2\n",
    "    while a != b:\n",
    "        if (b % 2 == 0):\n",
    "            b = b//2\n",
    "            if (s % 2 == 0) and (t % 2 == 0):\n",
    "                s, t = s//2, t//2\n",
    "            else:\n",
    "                s, t = (s + beta)//2, (t - alpha)//2\n",
    "        elif b < a:\n",
    "            a, b, u, v, s, t = b, a, s, t, u, v\n",
    "        else:\n",
    "            b, s, t = b - a, s - u, t - v\n",
    "    return (2 ** r) * a, s, t\n",
    "\n",
    "\n",
    "def inverse(a):\n",
    "    _, b, _ = egcd_binary(a, Q)\n",
    "    return b\n",
    "\n",
    "\n",
    "for a in range(1, min(Q, 1000000)):\n",
    "    assert(a * inverse(a) % Q == 1)"
   ]
  },
  {
   "cell_type": "code",
   "execution_count": 14,
   "metadata": {
    "collapsed": true
   },
   "outputs": [],
   "source": [
    "def eval_poly_at(coefs, point):\n",
    "    return sum( coef * pow(point, degree, Q) % Q for degree, coef in enumerate(coefs) ) % Q\n",
    "\n",
    "if Q > 17:\n",
    "    assert(eval_poly_at([1,2,3], 0) == 1 % Q)\n",
    "    assert(eval_poly_at([1,2,3], 1) == 6 % Q)\n",
    "    assert(eval_poly_at([1,2,3], 2) == 17 % Q)"
   ]
  },
  {
   "cell_type": "markdown",
   "metadata": {},
   "source": [
    "# Fast Fourier Transform (unoptimised)"
   ]
  },
  {
   "cell_type": "code",
   "execution_count": 15,
   "metadata": {
    "collapsed": true
   },
   "outputs": [],
   "source": [
    "# len(A_coeffs) must be a power of 2\n",
    "def fft2_forward(A_coeffs, omega=OMEGA2):\n",
    "    if len(A_coeffs) == 1:\n",
    "        return A_coeffs\n",
    "\n",
    "    # split A into B and C such that A(x) = B(x^2) + x C(x^2)\n",
    "    B_coeffs = A_coeffs[0::2]\n",
    "    C_coeffs = A_coeffs[1::2]\n",
    "    \n",
    "    # apply recursively\n",
    "    omega_squared = pow(omega, 2, Q)\n",
    "    B_values = fft2_forward(B_coeffs, omega_squared)\n",
    "    C_values = fft2_forward(C_coeffs, omega_squared)\n",
    "        \n",
    "    # combine subresults\n",
    "    A_values = [0] * len(A_coeffs)\n",
    "    L_half = len(A_coeffs) // 2\n",
    "    for i in range(0, L_half):\n",
    "        \n",
    "        j = i\n",
    "        x = pow(omega, j, Q)\n",
    "        A_values[j] = (B_values[i] + x * C_values[i]) % Q\n",
    "        \n",
    "        j = i + L_half\n",
    "        x = pow(omega, j, Q)\n",
    "        A_values[j] = (B_values[i] + x * C_values[i]) % Q\n",
    "        \n",
    "    return A_values\n",
    "\n",
    "def fft2_backward(A_values):\n",
    "    L_inv = inverse(len(A_values))\n",
    "    A_coeffs = [ (a * L_inv) % Q for a in fft2_forward(A_values, inverse(OMEGA2)) ]\n",
    "    return A_coeffs\n",
    "\n",
    "\n",
    "coefs = [ x for x in range(ORDER2) ]\n",
    "assert(len(coefs) == ORDER2)\n",
    "\n",
    "values = fft2_forward(coefs)\n",
    "assert(len(values) == ORDER2)\n",
    "assert(values == [ eval_poly_at(coefs, pow(OMEGA2, degree, Q)) for degree in range(ORDER2) ])\n",
    "\n",
    "coefs_recovered = fft2_backward(values)\n",
    "assert(coefs == coefs_recovered)"
   ]
  },
  {
   "cell_type": "code",
   "execution_count": 16,
   "metadata": {
    "collapsed": true
   },
   "outputs": [],
   "source": [
    "# len(A_coeffs) must be a power of 3\n",
    "def fft3_forward(A_coeffs, omega=OMEGA3):\n",
    "    if len(A_coeffs) == 1:\n",
    "        return A_coeffs\n",
    "\n",
    "    # split A(x) into B(x), C(x), and D(x) such that A(x) = B(x^3) + x C(x^3) + x^2 D(x^3)\n",
    "    B_coeffs = A_coeffs[0::3]\n",
    "    C_coeffs = A_coeffs[1::3]\n",
    "    D_coeffs = A_coeffs[2::3]\n",
    "    \n",
    "    # apply recursively\n",
    "    omega_cubed = pow(omega, 3, Q)\n",
    "    B_values = fft3_forward(B_coeffs, omega_cubed)\n",
    "    C_values = fft3_forward(C_coeffs, omega_cubed)\n",
    "    D_values = fft3_forward(D_coeffs, omega_cubed)\n",
    "        \n",
    "    # combine subresults\n",
    "    A_values = [0] * len(A_coeffs)\n",
    "    L_third = len(A_coeffs) // 3\n",
    "    for i in range(L_third):\n",
    "        \n",
    "        j = i\n",
    "        x = pow(omega, j, Q)\n",
    "        xx = (x * x) % Q\n",
    "        A_values[j] = (B_values[i] + x * C_values[i] + xx * D_values[i]) % Q\n",
    "        \n",
    "        j = i + L_third\n",
    "        x = pow(omega, j, Q)\n",
    "        xx = (x * x) % Q\n",
    "        A_values[j] = (B_values[i] + x * C_values[i] + xx * D_values[i]) % Q\n",
    "        \n",
    "        j = i + L_third + L_third\n",
    "        x = pow(omega, j, Q)\n",
    "        xx = (x * x) % Q\n",
    "        A_values[j] = (B_values[i] + x * C_values[i] + xx * D_values[i]) % Q\n",
    "\n",
    "    return A_values\n",
    "\n",
    "def fft3_backward(A_values):\n",
    "    L_inv = inverse(len(A_values))\n",
    "    A_coeffs = [ (a * L_inv) % Q for a in fft3_forward(A_values, inverse(OMEGA3)) ]\n",
    "    return A_coeffs\n",
    "\n",
    "\n",
    "coefs = [ x for x in range(ORDER3) ]\n",
    "assert(len(coefs) == ORDER3)\n",
    "\n",
    "values = fft3_forward(coefs)\n",
    "assert(len(values) == ORDER3)\n",
    "assert(values == [ eval_poly_at(coefs, pow(OMEGA3, degree, Q)) for degree in range(ORDER3) ])\n",
    "\n",
    "coefs_recovered = fft3_backward(values)\n",
    "assert(coefs == coefs_recovered)"
   ]
  },
  {
   "cell_type": "markdown",
   "metadata": {
    "collapsed": true
   },
   "source": [
    "# Fast Fourier Transform (optimised)"
   ]
  },
  {
   "cell_type": "code",
   "execution_count": null,
   "metadata": {
    "collapsed": true
   },
   "outputs": [],
   "source": [
    "# len(aX) must be a power of 2\n",
    "def fft2_forward(aX, omega=OMEGA2):\n",
    "    if len(aX) == 1:\n",
    "        return aX\n",
    "\n",
    "    # split A(x) into B(x) and C(x) -- A(x) = B(x^2) + x C(x^2)\n",
    "    bX = aX[0::2]\n",
    "    cX = aX[1::2]\n",
    "    \n",
    "    # apply recursively\n",
    "    omega_squared = pow(omega, 2, Q)\n",
    "    B = fft2_forward(bX, omega_squared)\n",
    "    C = fft2_forward(cX, omega_squared)\n",
    "        \n",
    "    # combine subresults\n",
    "    A = [0] * len(aX)\n",
    "    Nhalf = len(aX) >> 1\n",
    "    point = 1\n",
    "    for i in range(0, Nhalf):\n",
    "        \n",
    "        x = point\n",
    "        A[i]         = (B[i] + x * C[i]) % Q\n",
    "        A[i + Nhalf] = (B[i] - x * C[i]) % Q\n",
    "\n",
    "        point = (point * omega) % Q\n",
    "        \n",
    "    return A\n",
    "\n",
    "def fft2_backward(A):\n",
    "    N_inv = inverse(len(A))\n",
    "    return [ (a * N_inv) % Q for a in fft2_forward(A, inverse(OMEGA2)) ]\n",
    "\n",
    "\n",
    "coefs = [1,2,3,4,5,6,7,8]\n",
    "assert(len(coefs) == ORDER2)\n",
    "\n",
    "values = fft2_forward(coefs)\n",
    "assert(len(values) == ORDER2)\n",
    "assert(values == [ eval_poly_at(coefs, pow(OMEGA2, degree, Q)) for degree in range(ORDER2) ])\n",
    "\n",
    "coefs_recovered = fft2_backward(values)\n",
    "assert(coefs == coefs_recovered)"
   ]
  },
  {
   "cell_type": "code",
   "execution_count": null,
   "metadata": {
    "collapsed": true
   },
   "outputs": [],
   "source": [
    "# len(aX) must be a power of 3\n",
    "def fft3_forward(aX, omega=OMEGA3):\n",
    "    if len(aX) == 1:\n",
    "        return aX\n",
    "\n",
    "    # split A(x) into B(x), C(x), and D(x): A(x) = B(x^3) + x C(x^3) + x^2 D(x^3)\n",
    "    bX = aX[0::3]\n",
    "    cX = aX[1::3]\n",
    "    dX = aX[2::3]\n",
    "    \n",
    "    # apply recursively\n",
    "    omega_cubed = pow(omega, 3, Q)\n",
    "    B = fft3_forward(bX, omega_cubed)\n",
    "    C = fft3_forward(cX, omega_cubed)\n",
    "    D = fft3_forward(dX, omega_cubed)\n",
    "        \n",
    "    # combine subresults\n",
    "    A = [0] * len(aX)\n",
    "    Nthird = len(aX) // 3\n",
    "    omega_Nthird = pow(omega, Nthird, Q)\n",
    "    point = 1\n",
    "    for i in range(Nthird):\n",
    "        \n",
    "        x = point\n",
    "        xx = (x * x) % Q\n",
    "        A[i                  ] = (B[i] + x * C[i] + xx * D[i]) % Q\n",
    "        \n",
    "        x = x * omega_Nthird % Q\n",
    "        xx = (x * x) % Q\n",
    "        A[i + Nthird         ] = (B[i] + x * C[i] + xx * D[i]) % Q\n",
    "        \n",
    "        x = x * omega_Nthird % Q\n",
    "        xx = (x * x) % Q\n",
    "        A[i + Nthird + Nthird] = (B[i] + x * C[i] + xx * D[i]) % Q\n",
    "\n",
    "        point = (point * omega) % Q\n",
    "        \n",
    "    return A\n",
    "\n",
    "def fft3_backward(A):\n",
    "    N_inv = inverse(len(A))\n",
    "    return [ (a * N_inv) % Q for a in fft3_forward(A, inverse(OMEGA3)) ]\n",
    "\n",
    "\n",
    "coefs = [1,2,3,4,5,6,7,8,9]\n",
    "assert(len(coefs) == ORDER3)\n",
    "\n",
    "values = fft3_forward(coefs)\n",
    "assert(len(values) == ORDER3)\n",
    "assert(values == [ eval_poly_at(coefs, pow(OMEGA3, degree, Q)) for degree in range(ORDER3) ])\n",
    "\n",
    "coefs_recovered = fft3_backward(values)\n",
    "assert(coefs == coefs_recovered)"
   ]
  },
  {
   "cell_type": "markdown",
   "metadata": {},
   "source": [
    "# Packed Secret Sharing"
   ]
  },
  {
   "cell_type": "code",
   "execution_count": 17,
   "metadata": {},
   "outputs": [
    {
     "name": "stdout",
     "output_type": "stream",
     "text": [
      "Points used for secrets: [79, 148, 179, 254, 285, 354, 432]\n",
      "Points used for shares:  [27, 150, 153, 198, 234, 256, 296, 417]\n"
     ]
    }
   ],
   "source": [
    "N = ORDER3 - 1\n",
    "T = N // 2\n",
    "K = ORDER2 - T - 1\n",
    "\n",
    "assert(ORDER2 == T + K + 1)\n",
    "assert(ORDER3 == N + 1)\n",
    "\n",
    "POINTS_SECRETS = set( pow(OMEGA2, e, Q) for e in range(1, ORDER2) ) # secrets, incl randomness\n",
    "POINTS_SHARES  = set( pow(OMEGA3, e, Q) for e in range(1, ORDER3) )\n",
    "assert(POINTS_SECRETS.intersection(POINTS_SHARES) == set([]))\n",
    "\n",
    "print(\"Points used for secrets: %s\" % sorted(POINTS_SECRETS))\n",
    "print(\"Points used for shares:  %s\" % sorted(POINTS_SHARES))"
   ]
  },
  {
   "cell_type": "code",
   "execution_count": 19,
   "metadata": {
    "collapsed": true
   },
   "outputs": [],
   "source": [
    "def share(secrets):\n",
    "    assert(len(secrets) == K)\n",
    "    small_values = [0] + secrets + [random.randrange(Q) for _ in range(T)]\n",
    "    small_coeffs = fft2_backward(small_values)\n",
    "    large_coeffs = small_coeffs + [0] * (ORDER3-ORDER2)\n",
    "    large_values = fft3_forward(large_coeffs)\n",
    "    shares = large_values[1:]\n",
    "    assert(len(small_values) == ORDER2)\n",
    "    assert(len(large_coeffs) == ORDER3)\n",
    "    assert(len(shares) == N)\n",
    "    return shares\n",
    "\n",
    "def reconstruct(shares):\n",
    "    assert(len(shares) == N)\n",
    "    large_values = [0] + shares\n",
    "    large_coeffs = fft3_backward(large_values)\n",
    "    small_coeffs = large_coeffs[:ORDER2]\n",
    "    small_values = fft2_forward(small_coeffs)\n",
    "    secrets = small_values[1:K+1]\n",
    "    assert(len(large_values) == ORDER3)\n",
    "    assert(large_coeffs[ORDER2:] == [0] * (ORDER3-ORDER2))\n",
    "    assert(len(small_coeffs) == ORDER2)\n",
    "    assert(len(secrets) == K)\n",
    "    return secrets\n",
    "\n",
    "secrets = [ s for s in range(1, K+1) ]\n",
    "shares = share(secrets)\n",
    "recovered_secrets = reconstruct(shares)\n",
    "assert(recovered_secrets == secrets)"
   ]
  },
  {
   "cell_type": "code",
   "execution_count": null,
   "metadata": {
    "collapsed": true
   },
   "outputs": [],
   "source": []
  }
 ],
 "metadata": {
  "kernelspec": {
   "display_name": "Python 3",
   "language": "python",
   "name": "python3"
  },
  "language_info": {
   "codemirror_mode": {
    "name": "ipython",
    "version": 3
   },
   "file_extension": ".py",
   "mimetype": "text/x-python",
   "name": "python",
   "nbconvert_exporter": "python",
   "pygments_lexer": "ipython3",
   "version": "3.6.1"
  }
 },
 "nbformat": 4,
 "nbformat_minor": 2
}
