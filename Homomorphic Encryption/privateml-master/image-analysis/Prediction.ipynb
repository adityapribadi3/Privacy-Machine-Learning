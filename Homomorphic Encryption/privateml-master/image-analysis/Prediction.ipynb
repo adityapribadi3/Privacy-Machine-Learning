{
 "cells": [
  {
   "cell_type": "code",
   "execution_count": 1,
   "metadata": {},
   "outputs": [],
   "source": [
    "import numpy as np\n",
    "from datetime import datetime"
   ]
  },
  {
   "cell_type": "code",
   "execution_count": 2,
   "metadata": {},
   "outputs": [],
   "source": [
    "from pond.tensor import NativeTensor, PrivateEncodedTensor, PublicEncodedTensor\n",
    "from pond.nn import Dense, Sigmoid, Reveal, Diff, Softmax, CrossEntropy, Sequential, DataLoader"
   ]
  },
  {
   "cell_type": "code",
   "execution_count": 3,
   "metadata": {},
   "outputs": [],
   "source": [
    "classifier = Sequential([\n",
    "    Dense(128, 6272),\n",
    "    Sigmoid(),\n",
    "    # Dropout(.5),\n",
    "    Dense(5, 128),\n",
    "    Reveal(),\n",
    "    Softmax()\n",
    "])"
   ]
  },
  {
   "cell_type": "markdown",
   "metadata": {},
   "source": [
    "# Load sample data"
   ]
  },
  {
   "cell_type": "code",
   "execution_count": 4,
   "metadata": {},
   "outputs": [],
   "source": [
    "def predict(classifier, wrapper, sample_index):\n",
    "    x = np.load('x_test_features.npy')[sample_index].reshape(1, -1)\n",
    "    y = np.argmax(np.load('y_test.npy')[sample_index])\n",
    "\n",
    "    likelihoods = classifier.predict(wrapper(x))\n",
    "    y_predicted = np.argmax(likelihoods.unwrap())\n",
    "\n",
    "    return y, y_predicted"
   ]
  },
  {
   "cell_type": "markdown",
   "metadata": {},
   "source": [
    "# Perform prediction using unencrypted weights"
   ]
  },
  {
   "cell_type": "code",
   "execution_count": 5,
   "metadata": {},
   "outputs": [],
   "source": [
    "classifier.layers[0].weights = PublicEncodedTensor.from_elements(np.load('layer0_weights.npy'))\n",
    "classifier.layers[0].bias = PublicEncodedTensor.from_elements(np.load('layer0_bias.npy'))\n",
    "\n",
    "classifier.layers[2].weights = PublicEncodedTensor.from_elements(np.load('layer2_weights.npy'))\n",
    "classifier.layers[2].bias = PublicEncodedTensor.from_elements(np.load('layer2_bias.npy'))"
   ]
  },
  {
   "cell_type": "code",
   "execution_count": 6,
   "metadata": {},
   "outputs": [
    {
     "name": "stdout",
     "output_type": "stream",
     "text": [
      "2 2\n",
      "4 4\n",
      "0 1\n",
      "4 4\n",
      "1 1\n",
      "4 4\n",
      "0 0\n",
      "4 4\n",
      "2 2\n",
      "4 4\n"
     ]
    }
   ],
   "source": [
    "for sample in range(10):\n",
    "    y_correct, y_predicted = predict(classifier, PublicEncodedTensor, sample)\n",
    "    print(y_correct, y_predicted)"
   ]
  },
  {
   "cell_type": "markdown",
   "metadata": {},
   "source": [
    "# Perform prediction using encrypted weights"
   ]
  },
  {
   "cell_type": "code",
   "execution_count": 7,
   "metadata": {},
   "outputs": [],
   "source": [
    "classifier.layers[0].weights = PrivateEncodedTensor.from_shares(np.load('layer0_weights_0.npy'), np.load('layer0_weights_1.npy'))\n",
    "classifier.layers[0].bias = PrivateEncodedTensor.from_shares(np.load('layer0_bias_0.npy'), np.load('layer0_bias_1.npy'))\n",
    "\n",
    "classifier.layers[2].weights = PrivateEncodedTensor.from_shares(np.load('layer2_weights_0.npy'), np.load('layer2_weights_1.npy'))\n",
    "classifier.layers[2].bias = PrivateEncodedTensor.from_shares(np.load('layer2_bias_0.npy'), np.load('layer2_bias_1.npy'))"
   ]
  },
  {
   "cell_type": "code",
   "execution_count": 8,
   "metadata": {},
   "outputs": [
    {
     "name": "stdout",
     "output_type": "stream",
     "text": [
      "2 2\n",
      "4 4\n",
      "0 1\n",
      "4 4\n",
      "1 1\n",
      "4 4\n",
      "0 0\n",
      "4 4\n",
      "2 2\n",
      "4 4\n"
     ]
    }
   ],
   "source": [
    "for sample in range(10):\n",
    "    y_correct, y_predicted = predict(classifier, PrivateEncodedTensor, sample)\n",
    "    print(y_correct, y_predicted)"
   ]
  },
  {
   "cell_type": "code",
   "execution_count": null,
   "metadata": {},
   "outputs": [],
   "source": []
  }
 ],
 "metadata": {
  "kernelspec": {
   "display_name": "Python 3",
   "language": "python",
   "name": "python3"
  },
  "language_info": {
   "codemirror_mode": {
    "name": "ipython",
    "version": 3
   },
   "file_extension": ".py",
   "mimetype": "text/x-python",
   "name": "python",
   "nbconvert_exporter": "python",
   "pygments_lexer": "ipython3",
   "version": "3.5.3"
  }
 },
 "nbformat": 4,
 "nbformat_minor": 2
}
