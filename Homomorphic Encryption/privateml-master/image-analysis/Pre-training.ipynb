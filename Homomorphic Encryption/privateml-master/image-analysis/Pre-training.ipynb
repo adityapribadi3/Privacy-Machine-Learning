{
 "cells": [
  {
   "cell_type": "code",
   "execution_count": 1,
   "metadata": {},
   "outputs": [
    {
     "name": "stderr",
     "output_type": "stream",
     "text": [
      "Using TensorFlow backend.\n"
     ]
    }
   ],
   "source": [
    "import numpy as np\n",
    "import keras\n",
    "\n",
    "from dataset import load_mnist"
   ]
  },
  {
   "cell_type": "markdown",
   "metadata": {},
   "source": [
    "# Model in Keras"
   ]
  },
  {
   "cell_type": "code",
   "execution_count": 2,
   "metadata": {},
   "outputs": [],
   "source": [
    "feature_layers = [\n",
    "    keras.layers.Conv2D(32, (3, 3), padding='same', input_shape=(28, 28, 1)),\n",
    "    keras.layers.Activation('sigmoid'),\n",
    "    keras.layers.Conv2D(32, (3, 3), padding='same'),\n",
    "    keras.layers.Activation('sigmoid'),\n",
    "    keras.layers.AveragePooling2D(pool_size=(2,2)),\n",
    "    keras.layers.Dropout(.25),\n",
    "    keras.layers.Flatten()\n",
    "]\n",
    "\n",
    "classification_layers = [\n",
    "    keras.layers.Dense(128),\n",
    "    keras.layers.Activation('sigmoid'),\n",
    "    keras.layers.Dropout(.50),\n",
    "    keras.layers.Dense(5),\n",
    "    keras.layers.Activation('softmax')\n",
    "]\n",
    "\n",
    "model = keras.models.Sequential(feature_layers + classification_layers)"
   ]
  },
  {
   "cell_type": "markdown",
   "metadata": {},
   "source": [
    "# Pre-train on public dataset"
   ]
  },
  {
   "cell_type": "code",
   "execution_count": 3,
   "metadata": {},
   "outputs": [],
   "source": [
    "public_dataset, _ = load_mnist()\n",
    "\n",
    "(x_train, y_train), (x_test, y_test) = public_dataset"
   ]
  },
  {
   "cell_type": "code",
   "execution_count": 4,
   "metadata": {},
   "outputs": [
    {
     "name": "stdout",
     "output_type": "stream",
     "text": [
      "Train on 30596 samples, validate on 5139 samples\n",
      "Epoch 1/5\n",
      "30596/30596 [==============================] - 108s - loss: 0.4806 - acc: 0.8187 - val_loss: 0.0700 - val_acc: 0.9792\n",
      "Epoch 2/5\n",
      "30596/30596 [==============================] - 97s - loss: 0.1081 - acc: 0.9691 - val_loss: 0.0516 - val_acc: 0.9848\n",
      "Epoch 3/5\n",
      "30596/30596 [==============================] - 92s - loss: 0.0867 - acc: 0.9744 - val_loss: 0.0430 - val_acc: 0.9866\n",
      "Epoch 4/5\n",
      "30596/30596 [==============================] - 104s - loss: 0.0727 - acc: 0.9786 - val_loss: 0.0337 - val_acc: 0.9885\n",
      "Epoch 5/5\n",
      "30596/30596 [==============================] - 108s - loss: 0.0662 - acc: 0.9798 - val_loss: 0.0335 - val_acc: 0.9885\n"
     ]
    },
    {
     "data": {
      "text/plain": [
       "<keras.callbacks.History at 0x128941668>"
      ]
     },
     "execution_count": 4,
     "metadata": {},
     "output_type": "execute_result"
    }
   ],
   "source": [
    "model.compile(\n",
    "    loss='categorical_crossentropy',\n",
    "    optimizer='adam',\n",
    "    metrics=['accuracy'])\n",
    "\n",
    "model.fit(\n",
    "    x_train, y_train,\n",
    "    epochs=5,\n",
    "    batch_size=32,\n",
    "    verbose=1,\n",
    "    validation_data=(x_test, y_test))"
   ]
  },
  {
   "cell_type": "markdown",
   "metadata": {},
   "source": [
    "# Save resulting model for use doing feature extraction"
   ]
  },
  {
   "cell_type": "code",
   "execution_count": 5,
   "metadata": {},
   "outputs": [],
   "source": [
    "model.save('pre-trained.h5')"
   ]
  },
  {
   "cell_type": "code",
   "execution_count": null,
   "metadata": {},
   "outputs": [],
   "source": []
  }
 ],
 "metadata": {
  "kernelspec": {
   "display_name": "Python 3",
   "language": "python",
   "name": "python3"
  },
  "language_info": {
   "codemirror_mode": {
    "name": "ipython",
    "version": 3
   },
   "file_extension": ".py",
   "mimetype": "text/x-python",
   "name": "python",
   "nbconvert_exporter": "python",
   "pygments_lexer": "ipython3",
   "version": "3.6.2"
  }
 },
 "nbformat": 4,
 "nbformat_minor": 2
}
