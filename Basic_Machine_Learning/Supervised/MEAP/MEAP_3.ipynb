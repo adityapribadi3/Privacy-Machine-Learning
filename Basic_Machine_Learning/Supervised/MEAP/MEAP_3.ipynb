{
 "cells": [
  {
   "cell_type": "markdown",
   "id": "207226be",
   "metadata": {},
   "source": [
    "# Chapter 3 Convolutional Neural Network"
   ]
  },
  {
   "cell_type": "code",
   "execution_count": 1,
   "id": "d296de94",
   "metadata": {},
   "outputs": [],
   "source": [
    "import torch\n",
    "import torch.nn as nn\n",
    "import torchvision\n",
    "from torchvision import transforms\n",
    "import torch.nn.functional as F\n",
    "from torch.utils.data import Dataset, DataLoader\n",
    "from torch.utils.data import BatchSampler\n",
    "from idlmam import *\n",
    "from tqdm.autonotebook import tqdm\n",
    "\n",
    "import numpy as np\n",
    "import seaborn as sns\n",
    "import matplotlib.pyplot as plt\n",
    "from pylab import *\n",
    "\n",
    "import pandas as pd\n",
    "import time\n",
    "\n",
    "from sklearn.metrics import accuracy_score\n",
    "from sklearn.metrics import f1_score\n",
    "import pprint"
   ]
  },
  {
   "cell_type": "markdown",
   "id": "196e5326",
   "metadata": {},
   "source": [
    "In this chapter we are going to learn about \"convolutional layer\", which can act as a replacement to <code> nn.Linear </code>."
   ]
  },
  {
   "cell_type": "markdown",
   "id": "561b83a7",
   "metadata": {},
   "source": [
    "## Spatial structural prior belief"
   ]
  },
  {
   "cell_type": "markdown",
   "id": "3e24fc3c",
   "metadata": {},
   "source": [
    "Neural network get really useful when we use them to impose some kind of prior belief, specifically structural priors. The most common types of structure encoded into neural networks are spatial correlation (e.g., images in this chapter) and sequential relationship (e.g., weather changes from one day to another)."
   ]
  },
  {
   "cell_type": "markdown",
   "id": "af5b3431",
   "metadata": {},
   "source": [
    "In our previous problem represented as $(N, D)$ matrix, with $N$ data points and $D$ features, we could have re-arranged the features' order and it would not change the meaning. All that's matter is if column $j$ corresponds to a specific feature is always put in a consistent position. \n",
    "\n",
    "While in spatial data, such as picture, the order of the pixels are is important. If it's shuffeled it would change the meaning."
   ]
  },
  {
   "cell_type": "markdown",
   "id": "ce8d7ac5",
   "metadata": {},
   "source": [
    "So, if we have $N$ images, each has a height $H$, and a width $W$. As a starting point we might consider a \"matrix\" of image data to have shape $(N, W, H)$.\n",
    "\n",
    "This gives us a three dimensional tensor. This would be fine if we had black-and-white images only. But for color we need to add some *channels* to our representation. Every channel has the same width and height, but represents a different perceptual concept.\n",
    "\n",
    "Color usually represented with a Red, Green, and Blue *channel*, and we interpret the mixture of the three components to create a final color image. \n",
    "\n",
    "So , if we want to include that, we need to have an additional dimension to the tensor for the channels $(N, C, W, H)$.\n",
    "\n",
    "Now, we have a four dimensional tensor, and there is structure to the tensor. By structure we mean that the axes of the tensor, and the order we access data in, has a specific meaning (we cannot shuffle them).\n",
    "\n",
    "For example, if $x$ was a batch of color images <code> x[3, 2, 0, 0] </code> is saying \"from the 4th image ($N=3$) grab the blue value ($C=2$) of the upper left pixel ($0, 0$)\". Or we can grab the red, green, and blue value using <code> x[3, :, 0, 0] </code>."
   ]
  },
  {
   "cell_type": "markdown",
   "id": "5433e7ea",
   "metadata": {},
   "source": [
    "### Loading MNIST with PyTorch"
   ]
  },
  {
   "cell_type": "markdown",
   "id": "0a5ad513",
   "metadata": {},
   "source": [
    "MNIST is a collection of black and white images of the digit 0 through 9. Each has the size of $28 \\times 28$ pixels."
   ]
  },
  {
   "cell_type": "code",
   "execution_count": 2,
   "id": "d967646a",
   "metadata": {},
   "outputs": [],
   "source": [
    "import torchvision\n",
    "from torchvision import transforms"
   ]
  },
  {
   "cell_type": "code",
   "execution_count": 3,
   "id": "d2cafa52",
   "metadata": {},
   "outputs": [
    {
     "data": {
      "text/plain": [
       "PIL.Image.Image"
      ]
     },
     "execution_count": 3,
     "metadata": {},
     "output_type": "execute_result"
    }
   ],
   "source": [
    "mnist_data_train = torchvision.datasets.MNIST(\"./data\", train=True, download=True)\n",
    "mnist_data_test = torchvision.datasets.MNIST(\"./data\", train=False, download=True)\n",
    "x_example, y_example = mnist_data_train[0]\n",
    "type(x_example)"
   ]
  },
  {
   "cell_type": "markdown",
   "id": "af5a076d",
   "metadata": {},
   "source": [
    "Now, since the data returned is in a form of PIL images, we need to transofrm it to PyTorch tensor where the minimum possible value is 0.0, and the maximum is 1.0."
   ]
  },
  {
   "cell_type": "code",
   "execution_count": 4,
   "id": "93cb21f1",
   "metadata": {},
   "outputs": [
    {
     "name": "stdout",
     "output_type": "stream",
     "text": [
      "torch.Size([1, 28, 28])\n"
     ]
    }
   ],
   "source": [
    "mnist_data_train = torchvision.datasets.MNIST(\"./data\", train=True, download=True,\n",
    "transform=transforms.ToTensor())\n",
    "\n",
    "mnist_data_test = torchvision.datasets.MNIST(\"./data\", train=False, download=True,\n",
    "transform=transforms.ToTensor())\n",
    "\n",
    "x_example, y_example = mnist_data_train[0]\n",
    "print(x_example.shape)"
   ]
  },
  {
   "cell_type": "markdown",
   "id": "214db4b4",
   "metadata": {},
   "source": [
    "We now have a data with single example, which has a shape of (1, 28, 28) for $C=1$ (black and white), and a width and height of 28 pixels."
   ]
  },
  {
   "cell_type": "code",
   "execution_count": 5,
   "id": "aade21f4",
   "metadata": {},
   "outputs": [
    {
     "data": {
      "image/png": "[encoded data removed]",
      "text/plain": [
       "<Figure size 640x480 with 1 Axes>"
      ]
     },
     "metadata": {},
     "output_type": "display_data"
    }
   ],
   "source": [
    "from pylab import *\n",
    "import matplotlib.pyplot as plt\n",
    "\n",
    "imshow(x_example[0,:], cmap='gray')\n",
    "plt.show()"
   ]
  },
  {
   "cell_type": "markdown",
   "id": "80bd6d1f",
   "metadata": {},
   "source": [
    "Now, lets try to do color version"
   ]
  },
  {
   "cell_type": "code",
   "execution_count": 6,
   "id": "349130c1",
   "metadata": {},
   "outputs": [
    {
     "name": "stdout",
     "output_type": "stream",
     "text": [
      "torch.Size([3, 28, 28])\n"
     ]
    }
   ],
   "source": [
    "x_as_color = torch.stack([x_example[0,:], x_example[0,:], x_example[0,:]], dim=0)\n",
    "print(x_as_color.shape)"
   ]
  },
  {
   "cell_type": "markdown",
   "id": "3e33c9cd",
   "metadata": {},
   "source": [
    "Now, we need to be careful, in PyTorch an image is represented as (N, C, W, H), but in imshow, the parameter expected is (W, H, C). So, we will need to *permute* the dimension. The order of the original data is (C, W, H) => (0, 1, 2). to permute we need (1, 2, 0)."
   ]
  },
  {
   "cell_type": "code",
   "execution_count": 7,
   "id": "fbfd6f7a",
   "metadata": {
    "scrolled": false
   },
   "outputs": [
    {
     "data": {
      "image/png": "[encoded data removed]",
      "text/plain": [
       "<Figure size 640x480 with 1 Axes>"
      ]
     },
     "metadata": {},
     "output_type": "display_data"
    }
   ],
   "source": [
    "imshow(x_as_color.permute(1,2,0))\n",
    "plt.show()"
   ]
  },
  {
   "cell_type": "code",
   "execution_count": 8,
   "id": "3e53eb38",
   "metadata": {},
   "outputs": [
    {
     "data": {
      "image/png": "[encoded data removed]",
      "text/plain": [
       "<Figure size 640x480 with 1 Axes>"
      ]
     },
     "metadata": {},
     "output_type": "display_data"
    }
   ],
   "source": [
    "x_as_color = torch.stack([x_example[0,:], x_example[0,:], x_example[0,:]])\n",
    "\n",
    "# No red\n",
    "x_as_color[0,:] =0 \n",
    "\n",
    "# No blue\n",
    "x_as_color[2,:] =0 \n",
    "\n",
    "# Leaving the green value\n",
    "\n",
    "imshow(x_as_color.permute(1,2,0))\n",
    "\n",
    "plt.show()"
   ]
  },
  {
   "cell_type": "markdown",
   "id": "8cbb4a50",
   "metadata": {},
   "source": [
    "Let's mix the three color in different number representation"
   ]
  },
  {
   "cell_type": "code",
   "execution_count": 9,
   "id": "4412ac5d",
   "metadata": {
    "scrolled": false
   },
   "outputs": [
    {
     "data": {
      "image/png": "[encoded data removed]",
      "text/plain": [
       "<Figure size 640x480 with 1 Axes>"
      ]
     },
     "metadata": {},
     "output_type": "display_data"
    }
   ],
   "source": [
    "#grab 3 images\n",
    "x1, x2, x3 = mnist_data_train[0], mnist_data_train[1], mnist_data_train[2]\n",
    "#drop the labels\n",
    "x1, x2, x3 = x1[0], x2[0], x3[0]\n",
    "\n",
    "x_as_color = torch.stack([x1[0,:], x2[0,:], x3[0,:]], dim=0)\n",
    "imshow(x_as_color.permute(1,2,0))\n",
    "\n",
    "plt.show()"
   ]
  },
  {
   "cell_type": "markdown",
   "id": "a0ec10a4",
   "metadata": {},
   "source": [
    "## What are Convolutions?"
   ]
  },
  {
   "cell_type": "markdown",
   "id": "65c927d1",
   "metadata": {},
   "source": [
    "There is a *prior* we would like to put into our model (some kind of spatial relationship). The prior that convolutions encode is that **things near each other are related to each other, and far away things have no relationship**.\n",
    "\n",
    "Think about the pictures of the digit 5 above. Pick any black pixel. Most of its neighboring pixels are also black. Pick any white pixel, most of its neighbors are white or a shade of white. This is a kind of spatial correlation. It doesn’t really matter where in the image this happens, because it tends to happen everywhere by the nature of being an image.\n",
    "\n",
    "A convolution is a mathematical function with two inputs. It takes image and filter (also known as kernel). The goal is that the filter will be able to\n",
    "recognize certain patterns from the input, and highlight them in the output.\n",
    "\n",
    "<img src=\"https://drive.google.com/uc?export=view&id=1M8VKH1zgvlRqX7aI8zD7r90kdocUPtRP\" alt=\"drawing\" width=\"600\"/>\n",
    "\n",
    "A convolution can be use to impose a spatial prior on any tensor with $r$ dimension."
   ]
  },
  {
   "cell_type": "markdown",
   "id": "d82fcfc6",
   "metadata": {},
   "source": [
    "### 1D Convolutions"
   ]
  },
  {
   "cell_type": "markdown",
   "id": "53fb912e",
   "metadata": {},
   "source": [
    "Let's assume that we ave a 1D image with a shape of $(C, W)$. For this input, we can define a filter with a shape of $(C, K)$. The value of K depends on us, but the $C$ needs to match up with the $C$ in the input. Since $C$ are always matched we can call the filter as \"filter of size $K$\".\n",
    "\n",
    "If we apply a filter with the size of $K$ to an input of shape $(C, W)$, we get an output with a shape of $(C, W-2\\cdot [k/2]+1)$.\n",
    "\n",
    "Look at the example below:\n",
    "\n",
    "<img src=\"https://drive.google.com/uc?export=view&id=1MXoqOOAwYEL-H1GVWDHI5WG2FZCWMRI5\" alt=\"drawing\" width=\"600\"/>\n",
    "\n",
    "In code it looks like this:"
   ]
  },
  {
   "cell_type": "code",
   "execution_count": 10,
   "id": "0ebc041c",
   "metadata": {},
   "outputs": [],
   "source": [
    "filter = [1,0, -1]\n",
    "input = [1,0,2, -1,1,2]\n",
    "output = []\n",
    "\n",
    "#Slide the filter over the input\n",
    "for i in range(len(input)-len(filter)): \n",
    "    result =0\n",
    "    \n",
    "#apply the filter at this location\n",
    "for j in range(len(filter)): \n",
    "    result += input[i+j]*filter[j]\n",
    "    output.append(result)\n",
    "    \n",
    "#now the output is ready to use"
   ]
  },
  {
   "cell_type": "markdown",
   "id": "7e18d2c7",
   "metadata": {},
   "source": [
    "### 2D Convolutions"
   ]
  },
  {
   "cell_type": "markdown",
   "id": "0bc09847",
   "metadata": {},
   "source": [
    "As we increase the number of dimensions r that our tensor has, the idea of convolutions and how they work stays the same: we will slide a filter around the input, multiplying the values in the filter with each area of the image, and then take the sum. This operation is called convolve represented with $\\circledast$ symbol.\n",
    "\n",
    "<img src=\"https://drive.google.com/uc?export=view&id=1GTyoIlL6c7tWpmMbcSuhWHu1aCt9E3qU\" alt=\"drawing\" width=\"600\"/>\n"
   ]
  },
  {
   "cell_type": "markdown",
   "id": "87e1d065",
   "metadata": {},
   "source": [
    "In code it can be written as bellow."
   ]
  },
  {
   "cell_type": "code",
   "execution_count": 11,
   "id": "90a6233b",
   "metadata": {},
   "outputs": [
    {
     "name": "stdout",
     "output_type": "stream",
     "text": [
      "0\n",
      "1\n",
      "2\n",
      "3\n",
      "[[1, 1, 3, 0], [1, 0, 3, 0], [0, 0, 3, 1], [1, 1, 3, 2]]\n"
     ]
    }
   ],
   "source": [
    "filter = [\n",
    "    [0,1,0], \n",
    "    [0,1,0], \n",
    "    [0,1,0]\n",
    "]\n",
    "\n",
    "input = [\n",
    "    [0,0,1,1,0,0],\n",
    "    [0,1,0,1,0,0],\n",
    "    [0,0,0,1,0,0],\n",
    "    [0,0,0,1,0,0],\n",
    "    [0,0,0,1,1,0],\n",
    "    [0,1,1,1,1,1]\n",
    "]\n",
    "\n",
    "height, width = len(input), len(input[0])\n",
    "output = []\n",
    "\n",
    "for i in range(height-len(filter)+1): #Slide the filter over the rows\n",
    "    row_out = []\n",
    "    print(i)\n",
    "    \n",
    "    # Slide the filter over the columns\n",
    "    for j in range(width-len(filter)+1):\n",
    "#         print(j)\n",
    "        result =0\n",
    "        \n",
    "        # Apply the filter at this location\n",
    "        for k_i in range(len(filter)): \n",
    "            for k_j in range(len(filter)):\n",
    "                result += input[i+k_i][j+k_j]*filter[k_i][k_j]\n",
    "                \n",
    "        # Build up a row of the output        \n",
    "        row_out.append(result) \n",
    "    \n",
    "    # Add the row to the final output\n",
    "    output.append(row_out) \n",
    "\n",
    "#output is ready for use\n",
    "\n",
    "print(output)"
   ]
  },
  {
   "cell_type": "markdown",
   "id": "13a287b8",
   "metadata": {},
   "source": [
    "### Padding"
   ]
  },
  {
   "cell_type": "markdown",
   "id": "60d8430c",
   "metadata": {},
   "source": [
    "You will notice that right now, every time we apply a convolution the output becomes skinner and shorter than the original input. That means if we kept applying convolutions over and over again, we would eventually be left with nothing.\n",
    "\n",
    "The solubtion to this is called padding which can be seen below.\n",
    "\n",
    "<img src=\"https://drive.google.com/uc?export=view&id=132JoeoDJBAlBVNKUzh-o0yzpCAPF0b3T\" alt=\"drawing\" width=\"600\"/>\n",
    "\n",
    "This specific example would be called “zero padding by one”, because we added one value to all the edges of the image, and the value was filled with \"0\". If we  use a convolutional filter of size K, we can use padding of $[K/2]$ to make sure our output stays the same size as our input."
   ]
  },
  {
   "cell_type": "markdown",
   "id": "e19c1c0c",
   "metadata": {},
   "source": [
    "### Weight Sharing"
   ]
  },
  {
   "cell_type": "markdown",
   "id": "17f4c97f",
   "metadata": {},
   "source": [
    "Weight sharing is another way to think about convolutions. Suppose we have a vector (1D array) representing an image and a function $f_\\Theta(\\cdot)$, which takes an input vector $z$ with $K$ features $z\\in {\\rm I\\!R}^K$. Let's say we have another input with $C=1$ channels and input features $D>K$. We cannot use the same function on $x$ because $D\\neq K$.\n",
    "\n",
    "One way to apply function $f_\\Theta(\\cdot)$ is to slide the network accross slices of the input. Now if we define our network as <code> f=nn.Linear(K, 1)</code>, this would mean that we implement exactly 1D convolution.\n",
    "\n",
    "Convolutions are linear operations that work spatially. Like the previous chapter:\n",
    "\n",
    "    1. Never repeat convolutions, because it is redundant.\n",
    "    2. We need to include a non-linear activation function after convolutions."
   ]
  },
  {
   "cell_type": "markdown",
   "id": "e6a306e9",
   "metadata": {},
   "source": [
    "## Utility of Convolutions"
   ]
  },
  {
   "cell_type": "markdown",
   "id": "e22cd535",
   "metadata": {},
   "source": [
    "To start, let's experiment with the digit 4 from MNIST dataset and scipy <code>convolve</code> function. Note: we can impose an important information by choosing the right kernel."
   ]
  },
  {
   "cell_type": "code",
   "execution_count": 12,
   "id": "d16fc2cd",
   "metadata": {},
   "outputs": [
    {
     "data": {
      "text/plain": [
       "<matplotlib.image.AxesImage at 0x2054ba3aee0>"
      ]
     },
     "execution_count": 12,
     "metadata": {},
     "output_type": "execute_result"
    }
   ],
   "source": [
    "from scipy.signal import convolve\n",
    "\n",
    "img_indx =58\n",
    "img = mnist_data_train[img_indx][0][0,:]\n",
    "plt.imshow(img, vmin=0, vmax=1, cmap='gray')"
   ]
  },
  {
   "cell_type": "markdown",
   "id": "00420694",
   "metadata": {},
   "source": [
    "Blurring image \n",
    "\n",
    "$$ image \\circledast \\frac{1}{9} \n",
    "\\left[\\begin{array}{cc} \n",
    "1 & 1 & 1 \\\\\n",
    "1 & 1 & 1 \\\\\n",
    "1 & 1 & 1 \\\\\n",
    "\\end{array}\\right]\n",
    "$$"
   ]
  },
  {
   "cell_type": "code",
   "execution_count": 13,
   "id": "8ed5aedf",
   "metadata": {},
   "outputs": [
    {
     "data": {
      "image/png": "[encoded data removed]",
      "text/plain": [
       "<Figure size 640x480 with 1 Axes>"
      ]
     },
     "metadata": {},
     "output_type": "display_data"
    }
   ],
   "source": [
    "blur_filter = np.asarray([[1,1,1],\n",
    "[1,1,1],\n",
    "[1,1,1]\n",
    "])/9.0\n",
    "blurry_img = convolve(img, blur_filter)\n",
    "plt.imshow(blurry_img, vmin=0, vmax=1, cmap='gray')\n",
    "plt.show()"
   ]
  },
  {
   "cell_type": "markdown",
   "id": "44dc2d26",
   "metadata": {},
   "source": [
    "Edge image \n",
    "\n",
    "$$ image \\circledast \n",
    "\\left[\\begin{array}{cc} \n",
    "-1 & -1 & -1 \\\\\n",
    "-1 & 8 & -1 \\\\\n",
    "-1 & -1 & -1 \\\\\n",
    "\\end{array}\\right]\n",
    "$$"
   ]
  },
  {
   "cell_type": "code",
   "execution_count": 14,
   "id": "ca47cfef",
   "metadata": {},
   "outputs": [
    {
     "data": {
      "image/png": "[encoded data removed]",
      "text/plain": [
       "<Figure size 640x480 with 1 Axes>"
      ]
     },
     "metadata": {},
     "output_type": "display_data"
    }
   ],
   "source": [
    "#We can find edges by focusing on the difference between a pixel, and its neighbors\n",
    "edge_filter = np.asarray([[-1,-1,-1],\n",
    "[-1,8,-1],\n",
    "[-1,-1,-1]\n",
    "])\n",
    "edge_img = convolve(img, edge_filter)\n",
    "plt.imshow(edge_img, vmin=0, vmax=1, cmap='gray')\n",
    "plt.show()"
   ]
  },
  {
   "cell_type": "markdown",
   "id": "b1e294a1",
   "metadata": {},
   "source": [
    "Horizontal edge image \n",
    "\n",
    "$$ image \\circledast \n",
    "\\left[\\begin{array}{cc} \n",
    "-1 & -1 & -1 \\\\\n",
    "0 & 0 & 0 \\\\\n",
    "1 & 1 & 1 \\\\\n",
    "\\end{array}\\right]\n",
    "$$"
   ]
  },
  {
   "cell_type": "code",
   "execution_count": 15,
   "id": "24130d09",
   "metadata": {},
   "outputs": [
    {
     "data": {
      "image/png": "[encoded data removed]",
      "text/plain": [
       "<Figure size 640x480 with 1 Axes>"
      ]
     },
     "metadata": {},
     "output_type": "display_data"
    }
   ],
   "source": [
    "#We could look for only horizontal edges\n",
    "h_edge_filter = np.asarray([[-1,-1,-1],\n",
    "[0,0,0],\n",
    "[1,1,1]\n",
    "])\n",
    "h_edge_img = convolve(img, h_edge_filter)\n",
    "plt.imshow(h_edge_img, vmin=0, vmax=1, cmap='gray')\n",
    "plt.show()"
   ]
  },
  {
   "cell_type": "markdown",
   "id": "1d6c0939",
   "metadata": {},
   "source": [
    "With deep learning, we don’t have to go through all the mental effort of trying to imagine and test all the filters we might need. Instead, we can let the neural network learn the filters itself. That way we save ourselves from a labor intensive process, and the kernels are optimized for the specific problem we care about."
   ]
  },
  {
   "cell_type": "markdown",
   "id": "1a141cd3",
   "metadata": {},
   "source": [
    "## Building CNN"
   ]
  },
  {
   "cell_type": "markdown",
   "id": "6289fa50",
   "metadata": {},
   "source": [
    "Let's say we have $I \\in {\\rm I\\!R}^{C, W, H}$ and apply a convolution using a filter $g \\in {\\rm I\\!R}^{C, K, K}$, to get result ${\\rm I\\!R}^{W', H'}$. This can be written as: $$R = I \\circledast g$$, where $R$ is the result, $I$ is the input image and $g$ is the filter.\n",
    "\n",
    "<img src=\"https://drive.google.com/uc?export=view&id=1iLi3oT_rX_ulVBd83D0tHNNSWVNmrRrp\" alt=\"drawing\" width=\"600\"/>\n",
    "\n"
   ]
  },
  {
   "cell_type": "markdown",
   "id": "e897c1f1",
   "metadata": {},
   "source": [
    "Because the input has a shape of $(C, W)$, the filter has a shape of $(C, K)$. So when the input has multiple channels, the kernel will have a value for each channel separately. That means for a color image, we could have a filter that looks for “red horizontal lines, blue vertical lines, and no green” all in one operation. But it also means that after applying one filter we get one output.\n",
    "\n",
    "Considering the examples above, we probably want more than just one filter.\n",
    "\n",
    "We want to have the channel to have different filters $C_{out}$. First let assume that $C_{in}$ indicates the number of channels in the input. In this case we would then have a tensor that represents all of the filters as $G \\in {\\rm I\\!R}^{C_{out}, C_{in}, K, K}$. This gives us new result $R \\in {\\rm I\\!R}^{K, W', H'}$. The new operation can be written as $R = I \\circledast G$.\n",
    "\n",
    "The picture below shows the overview of the process.\n",
    "\n",
    "<img src=\"https://drive.google.com/uc?export=view&id=1jkqtwyUTA8QXO96qDhkvo856rBE4jI_4\" alt=\"drawing\" width=\"600\"/>"
   ]
  },
  {
   "cell_type": "markdown",
   "id": "c1f81867",
   "metadata": {},
   "source": [
    "The same process is used by all three standard convolution sizes.\n",
    "\n",
    "1. 1D-CNN: (Batch, Channels, Width)\n",
    "2. 2D-CNN: (Batch, Channels, Width, Height)\n",
    "3. 3D-CNN: (Batch, Channels, Width, Height, Depth)\n",
    "\n",
    "The picture below shows all the steps and math for an input image with explicitly $C_{in} = 3$, $C_{out} = 2$, and $K = 3$.\n",
    "\n",
    "<img src=\"https://drive.google.com/uc?export=view&id=1lb-xz858NcBeWiTdPcVp3YVwtW_CZn8Q\" alt=\"drawing\" width=\"600\"/>"
   ]
  },
  {
   "cell_type": "markdown",
   "id": "f3fe90f3",
   "metadata": {},
   "source": [
    "The input image comes in and has $C_{in} = 3$ channels, and we are going to process it using <code>nn.Conv2d(C_in, C_out, 3, padding=3\\2)(x) = output</code>. Since $C_{out} = 2$, that means we process the input with two different filters, add the bias terms for every location.\n",
    "\n",
    "As a result we get two resulting images that have the same height and width as the original image (because we used padding). \n",
    "\n",
    "In the final step the results are stacked together into one larger single image with 2 channels because we specified $C_{out} = 2$."
   ]
  },
  {
   "cell_type": "markdown",
   "id": "9cc76fd9",
   "metadata": {},
   "source": [
    "In fully connected neural network, we wrote something like:\n",
    "\n",
    "```python\n",
    "nn.Sequential(\n",
    "    nn.Linear(d, n),\n",
    "    nn.tanh(),\n",
    "    nn.Linear(n, classes)\n",
    ")\n",
    "```\n",
    "\n",
    "which in mathematical notation:\n",
    "$$f(x)=tanh(\\underbrace{x^T}_{input} \\underbrace{W_{d\\times n}^{(h_1)}  + b^{(h_1)}}_{nn.Linear(d, n)})\\underbrace{W_{n\\times classes}^{(out)}  + b^{(out)}}_{nn.Linear(n, classes)}$$"
   ]
  },
  {
   "cell_type": "markdown",
   "id": "f1e69c7b",
   "metadata": {},
   "source": [
    "In convolutions, it will be something like:\n",
    "\n",
    "```python\n",
    "nn.Sequential(\n",
    "    nn.Conv2d(C_in, C_out, K),\n",
    "    nn.tanh(),\n",
    "    nn.Flatten(),\n",
    "    nn.Linear(C_out \\cdot w \\cdot h, C)\n",
    ")\n",
    "```\n",
    "\n",
    "which in mathematical notation:\n",
    "$$f(x)=tanh\\left(\n",
    "\\underbrace{x^{C_{in}, W, H}}_{input} \\circledast\n",
    "\\underbrace{W_{C_{out}, C_{in}, K, K}^{(h_1)}  + b^{(h_1)}}_{nn.Conv2d(C_{in}, C_{out}, K)}\\right)\n",
    "\\underbrace{W_{(C_{out}\\cdot w \\cdot h), C}^{(out)}  + b^{(out)}}_{nn.Linear(C_{out} \\cdot w \\cdot h, C)}$$\n",
    "\n",
    "When simplified:\n",
    "$$f(x)=tanh\\left(x\\circledast W_{(h_1)}+B_{(h_1)}\\right) W_{(out)} + b_{(out)}$$"
   ]
  },
  {
   "cell_type": "markdown",
   "id": "d57c574b",
   "metadata": {},
   "source": [
    "In the convolutions case, we need flatteing because the output of the convolutions is $(C, W, H)$ while the linear function expects something like $(C \\times W \\times H)$, which is a one dimension.\n",
    "\n",
    "Now, since we have learned the structure let's build our model."
   ]
  },
  {
   "cell_type": "code",
   "execution_count": 16,
   "id": "1b92a3f5",
   "metadata": {},
   "outputs": [],
   "source": [
    "# Check and decide device to be used\n",
    "device = torch.device(\"cuda\") if torch.cuda.is_available() else torch.device(\"cpu\")\n",
    "\n",
    "# Batch size\n",
    "B =32\n",
    "\n",
    "# Train and eval data\n",
    "mnist_train_loader = DataLoader(mnist_data_train, batch_size=B, shuffle=True)\n",
    "mnist_test_loader = DataLoader(mnist_data_test, batch_size=B)"
   ]
  },
  {
   "cell_type": "markdown",
   "id": "9aa7e2e7",
   "metadata": {},
   "source": [
    "Now, since we are training in a batch size, the initial shape will be $(B, C, W, H)$, where $B=32$ and $C=1$.\n",
    "\n",
    "We will start by building the linear model and the convolution model (for the sake of comparison)."
   ]
  },
  {
   "cell_type": "code",
   "execution_count": 17,
   "id": "e9a80bdb",
   "metadata": {},
   "outputs": [],
   "source": [
    "# Input image of 28*28\n",
    "W = 28\n",
    "H = 28\n",
    "D = W*H\n",
    "\n",
    "# Number of channel(s)\n",
    "C =1\n",
    "\n",
    "# Classes of predictions\n",
    "classes =10\n",
    "\n",
    "# Number of filters to be used\n",
    "filters =16\n",
    "\n",
    "# Filter size\n",
    "K =3\n",
    "\n",
    "# Linear model\n",
    "model_linear = nn.Sequential(\n",
    "    nn.Flatten(), #(B, C, W, H) -> (B, C*W*H) = (B,D)\n",
    "    nn.Linear(D,256),\n",
    "    nn.Tanh(),\n",
    "    nn.Linear(256, classes),\n",
    ")\n",
    "\n",
    "# CNN model\n",
    "model_cnn = nn.Sequential(\n",
    "    #Conv2d follows the pattern of:\n",
    "    #Conv2d(# of input channels, #filters/output-channels, #filter-size)\n",
    "    nn.Conv2d(C, filters, K, padding=int(K/2)), #$x\\circledast G$\n",
    "    nn.Tanh(),#Activation functions work on any size tensor\n",
    "    nn.Flatten(), #Convert from (B, C, W, H) ->(B, D). This way we can use a Linear layer after\n",
    "    nn.Linear(filters*D, classes),\n",
    ")"
   ]
  },
  {
   "cell_type": "code",
   "execution_count": 18,
   "id": "29fe160b",
   "metadata": {},
   "outputs": [
    {
     "data": {
      "application/vnd.jupyter.widget-view+json": {
       "model_id": "a5290256282348e5a3e11f6cd2f161cd",
       "version_major": 2,
       "version_minor": 0
      },
      "text/plain": [
       "Epoch:   0%|          | 0/10 [00:00<?, ?it/s]"
      ]
     },
     "metadata": {},
     "output_type": "display_data"
    },
    {
     "data": {
      "application/vnd.jupyter.widget-view+json": {
       "model_id": "",
       "version_major": 2,
       "version_minor": 0
      },
      "text/plain": [
       "Training:   0%|          | 0/1875 [00:00<?, ?it/s]"
      ]
     },
     "metadata": {},
     "output_type": "display_data"
    },
    {
     "data": {
      "application/vnd.jupyter.widget-view+json": {
       "model_id": "",
       "version_major": 2,
       "version_minor": 0
      },
      "text/plain": [
       "Testing:   0%|          | 0/313 [00:00<?, ?it/s]"
      ]
     },
     "metadata": {},
     "output_type": "display_data"
    },
    {
     "data": {
      "application/vnd.jupyter.widget-view+json": {
       "model_id": "",
       "version_major": 2,
       "version_minor": 0
      },
      "text/plain": [
       "Training:   0%|          | 0/1875 [00:00<?, ?it/s]"
      ]
     },
     "metadata": {},
     "output_type": "display_data"
    },
    {
     "data": {
      "application/vnd.jupyter.widget-view+json": {
       "model_id": "",
       "version_major": 2,
       "version_minor": 0
      },
      "text/plain": [
       "Testing:   0%|          | 0/313 [00:00<?, ?it/s]"
      ]
     },
     "metadata": {},
     "output_type": "display_data"
    },
    {
     "data": {
      "application/vnd.jupyter.widget-view+json": {
       "model_id": "",
       "version_major": 2,
       "version_minor": 0
      },
      "text/plain": [
       "Training:   0%|          | 0/1875 [00:00<?, ?it/s]"
      ]
     },
     "metadata": {},
     "output_type": "display_data"
    },
    {
     "data": {
      "application/vnd.jupyter.widget-view+json": {
       "model_id": "",
       "version_major": 2,
       "version_minor": 0
      },
      "text/plain": [
       "Testing:   0%|          | 0/313 [00:00<?, ?it/s]"
      ]
     },
     "metadata": {},
     "output_type": "display_data"
    },
    {
     "data": {
      "application/vnd.jupyter.widget-view+json": {
       "model_id": "",
       "version_major": 2,
       "version_minor": 0
      },
      "text/plain": [
       "Training:   0%|          | 0/1875 [00:00<?, ?it/s]"
      ]
     },
     "metadata": {},
     "output_type": "display_data"
    },
    {
     "data": {
      "application/vnd.jupyter.widget-view+json": {
       "model_id": "",
       "version_major": 2,
       "version_minor": 0
      },
      "text/plain": [
       "Testing:   0%|          | 0/313 [00:00<?, ?it/s]"
      ]
     },
     "metadata": {},
     "output_type": "display_data"
    },
    {
     "data": {
      "application/vnd.jupyter.widget-view+json": {
       "model_id": "",
       "version_major": 2,
       "version_minor": 0
      },
      "text/plain": [
       "Training:   0%|          | 0/1875 [00:00<?, ?it/s]"
      ]
     },
     "metadata": {},
     "output_type": "display_data"
    },
    {
     "data": {
      "application/vnd.jupyter.widget-view+json": {
       "model_id": "",
       "version_major": 2,
       "version_minor": 0
      },
      "text/plain": [
       "Testing:   0%|          | 0/313 [00:00<?, ?it/s]"
      ]
     },
     "metadata": {},
     "output_type": "display_data"
    },
    {
     "data": {
      "application/vnd.jupyter.widget-view+json": {
       "model_id": "",
       "version_major": 2,
       "version_minor": 0
      },
      "text/plain": [
       "Training:   0%|          | 0/1875 [00:00<?, ?it/s]"
      ]
     },
     "metadata": {},
     "output_type": "display_data"
    },
    {
     "data": {
      "application/vnd.jupyter.widget-view+json": {
       "model_id": "",
       "version_major": 2,
       "version_minor": 0
      },
      "text/plain": [
       "Testing:   0%|          | 0/313 [00:00<?, ?it/s]"
      ]
     },
     "metadata": {},
     "output_type": "display_data"
    },
    {
     "data": {
      "application/vnd.jupyter.widget-view+json": {
       "model_id": "",
       "version_major": 2,
       "version_minor": 0
      },
      "text/plain": [
       "Training:   0%|          | 0/1875 [00:00<?, ?it/s]"
      ]
     },
     "metadata": {},
     "output_type": "display_data"
    },
    {
     "data": {
      "application/vnd.jupyter.widget-view+json": {
       "model_id": "",
       "version_major": 2,
       "version_minor": 0
      },
      "text/plain": [
       "Testing:   0%|          | 0/313 [00:00<?, ?it/s]"
      ]
     },
     "metadata": {},
     "output_type": "display_data"
    },
    {
     "data": {
      "application/vnd.jupyter.widget-view+json": {
       "model_id": "",
       "version_major": 2,
       "version_minor": 0
      },
      "text/plain": [
       "Training:   0%|          | 0/1875 [00:00<?, ?it/s]"
      ]
     },
     "metadata": {},
     "output_type": "display_data"
    },
    {
     "data": {
      "application/vnd.jupyter.widget-view+json": {
       "model_id": "",
       "version_major": 2,
       "version_minor": 0
      },
      "text/plain": [
       "Testing:   0%|          | 0/313 [00:00<?, ?it/s]"
      ]
     },
     "metadata": {},
     "output_type": "display_data"
    },
    {
     "data": {
      "application/vnd.jupyter.widget-view+json": {
       "model_id": "",
       "version_major": 2,
       "version_minor": 0
      },
      "text/plain": [
       "Training:   0%|          | 0/1875 [00:00<?, ?it/s]"
      ]
     },
     "metadata": {},
     "output_type": "display_data"
    },
    {
     "data": {
      "application/vnd.jupyter.widget-view+json": {
       "model_id": "",
       "version_major": 2,
       "version_minor": 0
      },
      "text/plain": [
       "Testing:   0%|          | 0/313 [00:00<?, ?it/s]"
      ]
     },
     "metadata": {},
     "output_type": "display_data"
    },
    {
     "data": {
      "application/vnd.jupyter.widget-view+json": {
       "model_id": "",
       "version_major": 2,
       "version_minor": 0
      },
      "text/plain": [
       "Training:   0%|          | 0/1875 [00:00<?, ?it/s]"
      ]
     },
     "metadata": {},
     "output_type": "display_data"
    },
    {
     "data": {
      "application/vnd.jupyter.widget-view+json": {
       "model_id": "",
       "version_major": 2,
       "version_minor": 0
      },
      "text/plain": [
       "Testing:   0%|          | 0/313 [00:00<?, ?it/s]"
      ]
     },
     "metadata": {},
     "output_type": "display_data"
    },
    {
     "data": {
      "application/vnd.jupyter.widget-view+json": {
       "model_id": "385f0e90dc394cb7b75bc24a5440ade6",
       "version_major": 2,
       "version_minor": 0
      },
      "text/plain": [
       "Epoch:   0%|          | 0/10 [00:00<?, ?it/s]"
      ]
     },
     "metadata": {},
     "output_type": "display_data"
    },
    {
     "data": {
      "application/vnd.jupyter.widget-view+json": {
       "model_id": "",
       "version_major": 2,
       "version_minor": 0
      },
      "text/plain": [
       "Training:   0%|          | 0/1875 [00:00<?, ?it/s]"
      ]
     },
     "metadata": {},
     "output_type": "display_data"
    },
    {
     "data": {
      "application/vnd.jupyter.widget-view+json": {
       "model_id": "",
       "version_major": 2,
       "version_minor": 0
      },
      "text/plain": [
       "Testing:   0%|          | 0/313 [00:00<?, ?it/s]"
      ]
     },
     "metadata": {},
     "output_type": "display_data"
    },
    {
     "data": {
      "application/vnd.jupyter.widget-view+json": {
       "model_id": "",
       "version_major": 2,
       "version_minor": 0
      },
      "text/plain": [
       "Training:   0%|          | 0/1875 [00:00<?, ?it/s]"
      ]
     },
     "metadata": {},
     "output_type": "display_data"
    },
    {
     "data": {
      "application/vnd.jupyter.widget-view+json": {
       "model_id": "",
       "version_major": 2,
       "version_minor": 0
      },
      "text/plain": [
       "Testing:   0%|          | 0/313 [00:00<?, ?it/s]"
      ]
     },
     "metadata": {},
     "output_type": "display_data"
    },
    {
     "data": {
      "application/vnd.jupyter.widget-view+json": {
       "model_id": "",
       "version_major": 2,
       "version_minor": 0
      },
      "text/plain": [
       "Training:   0%|          | 0/1875 [00:00<?, ?it/s]"
      ]
     },
     "metadata": {},
     "output_type": "display_data"
    },
    {
     "data": {
      "application/vnd.jupyter.widget-view+json": {
       "model_id": "",
       "version_major": 2,
       "version_minor": 0
      },
      "text/plain": [
       "Testing:   0%|          | 0/313 [00:00<?, ?it/s]"
      ]
     },
     "metadata": {},
     "output_type": "display_data"
    },
    {
     "data": {
      "application/vnd.jupyter.widget-view+json": {
       "model_id": "",
       "version_major": 2,
       "version_minor": 0
      },
      "text/plain": [
       "Training:   0%|          | 0/1875 [00:00<?, ?it/s]"
      ]
     },
     "metadata": {},
     "output_type": "display_data"
    },
    {
     "data": {
      "application/vnd.jupyter.widget-view+json": {
       "model_id": "",
       "version_major": 2,
       "version_minor": 0
      },
      "text/plain": [
       "Testing:   0%|          | 0/313 [00:00<?, ?it/s]"
      ]
     },
     "metadata": {},
     "output_type": "display_data"
    },
    {
     "data": {
      "application/vnd.jupyter.widget-view+json": {
       "model_id": "",
       "version_major": 2,
       "version_minor": 0
      },
      "text/plain": [
       "Training:   0%|          | 0/1875 [00:00<?, ?it/s]"
      ]
     },
     "metadata": {},
     "output_type": "display_data"
    },
    {
     "data": {
      "application/vnd.jupyter.widget-view+json": {
       "model_id": "",
       "version_major": 2,
       "version_minor": 0
      },
      "text/plain": [
       "Testing:   0%|          | 0/313 [00:00<?, ?it/s]"
      ]
     },
     "metadata": {},
     "output_type": "display_data"
    },
    {
     "data": {
      "application/vnd.jupyter.widget-view+json": {
       "model_id": "",
       "version_major": 2,
       "version_minor": 0
      },
      "text/plain": [
       "Training:   0%|          | 0/1875 [00:00<?, ?it/s]"
      ]
     },
     "metadata": {},
     "output_type": "display_data"
    },
    {
     "data": {
      "application/vnd.jupyter.widget-view+json": {
       "model_id": "",
       "version_major": 2,
       "version_minor": 0
      },
      "text/plain": [
       "Testing:   0%|          | 0/313 [00:00<?, ?it/s]"
      ]
     },
     "metadata": {},
     "output_type": "display_data"
    },
    {
     "data": {
      "application/vnd.jupyter.widget-view+json": {
       "model_id": "",
       "version_major": 2,
       "version_minor": 0
      },
      "text/plain": [
       "Training:   0%|          | 0/1875 [00:00<?, ?it/s]"
      ]
     },
     "metadata": {},
     "output_type": "display_data"
    },
    {
     "data": {
      "application/vnd.jupyter.widget-view+json": {
       "model_id": "",
       "version_major": 2,
       "version_minor": 0
      },
      "text/plain": [
       "Testing:   0%|          | 0/313 [00:00<?, ?it/s]"
      ]
     },
     "metadata": {},
     "output_type": "display_data"
    },
    {
     "data": {
      "application/vnd.jupyter.widget-view+json": {
       "model_id": "",
       "version_major": 2,
       "version_minor": 0
      },
      "text/plain": [
       "Training:   0%|          | 0/1875 [00:00<?, ?it/s]"
      ]
     },
     "metadata": {},
     "output_type": "display_data"
    },
    {
     "data": {
      "application/vnd.jupyter.widget-view+json": {
       "model_id": "",
       "version_major": 2,
       "version_minor": 0
      },
      "text/plain": [
       "Testing:   0%|          | 0/313 [00:00<?, ?it/s]"
      ]
     },
     "metadata": {},
     "output_type": "display_data"
    },
    {
     "data": {
      "application/vnd.jupyter.widget-view+json": {
       "model_id": "",
       "version_major": 2,
       "version_minor": 0
      },
      "text/plain": [
       "Training:   0%|          | 0/1875 [00:00<?, ?it/s]"
      ]
     },
     "metadata": {},
     "output_type": "display_data"
    },
    {
     "data": {
      "application/vnd.jupyter.widget-view+json": {
       "model_id": "",
       "version_major": 2,
       "version_minor": 0
      },
      "text/plain": [
       "Testing:   0%|          | 0/313 [00:00<?, ?it/s]"
      ]
     },
     "metadata": {},
     "output_type": "display_data"
    },
    {
     "data": {
      "application/vnd.jupyter.widget-view+json": {
       "model_id": "",
       "version_major": 2,
       "version_minor": 0
      },
      "text/plain": [
       "Training:   0%|          | 0/1875 [00:00<?, ?it/s]"
      ]
     },
     "metadata": {},
     "output_type": "display_data"
    },
    {
     "data": {
      "application/vnd.jupyter.widget-view+json": {
       "model_id": "",
       "version_major": 2,
       "version_minor": 0
      },
      "text/plain": [
       "Testing:   0%|          | 0/313 [00:00<?, ?it/s]"
      ]
     },
     "metadata": {},
     "output_type": "display_data"
    }
   ],
   "source": [
    "loss_func = nn.CrossEntropyLoss()\n",
    "\n",
    "cnn_results = train_simple_network(\n",
    "    model_cnn, \n",
    "    loss_func, \n",
    "    mnist_train_loader,\n",
    "    test_loader=mnist_test_loader, \n",
    "    score_funcs={'Accuracy': accuracy_score}, \n",
    "    device=device,\n",
    "    epochs=10)\n",
    "\n",
    "fc_results = train_simple_network(\n",
    "    model_linear, \n",
    "    loss_func, \n",
    "    mnist_train_loader,\n",
    "    test_loader=mnist_test_loader, \n",
    "    score_funcs={'Accuracy': accuracy_score}, \n",
    "    device=device,\n",
    "    epochs=10)"
   ]
  },
  {
   "cell_type": "code",
   "execution_count": 19,
   "id": "f2ca6727",
   "metadata": {},
   "outputs": [
    {
     "data": {
      "image/png": "[encoded data removed]",
      "text/plain": [
       "<Figure size 640x480 with 1 Axes>"
      ]
     },
     "metadata": {},
     "output_type": "display_data"
    }
   ],
   "source": [
    "sns.lineplot(x='epoch', y='test Accuracy', data=cnn_results, label='CNN')\n",
    "sns.lineplot(x='epoch', y='test Accuracy', data=fc_results, label='Fully Conected')\n",
    "plt.show()"
   ]
  },
  {
   "cell_type": "markdown",
   "id": "88771a9e",
   "metadata": {},
   "source": [
    "From the graph, we can see that the CNN works better than the fully connected neural network. However, it does not mean that it will always outperform the fully connceted neural network. But from here we know that CNN will perform better when we have prior structure."
   ]
  },
  {
   "cell_type": "markdown",
   "id": "e99ea02b",
   "metadata": {},
   "source": [
    "## Pooling and object location."
   ]
  },
  {
   "cell_type": "markdown",
   "id": "fbf1ac1d",
   "metadata": {},
   "source": [
    "Just like the linear neural network, we can make our CNN more powerful by adding more layers with non-linearity in between. Before we do that, there is one special type of layer that is usually used in CNNs called *pooling layer*.\n",
    "\n",
    "The problem with the previous sturcture is that first, we use the convolution layer to learn about the image spatial information. However, eventually we switch to fully connected layer, which does not understand the spatial nature of the data. For this reason, the nn.Linear layer will learn to look for values at very specific location.\n",
    "\n",
    "The previous structure is okay with the MNIST data because all digits are aligned. However, that might not be the case in real life scenario. Hence, we are introduced with pooling. Let's see the sample below."
   ]
  },
  {
   "cell_type": "code",
   "execution_count": 55,
   "id": "a8fedf5d",
   "metadata": {},
   "outputs": [
    {
     "data": {
      "image/png": "[encoded data removed]",
      "text/plain": [
       "<Figure size 640x480 with 3 Axes>"
      ]
     },
     "metadata": {},
     "output_type": "display_data"
    }
   ],
   "source": [
    "# Moving image slightly\n",
    "\n",
    "img_indx =0\n",
    "img, correct_class = mnist_data_train[img_indx]\n",
    "img = img[0,:]\n",
    "\n",
    "#move to the lower right, then upper left\n",
    "img_lr = np.roll(np.roll(img,1, axis=1),1, axis=0)\n",
    "img_ul = np.roll(np.roll(img, -1, axis=1), -1, axis=0)\n",
    "#plot the images\n",
    "f, axarr = plt.subplots(1,3)\n",
    "axarr[0].imshow(img, cmap='gray')\n",
    "axarr[1].imshow(img_lr, cmap='gray')\n",
    "axarr[2].imshow(img_ul, cmap='gray')\n",
    "plt.show()"
   ]
  },
  {
   "cell_type": "markdown",
   "id": "f7c29787",
   "metadata": {},
   "source": [
    "Let's quickly put these images to be predicted."
   ]
  },
  {
   "cell_type": "markdown",
   "id": "f7299814",
   "metadata": {},
   "source": [
    "This is a simple way to apply a model to single images at a time."
   ]
  },
  {
   "cell_type": "code",
   "execution_count": 59,
   "id": "628230ea",
   "metadata": {},
   "outputs": [
    {
     "name": "stdout",
     "output_type": "stream",
     "text": [
      "[2.6710976e-03 2.8192467e-04 6.0514626e-03 2.7200451e-01 1.8148492e-05\n",
      " 7.0706850e-01 6.8056397e-04 5.8715269e-03 3.5915244e-03 1.7607242e-03]\n"
     ]
    }
   ],
   "source": [
    "# Eval mode since we are not training\n",
    "model = model_cnn.cpu().eval()\n",
    "\n",
    "# Input Image\n",
    "img_indx =0\n",
    "img, correct_class = mnist_data_train[img_indx]\n",
    "\n",
    "img = img[0,:]\n",
    "img_lr = np.roll(np.roll(img,1, axis=1),1, axis=0)\n",
    "img_ul = np.roll(np.roll(img, -1, axis=1), -1, axis=0)\n",
    "\n",
    "\n",
    "def pred(model, img):\n",
    "    \n",
    "    # Always turn of grad when evaluating\n",
    "    with torch.no_grad():\n",
    "        w, h = img.shape\n",
    "        \n",
    "        if not isinstance(img, torch.Tensor):\n",
    "            img = torch.tensor(img)\n",
    "            \n",
    "        # Re-shape it as (B, C, W, H)\n",
    "        x = img.reshape(1,-1,w,h)\n",
    "\n",
    "        # Get the logits\n",
    "        logits = model(x) \n",
    "\n",
    "        # remember that the CrossEntropy loss we used handles softmax implicitly. So when we use a\n",
    "        # model trained with CrossEntropy, we need to call F.softmax ourselves to transform the outputs\n",
    "        # into probabilities.\n",
    "        y_hat = F.softmax(logits, dim=1)\n",
    "\n",
    "        # Convert prediction to numpy array.\n",
    "        return y_hat.numpy().flatten()\n",
    "\n",
    "print(pred(model, img))"
   ]
  },
  {
   "cell_type": "code",
   "execution_count": 60,
   "id": "7a559a9f",
   "metadata": {
    "scrolled": false
   },
   "outputs": [
    {
     "name": "stdout",
     "output_type": "stream",
     "text": [
      "Org Img Class 5 Prob:  0.7070685\n",
      "Lower Right Img Class 5 Prob:  0.43311232\n",
      "Uper Left Img Class 5 Prob:  0.1857683\n"
     ]
    }
   ],
   "source": [
    "img_pred = pred(model, img)\n",
    "img_lr_pred = pred(model, img_lr)\n",
    "img_ul_pred = pred(model, img_ul)\n",
    "print(\"Org Img Class {} Prob: \".format(correct_class) , img_pred[correct_class])\n",
    "print(\"Lower Right Img Class {} Prob: \".format(correct_class) , img_lr_pred[correct_class])\n",
    "print(\"Uper Left Img Class {} Prob: \".format(correct_class) , img_ul_pred[correct_class])"
   ]
  },
  {
   "cell_type": "markdown",
   "id": "17da7573",
   "metadata": {},
   "source": [
    "As can be seen the probability score is low when the image shifts.\n",
    "We can obtain some partial translation invariance with an operation known as pooling.\n",
    "\n",
    "Below is simple process of max pooling.\n",
    "\n",
    "<img src=\"https://drive.google.com/uc?export=view&id=16e-Q5ulz3AdhHZSN6IoiCve6oIrKS40X\" alt=\"drawing\" width=\"600\"/>\n",
    "\n",
    "It's simply just taking the max value within the kernel size $K$.\n",
    "The choice of how many pixels to \"slide\" is called *stride*. By default we use $stride = 1$. We use $stride=K$ so that th einput is shrunk by a factor of $K$ as shown on the image above.\n",
    "\n",
    "The intuition behind pooling is that it gives us more robustness to slight changes in values. Consider the first image above, if your shifted every value over to the right by one position. Five of the nice output values would not change, giving it a minor degree of invariance to translating the image by one pixel. This is not perfect, but it helps reduce the impact of such alterations. If we accumulate this effect through multiple rounds of pooling, we can make the effect stronger.\n",
    "\n",
    "For 2D MaxPool, when $stride = K$, if our input had the shape of $(B, C, W, H)$, the output of <code> nn.MaxPool2d(K) </code> will be a shape of $(B, C, W/K, H/K)$. Since C remains the same, that means we apply this operation to every channel independently."
   ]
  },
  {
   "cell_type": "markdown",
   "id": "c321ad65",
   "metadata": {},
   "source": [
    "### CNNs with Max Pooling"
   ]
  },
  {
   "cell_type": "markdown",
   "id": "2bbff60c",
   "metadata": {},
   "source": [
    "So how many max pooling should we use and where exactly should we use it?\n",
    "let's say that everytime that we do max pooling, we shrink our size by a factor of $K$. That means $n$ rounds of pooling means a shrinking by a factor or $K^n$.\n",
    "\n",
    "Our problem is a $28 \\times 28$ problem, hence, we can only apply 4 rounds of pooling maximum assuming that $K=2$. Because 5 rounds will give us $\\frac{28}{2^5}$ which is less than a pixel output.\n",
    "\n",
    "However, does applying 4 pooling make sense? Outputing 1.75 pixel, our model probably would not be able to guess the digit. This includes us as well. So, in this scenario 2 or 3 pooling will still make sense."
   ]
  },
  {
   "cell_type": "code",
   "execution_count": 63,
   "id": "b38bae70",
   "metadata": {},
   "outputs": [
    {
     "data": {
      "application/vnd.jupyter.widget-view+json": {
       "model_id": "6e24700f47b14ff1a0f51f1b13ebfe01",
       "version_major": 2,
       "version_minor": 0
      },
      "text/plain": [
       "Epoch:   0%|          | 0/10 [00:00<?, ?it/s]"
      ]
     },
     "metadata": {},
     "output_type": "display_data"
    },
    {
     "data": {
      "application/vnd.jupyter.widget-view+json": {
       "model_id": "",
       "version_major": 2,
       "version_minor": 0
      },
      "text/plain": [
       "Training:   0%|          | 0/1875 [00:00<?, ?it/s]"
      ]
     },
     "metadata": {},
     "output_type": "display_data"
    },
    {
     "data": {
      "application/vnd.jupyter.widget-view+json": {
       "model_id": "",
       "version_major": 2,
       "version_minor": 0
      },
      "text/plain": [
       "Testing:   0%|          | 0/313 [00:00<?, ?it/s]"
      ]
     },
     "metadata": {},
     "output_type": "display_data"
    },
    {
     "data": {
      "application/vnd.jupyter.widget-view+json": {
       "model_id": "",
       "version_major": 2,
       "version_minor": 0
      },
      "text/plain": [
       "Training:   0%|          | 0/1875 [00:00<?, ?it/s]"
      ]
     },
     "metadata": {},
     "output_type": "display_data"
    },
    {
     "data": {
      "application/vnd.jupyter.widget-view+json": {
       "model_id": "",
       "version_major": 2,
       "version_minor": 0
      },
      "text/plain": [
       "Testing:   0%|          | 0/313 [00:00<?, ?it/s]"
      ]
     },
     "metadata": {},
     "output_type": "display_data"
    },
    {
     "data": {
      "application/vnd.jupyter.widget-view+json": {
       "model_id": "",
       "version_major": 2,
       "version_minor": 0
      },
      "text/plain": [
       "Training:   0%|          | 0/1875 [00:00<?, ?it/s]"
      ]
     },
     "metadata": {},
     "output_type": "display_data"
    },
    {
     "data": {
      "application/vnd.jupyter.widget-view+json": {
       "model_id": "",
       "version_major": 2,
       "version_minor": 0
      },
      "text/plain": [
       "Testing:   0%|          | 0/313 [00:00<?, ?it/s]"
      ]
     },
     "metadata": {},
     "output_type": "display_data"
    },
    {
     "data": {
      "application/vnd.jupyter.widget-view+json": {
       "model_id": "",
       "version_major": 2,
       "version_minor": 0
      },
      "text/plain": [
       "Training:   0%|          | 0/1875 [00:00<?, ?it/s]"
      ]
     },
     "metadata": {},
     "output_type": "display_data"
    },
    {
     "data": {
      "application/vnd.jupyter.widget-view+json": {
       "model_id": "",
       "version_major": 2,
       "version_minor": 0
      },
      "text/plain": [
       "Testing:   0%|          | 0/313 [00:00<?, ?it/s]"
      ]
     },
     "metadata": {},
     "output_type": "display_data"
    },
    {
     "data": {
      "application/vnd.jupyter.widget-view+json": {
       "model_id": "",
       "version_major": 2,
       "version_minor": 0
      },
      "text/plain": [
       "Training:   0%|          | 0/1875 [00:00<?, ?it/s]"
      ]
     },
     "metadata": {},
     "output_type": "display_data"
    },
    {
     "data": {
      "application/vnd.jupyter.widget-view+json": {
       "model_id": "",
       "version_major": 2,
       "version_minor": 0
      },
      "text/plain": [
       "Testing:   0%|          | 0/313 [00:00<?, ?it/s]"
      ]
     },
     "metadata": {},
     "output_type": "display_data"
    },
    {
     "data": {
      "application/vnd.jupyter.widget-view+json": {
       "model_id": "",
       "version_major": 2,
       "version_minor": 0
      },
      "text/plain": [
       "Training:   0%|          | 0/1875 [00:00<?, ?it/s]"
      ]
     },
     "metadata": {},
     "output_type": "display_data"
    },
    {
     "data": {
      "application/vnd.jupyter.widget-view+json": {
       "model_id": "",
       "version_major": 2,
       "version_minor": 0
      },
      "text/plain": [
       "Testing:   0%|          | 0/313 [00:00<?, ?it/s]"
      ]
     },
     "metadata": {},
     "output_type": "display_data"
    },
    {
     "data": {
      "application/vnd.jupyter.widget-view+json": {
       "model_id": "",
       "version_major": 2,
       "version_minor": 0
      },
      "text/plain": [
       "Training:   0%|          | 0/1875 [00:00<?, ?it/s]"
      ]
     },
     "metadata": {},
     "output_type": "display_data"
    },
    {
     "data": {
      "application/vnd.jupyter.widget-view+json": {
       "model_id": "",
       "version_major": 2,
       "version_minor": 0
      },
      "text/plain": [
       "Testing:   0%|          | 0/313 [00:00<?, ?it/s]"
      ]
     },
     "metadata": {},
     "output_type": "display_data"
    },
    {
     "data": {
      "application/vnd.jupyter.widget-view+json": {
       "model_id": "",
       "version_major": 2,
       "version_minor": 0
      },
      "text/plain": [
       "Training:   0%|          | 0/1875 [00:00<?, ?it/s]"
      ]
     },
     "metadata": {},
     "output_type": "display_data"
    },
    {
     "data": {
      "application/vnd.jupyter.widget-view+json": {
       "model_id": "",
       "version_major": 2,
       "version_minor": 0
      },
      "text/plain": [
       "Testing:   0%|          | 0/313 [00:00<?, ?it/s]"
      ]
     },
     "metadata": {},
     "output_type": "display_data"
    },
    {
     "data": {
      "application/vnd.jupyter.widget-view+json": {
       "model_id": "",
       "version_major": 2,
       "version_minor": 0
      },
      "text/plain": [
       "Training:   0%|          | 0/1875 [00:00<?, ?it/s]"
      ]
     },
     "metadata": {},
     "output_type": "display_data"
    },
    {
     "data": {
      "application/vnd.jupyter.widget-view+json": {
       "model_id": "",
       "version_major": 2,
       "version_minor": 0
      },
      "text/plain": [
       "Testing:   0%|          | 0/313 [00:00<?, ?it/s]"
      ]
     },
     "metadata": {},
     "output_type": "display_data"
    },
    {
     "data": {
      "application/vnd.jupyter.widget-view+json": {
       "model_id": "",
       "version_major": 2,
       "version_minor": 0
      },
      "text/plain": [
       "Training:   0%|          | 0/1875 [00:00<?, ?it/s]"
      ]
     },
     "metadata": {},
     "output_type": "display_data"
    },
    {
     "data": {
      "application/vnd.jupyter.widget-view+json": {
       "model_id": "",
       "version_major": 2,
       "version_minor": 0
      },
      "text/plain": [
       "Testing:   0%|          | 0/313 [00:00<?, ?it/s]"
      ]
     },
     "metadata": {},
     "output_type": "display_data"
    }
   ],
   "source": [
    "model_cnn_pool = nn.Sequential(\n",
    "    nn.Conv2d(C, filters,3, padding=int(3/2)),\n",
    "    nn.Tanh(),\n",
    "    nn.Conv2d(filters, filters,3, padding=int(3/2)),\n",
    "    nn.Tanh(),\n",
    "    nn.Conv2d(filters, filters,3, padding=int(3/2)),\n",
    "    nn.Tanh(),\n",
    "    nn.MaxPool2d(2),\n",
    "    nn.Conv2d(filters,2*filters,3, padding=int(3/2)),\n",
    "    nn.Tanh(),\n",
    "    nn.Conv2d(2*filters,2*filters,3, padding=int(3/2)),\n",
    "    nn.Tanh(),\n",
    "    nn.Conv2d(2*filters,2*filters,3, padding=int(3/2)),\n",
    "    nn.Tanh(),\n",
    "    nn.MaxPool2d(2),\n",
    "    nn.Flatten(),\n",
    "    # Why did we reduce the number of units into the Linear layer by a factor of 4^2? Because\n",
    "    # pooling a 2x2 grid down to one value means we go from 4 values, down to 1, and we did\n",
    "    # this two times.\n",
    "    nn.Linear(int(2*filters*D/(4**2)), classes),\n",
    ")\n",
    "cnn_results_with_pool = train_simple_network(model_cnn_pool, loss_func, mnist_train_loader,\n",
    "test_loader=mnist_test_loader, score_funcs={'Accuracy': accuracy_score}, device=device,\n",
    "epochs=10)"
   ]
  },
  {
   "cell_type": "code",
   "execution_count": 65,
   "id": "392d73d9",
   "metadata": {},
   "outputs": [
    {
     "name": "stdout",
     "output_type": "stream",
     "text": [
      "Org Img Class 5 Prob:  0.5531059\n",
      "Lower Right Img Class 5 Prob:  0.7203776\n",
      "Uper Left Img Class 5 Prob:  0.40441492\n"
     ]
    }
   ],
   "source": [
    "model = model_cnn_pool.cpu().eval()\n",
    "\n",
    "img_pred = pred(model, img)\n",
    "img_lr_pred = pred(model, img_lr)\n",
    "img_ul_pred = pred(model, img_ul)\n",
    "\n",
    "print(\"Org Img Class {} Prob: \".format(correct_class) , img_pred[correct_class])\n",
    "print(\"Lower Right Img Class {} Prob: \".format(correct_class) , img_lr_pred[correct_class])\n",
    "print(\"Uper Left Img Class {} Prob: \".format(correct_class) , img_ul_pred[correct_class])"
   ]
  },
  {
   "cell_type": "markdown",
   "id": "0a827257",
   "metadata": {},
   "source": [
    "From the results above, we can see a slight improvement from the model."
   ]
  },
  {
   "cell_type": "code",
   "execution_count": 67,
   "id": "38327485",
   "metadata": {},
   "outputs": [
    {
     "data": {
      "image/png": "[encoded data removed]",
      "text/plain": [
       "<Figure size 640x480 with 1 Axes>"
      ]
     },
     "metadata": {},
     "output_type": "display_data"
    }
   ],
   "source": [
    "sns.lineplot(x='epoch', y='test Accuracy', data=cnn_results, label='Simple CNN')\n",
    "sns.lineplot(x='epoch', y='test Accuracy', data=cnn_results_with_pool, label='CNN w/ Max Pooling')\n",
    "plt.show()"
   ]
  },
  {
   "cell_type": "markdown",
   "id": "71d270db",
   "metadata": {},
   "source": [
    "More advance technique for CNN can be found in MEAP book page 96-100 about Data Augmentation"
   ]
  }
 ],
 "metadata": {
  "kernelspec": {
   "display_name": "Python 3",
   "language": "python",
   "name": "python3"
  },
  "language_info": {
   "codemirror_mode": {
    "name": "ipython",
    "version": 3
   },
   "file_extension": ".py",
   "mimetype": "text/x-python",
   "name": "python",
   "nbconvert_exporter": "python",
   "pygments_lexer": "ipython3",
   "version": "3.8.10"
  }
 },
 "nbformat": 4,
 "nbformat_minor": 5
}
