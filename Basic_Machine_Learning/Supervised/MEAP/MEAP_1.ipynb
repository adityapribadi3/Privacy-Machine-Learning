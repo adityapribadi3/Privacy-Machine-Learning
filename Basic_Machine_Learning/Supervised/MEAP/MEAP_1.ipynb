{
 "cells": [
  {
   "cell_type": "markdown",
   "metadata": {
    "colab_type": "text",
    "id": "view-in-github"
   },
   "source": [
    "<a href=\"https://colab.research.google.com/github/adityapribadi3/Privacy-Machine-Learning/blob/main/MEAP_1.ipynb\" target=\"_parent\"><img src=\"https://colab.research.google.com/assets/colab-badge.svg\" alt=\"Open In Colab\"/></a>"
   ]
  },
  {
   "cell_type": "markdown",
   "metadata": {
    "id": "C-0G9cvLV6wk"
   },
   "source": [
    "# Chapter 1: Studying Tensor and Pytorch"
   ]
  },
  {
   "cell_type": "markdown",
   "metadata": {
    "id": "sN323q0vZmQM"
   },
   "source": [
    "## Learning torch and some functionalities it has\n",
    "\n",
    "Scalar: any single number\n",
    "\n",
    "Vector: 1 dimensional array\n",
    "\n",
    "Matrix: 2 dimensional array"
   ]
  },
  {
   "cell_type": "code",
   "execution_count": 1,
   "metadata": {
    "id": "QuEeqzK4V4v3"
   },
   "outputs": [],
   "source": [
    "import torch\n",
    "import matplotlib.pyplot as plt"
   ]
  },
  {
   "cell_type": "code",
   "execution_count": 2,
   "metadata": {
    "id": "cwl64USSTOBG"
   },
   "outputs": [],
   "source": [
    "torch_scalar = torch.tensor(3.14)\n",
    "torch_vector = torch.tensor([1, 2, 3, 4])\n",
    "torch_matrix = torch.tensor([\n",
    "                             [1, 2, 3, 4],\n",
    "                             [1, 2, 3, 4],\n",
    "                             [1, 2, 3, 4]\n",
    "                             ])\n",
    "torch_tensor3d = torch.tensor([\n",
    "                             [\n",
    "                              [1, 2, 3],\n",
    "                              [5, 6, 7],\n",
    "                              ],\n",
    "                             [\n",
    "                              [9, 10, 11],\n",
    "                              [13, 14, 15],\n",
    "                              ],\n",
    "                             [\n",
    "                              [17, 18, 19],\n",
    "                              [21, 22, 23],\n",
    "                              ],\n",
    "                             [\n",
    "                              [25, 26, 27],\n",
    "                              [29, 30, 31],\n",
    "                              ],\n",
    "                             ])"
   ]
  },
  {
   "cell_type": "code",
   "execution_count": 3,
   "metadata": {
    "colab": {
     "base_uri": "https://localhost:8080/"
    },
    "id": "AkeKAoU-T9b8",
    "outputId": "6c2e1cc5-c1d4-4043-c82e-6543abb53b74"
   },
   "outputs": [
    {
     "name": "stdout",
     "output_type": "stream",
     "text": [
      "torch.Size([])\n",
      "torch.Size([4])\n",
      "torch.Size([3, 4])\n",
      "torch.Size([4, 2, 3])\n"
     ]
    }
   ],
   "source": [
    "print(torch_scalar.shape)\n",
    "print(torch_vector.shape)\n",
    "print(torch_matrix.shape)\n",
    "print(torch_tensor3d.shape)"
   ]
  },
  {
   "cell_type": "markdown",
   "metadata": {
    "id": "Gmc2YQFuUXN_"
   },
   "source": [
    "Importing numpy and changing it into tensor object."
   ]
  },
  {
   "cell_type": "code",
   "execution_count": 4,
   "metadata": {
    "colab": {
     "base_uri": "https://localhost:8080/"
    },
    "id": "uLU0qhBmUWwv",
    "outputId": "8b6dea64-9684-42aa-a546-ba518de3787c"
   },
   "outputs": [
    {
     "name": "stdout",
     "output_type": "stream",
     "text": [
      "[[0.5277893  0.58210296 0.66805214 0.78478661]\n",
      " [0.28151976 0.11582188 0.86770883 0.7407739 ]\n",
      " [0.46138848 0.80082486 0.41894671 0.45437046]\n",
      " [0.83516022 0.91126963 0.81032874 0.69698067]]\n"
     ]
    }
   ],
   "source": [
    "import numpy as np\n",
    "\n",
    "x_np = np.random.random((4, 4))\n",
    "print(x_np)"
   ]
  },
  {
   "cell_type": "code",
   "execution_count": 5,
   "metadata": {
    "colab": {
     "base_uri": "https://localhost:8080/"
    },
    "id": "6upJOKi2Uiwz",
    "outputId": "cab77d23-e0ea-4648-caf8-99a37b382bd8"
   },
   "outputs": [
    {
     "name": "stdout",
     "output_type": "stream",
     "text": [
      "tensor([[0.5278, 0.5821, 0.6681, 0.7848],\n",
      "        [0.2815, 0.1158, 0.8677, 0.7408],\n",
      "        [0.4614, 0.8008, 0.4189, 0.4544],\n",
      "        [0.8352, 0.9113, 0.8103, 0.6970]], dtype=torch.float64)\n"
     ]
    }
   ],
   "source": [
    "x_pt = torch.tensor(x_np)\n",
    "print(x_pt)"
   ]
  },
  {
   "cell_type": "markdown",
   "metadata": {
    "id": "4xtuEw_ZVHHW"
   },
   "source": [
    "Sometimes type is also a problem in casting as they may be changed. Hence, defining it explicitly can prevent this kind of thing to happen."
   ]
  },
  {
   "cell_type": "code",
   "execution_count": 6,
   "metadata": {
    "colab": {
     "base_uri": "https://localhost:8080/"
    },
    "id": "i9xe-c-0VVK8",
    "outputId": "4bd8b763-9f8e-453a-de68-1ca8a6cfe531"
   },
   "outputs": [
    {
     "name": "stdout",
     "output_type": "stream",
     "text": [
      "float32 torch.float32\n"
     ]
    }
   ],
   "source": [
    "x_np = np.asarray(x_np, dtype=np.float32)\n",
    "x_pt = torch.tensor(x_np, dtype=torch.float32)\n",
    "print(x_np.dtype, x_pt.dtype)"
   ]
  },
  {
   "cell_type": "markdown",
   "metadata": {
    "id": "rpAqzWRRVfM4"
   },
   "source": [
    "We can also use logic operations to quickly create a binary masks (a mask to tell us which portion of tensors are valid to be used)"
   ]
  },
  {
   "cell_type": "code",
   "execution_count": 7,
   "metadata": {
    "colab": {
     "base_uri": "https://localhost:8080/"
    },
    "id": "YpaPsFgAVuRi",
    "outputId": "2600738a-aa25-411e-c83b-648c907e2641"
   },
   "outputs": [
    {
     "name": "stdout",
     "output_type": "stream",
     "text": [
      "[[ True  True  True  True]\n",
      " [False False  True  True]\n",
      " [False  True False False]\n",
      " [ True  True  True  True]]\n",
      "bool\n"
     ]
    }
   ],
   "source": [
    "b_np = (x_np > 0.5)\n",
    "print(b_np)\n",
    "print(b_np.dtype)"
   ]
  },
  {
   "cell_type": "code",
   "execution_count": 8,
   "metadata": {
    "colab": {
     "base_uri": "https://localhost:8080/"
    },
    "id": "qWgWi6MXVyoR",
    "outputId": "fbea2ea3-bcc1-4dcb-8e3e-ca99c1ee97aa"
   },
   "outputs": [
    {
     "name": "stdout",
     "output_type": "stream",
     "text": [
      "tensor([[ True,  True,  True,  True],\n",
      "        [False, False,  True,  True],\n",
      "        [False,  True, False, False],\n",
      "        [ True,  True,  True,  True]])\n",
      "torch.bool\n"
     ]
    }
   ],
   "source": [
    "b_pt = (x_pt > 0.5)\n",
    "print(b_pt)\n",
    "print(b_pt.dtype)"
   ]
  },
  {
   "cell_type": "markdown",
   "metadata": {
    "id": "fs60boYUWIr8"
   },
   "source": [
    "While numpy and pytorch are not identical, they share many functions with the same names, behaviours, and characteristics."
   ]
  },
  {
   "cell_type": "code",
   "execution_count": 9,
   "metadata": {
    "colab": {
     "base_uri": "https://localhost:8080/"
    },
    "id": "c1ZW88RQWIKS",
    "outputId": "7bd03704-da51-446e-99ae-ce1811dd827d"
   },
   "outputs": [
    {
     "data": {
      "text/plain": [
       "9.957825"
      ]
     },
     "execution_count": 9,
     "metadata": {},
     "output_type": "execute_result"
    }
   ],
   "source": [
    "np.sum(x_np)"
   ]
  },
  {
   "cell_type": "code",
   "execution_count": 10,
   "metadata": {
    "colab": {
     "base_uri": "https://localhost:8080/"
    },
    "id": "slvv3mB0WXki",
    "outputId": "75899f52-72e5-45bc-f9cd-5f91587dfad1"
   },
   "outputs": [
    {
     "data": {
      "text/plain": [
       "tensor(9.9578)"
      ]
     },
     "execution_count": 10,
     "metadata": {},
     "output_type": "execute_result"
    }
   ],
   "source": [
    "torch.sum(x_pt)"
   ]
  },
  {
   "cell_type": "code",
   "execution_count": 11,
   "metadata": {
    "colab": {
     "base_uri": "https://localhost:8080/"
    },
    "id": "2jlBRN9jWjXg",
    "outputId": "f798af57-25e1-4569-c81e-64649f532307"
   },
   "outputs": [
    {
     "data": {
      "text/plain": [
       "array([[0.5277893 , 0.28151977, 0.46138847, 0.8351602 ],\n",
       "       [0.58210295, 0.11582188, 0.8008249 , 0.9112696 ],\n",
       "       [0.66805214, 0.8677088 , 0.4189467 , 0.8103287 ],\n",
       "       [0.7847866 , 0.7407739 , 0.45437047, 0.69698066]], dtype=float32)"
      ]
     },
     "execution_count": 11,
     "metadata": {},
     "output_type": "execute_result"
    }
   ],
   "source": [
    "np.transpose(x_np)"
   ]
  },
  {
   "cell_type": "code",
   "execution_count": 12,
   "metadata": {
    "colab": {
     "base_uri": "https://localhost:8080/"
    },
    "id": "8kzePS8UWjbD",
    "outputId": "7349a2a1-97f5-439a-e255-d1cb2e870bd7"
   },
   "outputs": [
    {
     "data": {
      "text/plain": [
       "tensor([[0.5278, 0.2815, 0.4614, 0.8352],\n",
       "        [0.5821, 0.1158, 0.8008, 0.9113],\n",
       "        [0.6681, 0.8677, 0.4189, 0.8103],\n",
       "        [0.7848, 0.7408, 0.4544, 0.6970]])"
      ]
     },
     "execution_count": 12,
     "metadata": {},
     "output_type": "execute_result"
    }
   ],
   "source": [
    "torch.transpose(x_pt,0,1)"
   ]
  },
  {
   "cell_type": "code",
   "execution_count": 13,
   "metadata": {
    "colab": {
     "base_uri": "https://localhost:8080/"
    },
    "id": "SjVv1gCzXIXU",
    "outputId": "e7e4f063-54ec-4715-e701-557444ef687a"
   },
   "outputs": [
    {
     "name": "stdout",
     "output_type": "stream",
     "text": [
      "tensor([[[ 1,  9, 17, 25],\n",
      "         [ 5, 13, 21, 29]],\n",
      "\n",
      "        [[ 2, 10, 18, 26],\n",
      "         [ 6, 14, 22, 30]],\n",
      "\n",
      "        [[ 3, 11, 19, 27],\n",
      "         [ 7, 15, 23, 31]]])\n"
     ]
    }
   ],
   "source": [
    "print(torch.transpose(torch_tensor3d,0,2))"
   ]
  },
  {
   "cell_type": "markdown",
   "metadata": {
    "id": "zrN1Ed6aZo8d"
   },
   "source": [
    "## Timing torch"
   ]
  },
  {
   "cell_type": "code",
   "execution_count": 14,
   "metadata": {
    "colab": {
     "base_uri": "https://localhost:8080/"
    },
    "id": "mVrRXib7Zsa0",
    "outputId": "918238cc-f06b-4678-9164-caf6f43f5dd4"
   },
   "outputs": [
    {
     "name": "stdout",
     "output_type": "stream",
     "text": [
      "8.349250899999998\n"
     ]
    }
   ],
   "source": [
    "import timeit\n",
    "x = torch.rand(2**11,2**11)\n",
    "time_cpu = timeit.timeit(\"x@x\", globals=globals(), number=100)\n",
    "print(time_cpu)"
   ]
  },
  {
   "cell_type": "code",
   "execution_count": 15,
   "metadata": {
    "colab": {
     "base_uri": "https://localhost:8080/"
    },
    "id": "FYhOL0jNZ1XC",
    "outputId": "ad7c4d1a-531b-4872-82cf-d0fff8a3486b"
   },
   "outputs": [
    {
     "name": "stdout",
     "output_type": "stream",
     "text": [
      "Is CUDA available? : True\n"
     ]
    }
   ],
   "source": [
    "print(\"Is CUDA available? :\", torch.cuda.is_available())\n",
    "device = torch.device(\"cuda\")"
   ]
  },
  {
   "cell_type": "code",
   "execution_count": 16,
   "metadata": {
    "colab": {
     "base_uri": "https://localhost:8080/"
    },
    "id": "AO6XBOKZZ9ZD",
    "outputId": "96ed9952-d9d6-41f4-8bdb-40082182c271"
   },
   "outputs": [
    {
     "name": "stdout",
     "output_type": "stream",
     "text": [
      "0.3122556000000003\n"
     ]
    }
   ],
   "source": [
    "x = x.to(device)\n",
    "time_gpu = timeit.timeit(\"x@x\", globals=globals(), number=100)\n",
    "print(time_gpu)"
   ]
  },
  {
   "cell_type": "markdown",
   "metadata": {
    "id": "Q1JVpzbrarY1"
   },
   "source": [
    "GPU gives us faster time. However, we need to keep in mind that it only works if every object involved is on the same device. The commented code below will give us an error."
   ]
  },
  {
   "cell_type": "code",
   "execution_count": 17,
   "metadata": {
    "id": "lS05XLiEa5c9"
   },
   "outputs": [],
   "source": [
    "x = torch.rand(128,128).to(device)\n",
    "y = torch.rand(128,128)\n",
    "# x*y"
   ]
  },
  {
   "cell_type": "markdown",
   "metadata": {
    "id": "4EiXZCY7bLS_"
   },
   "source": [
    "Sometimes we also want to convert it back to numpy. Doing such thing on torch object on GPU device will raise an error. Hence, we need to move it back to CPU as shown below."
   ]
  },
  {
   "cell_type": "code",
   "execution_count": 18,
   "metadata": {
    "colab": {
     "base_uri": "https://localhost:8080/"
    },
    "id": "YIrigJntbXlb",
    "outputId": "0dc2ccde-a4e2-46e8-cc4f-fb772f3c0c71"
   },
   "outputs": [
    {
     "data": {
      "text/plain": [
       "<function Tensor.numpy>"
      ]
     },
     "execution_count": 18,
     "metadata": {},
     "output_type": "execute_result"
    }
   ],
   "source": [
    "x.cpu().numpy"
   ]
  },
  {
   "cell_type": "markdown",
   "metadata": {
    "id": "YJ7mroUQbfZc"
   },
   "source": [
    "We can create a simple function as below as well."
   ]
  },
  {
   "cell_type": "code",
   "execution_count": 19,
   "metadata": {
    "id": "sOgXlorTbegv"
   },
   "outputs": [],
   "source": [
    "def moveTo(obj, device):\n",
    "    \"\"\"\n",
    "    obj: the python object to move to a device, or to move its contents to a device\n",
    "    device: the compute device to move objects to\n",
    "    \"\"\"\n",
    "    print('Initial object: ', obj)\n",
    "    if isinstance(obj, list):\n",
    "        return [moveTo(x, device) for x in obj]\n",
    "    elif isinstance(obj, tuple):\n",
    "        return tuple(moveTo(list(obj), device))\n",
    "    elif isinstance(obj, set):\n",
    "        return set(moveTo(list(obj), device))\n",
    "    elif isinstance(obj, dict):\n",
    "        to_ret = dict()\n",
    "        for key, value in obj.items():\n",
    "            to_ret[moveTo(key, device)] = moveTo(value, device)\n",
    "        return to_ret\n",
    "    elif hasattr(obj, \"to\"):\n",
    "        print('here: ', obj)\n",
    "        return obj.to(device)\n",
    "    else:\n",
    "        print('here_1')\n",
    "        return obj"
   ]
  },
  {
   "cell_type": "code",
   "execution_count": 20,
   "metadata": {
    "colab": {
     "base_uri": "https://localhost:8080/"
    },
    "id": "3TP3702VaqxN",
    "outputId": "3bafb25e-aac6-431e-b368-93d308ae45ed"
   },
   "outputs": [
    {
     "name": "stdout",
     "output_type": "stream",
     "text": [
      "Is CUDA available? : True\n"
     ]
    }
   ],
   "source": [
    "print(\"Is CUDA available? :\", torch.cuda.is_available())\n",
    "device = torch.device(\"cuda\")"
   ]
  },
  {
   "cell_type": "code",
   "execution_count": 21,
   "metadata": {
    "colab": {
     "base_uri": "https://localhost:8080/"
    },
    "id": "Mxq-SSj4cHRf",
    "outputId": "e0f3df6d-f737-4f66-f312-fc126ccd50c3"
   },
   "outputs": [
    {
     "name": "stdout",
     "output_type": "stream",
     "text": [
      "Initial object:  [tensor([1, 2]), tensor(2)]\n",
      "Initial object:  tensor([1, 2])\n",
      "here:  tensor([1, 2])\n",
      "Initial object:  tensor(2)\n",
      "here:  tensor(2)\n",
      "[tensor([1, 2], device='cuda:0'), tensor(2, device='cuda:0')]\n"
     ]
    }
   ],
   "source": [
    "some_tensors = [torch.tensor([1,2]), torch.tensor(2)]\n",
    "print(moveTo(some_tensors, device))"
   ]
  },
  {
   "cell_type": "markdown",
   "metadata": {
    "id": "oVK9Mv7GlDUj"
   },
   "source": [
    "## Finding minimum using derivation and gradients (loss function)"
   ]
  },
  {
   "cell_type": "markdown",
   "metadata": {
    "id": "QYwPMlIYv4kM"
   },
   "source": [
    "## Calculating gradient: why we need gradient?"
   ]
  },
  {
   "cell_type": "code",
   "execution_count": 22,
   "metadata": {
    "id": "j1OlKfxQdMrY"
   },
   "outputs": [],
   "source": [
    "import seaborn as sns"
   ]
  },
  {
   "cell_type": "code",
   "execution_count": 23,
   "metadata": {
    "colab": {
     "base_uri": "https://localhost:8080/",
     "height": 335
    },
    "id": "YKJX6JyXlOFb",
    "outputId": "1a323396-57e2-4a15-a700-58bdaf20e13a"
   },
   "outputs": [
    {
     "name": "stderr",
     "output_type": "stream",
     "text": [
      "D:\\miniconda\\envs\\meap\\lib\\site-packages\\seaborn\\_decorators.py:36: FutureWarning: Pass the following variables as keyword args: x, y. From version 0.12, the only valid positional argument will be `data`, and passing other arguments without an explicit keyword will result in an error or misinterpretation.\n",
      "  warnings.warn(\n"
     ]
    },
    {
     "data": {
      "image/png": "[encoded data removed]",
      "text/plain": [
       "<Figure size 640x480 with 1 Axes>"
      ]
     },
     "metadata": {},
     "output_type": "display_data"
    }
   ],
   "source": [
    "def f(x):\n",
    "    return torch.pow((x-2.0),2)\n",
    "\n",
    "x_axis_vals = np.linspace(-7,9,100)\n",
    "y_axis_vals = f(torch.tensor(x_axis_vals)).numpy()\n",
    "sns.lineplot(x_axis_vals, y_axis_vals, label='$f(x)=(x-2)^2$')\n",
    "plt.show()"
   ]
  },
  {
   "cell_type": "markdown",
   "metadata": {
    "id": "FRT3d1VHC2ez"
   },
   "source": [
    "From the graph, we know that the minimum value of function x is at $x=2$, where value of $f(2)=0$. We can use calculus to find it's minimum.\n",
    "\n",
    "First we denote that the derivative of $f(x)$ is $f'(x)$, and we can get the answer from calculus that the derivative of function $f(x)=(x-2)^2$ is $f'(x)=2x-4$. The minimum of a function ($x$<sup>*</sup>) exists at critical points, which are points where $f(x)=0$.\n",
    "\n",
    "To solve it we can use the math below:\n",
    "\n",
    "$0=2x-4$ \\\n",
    "$4=2x$ \\\n",
    "$x=2$ \\\n",
    "\n",
    "However, pytorch cannot do that as we will solve a more complicated task.\n",
    "So, we need to guess the $x$<sup>?</sup>.\n",
    "\n",
    "We can use f’($x$<sup>?</sup>) to help us know how to adjust x? so that we move closer to a minimizer.\n",
    "\n",
    "How is that possible? Lets plot $f(x)$ and $f’(x)$ at the same time."
   ]
  },
  {
   "cell_type": "code",
   "execution_count": 24,
   "metadata": {
    "colab": {
     "base_uri": "https://localhost:8080/",
     "height": 402
    },
    "id": "h97aU9L6GtMS",
    "outputId": "5f04ebd5-e52e-49fa-a54f-550dad5a3170"
   },
   "outputs": [
    {
     "name": "stderr",
     "output_type": "stream",
     "text": [
      "D:\\miniconda\\envs\\meap\\lib\\site-packages\\seaborn\\_decorators.py:36: FutureWarning: Pass the following variables as keyword args: x, y. From version 0.12, the only valid positional argument will be `data`, and passing other arguments without an explicit keyword will result in an error or misinterpretation.\n",
      "  warnings.warn(\n",
      "D:\\miniconda\\envs\\meap\\lib\\site-packages\\seaborn\\_decorators.py:36: FutureWarning: Pass the following variables as keyword args: x, y. From version 0.12, the only valid positional argument will be `data`, and passing other arguments without an explicit keyword will result in an error or misinterpretation.\n",
      "  warnings.warn(\n",
      "D:\\miniconda\\envs\\meap\\lib\\site-packages\\seaborn\\_decorators.py:36: FutureWarning: Pass the following variables as keyword args: x, y. From version 0.12, the only valid positional argument will be `data`, and passing other arguments without an explicit keyword will result in an error or misinterpretation.\n",
      "  warnings.warn(\n"
     ]
    },
    {
     "data": {
      "image/png": "[encoded data removed]",
      "text/plain": [
       "<Figure size 640x480 with 1 Axes>"
      ]
     },
     "metadata": {},
     "output_type": "display_data"
    }
   ],
   "source": [
    "def fP(x): \n",
    "    '''\n",
    "        Defining the derivative of f(x) manually\n",
    "    '''\n",
    "    return 2*x-4\n",
    "\n",
    "y_axis_vals_p = fP(torch.tensor(x_axis_vals)).numpy()\n",
    "\n",
    "#First, lets draw a black line at 0, so that we can easily tell if something is positive or negative\n",
    "sns.lineplot(x_axis_vals, [0.0]*len(x_axis_vals), label=\"0\", color='black')\n",
    "sns.lineplot(x_axis_vals, y_axis_vals, label='$f(x) = (x-2)^2$')\n",
    "sns.lineplot(x_axis_vals, y_axis_vals_p, label=\"$f'(x)=2 x - 4$\")\n",
    "plt.show()"
   ]
  },
  {
   "cell_type": "markdown",
   "metadata": {
    "id": "iSspWXZSH1SN"
   },
   "source": [
    "Looking at the graphic above, we see that the orange line with function $f'(x) < 0$ if $x < 2$ and $f'(x) > 0$ if $x > 2$. $f’$ tells us which direction we should move to find a minimizer. This process of gradient decent is summarized in the Figure below.\n",
    "\n",
    "<img src=\"https://drive.google.com/uc?export=view&id=1uN_-FivZGR_wLGgVpb0lyJR0zdDyJ1aC\" alt=\"drawing\" width=\"600\"/>\n",
    "\n",
    "We also care about the magnitude of $f’(x$<sup>?</sup>$)$. Because we are looking at a one dimensional function, the magnitude just means the absolute value of $f’(x$<sup>?</sup>$)$, i.e., $| f’(x$<sup>$?$</sup>$)|$. \n",
    "\n",
    "The magnitude gives us an idea about how far away we are from the minimizer. So, the sign of $f’(x$<sup>?</sup>$)$ (<0 or >0) tells us which direction we should head, and the size ($| f’(x)|$) tells us how far we should head. This will always be true for any function. So if we can compute a derivative, we can find a minimizer.\n",
    "\n",
    "Torch has a simple function to calculate this gradient\n"
   ]
  },
  {
   "cell_type": "code",
   "execution_count": 25,
   "metadata": {
    "colab": {
     "base_uri": "https://localhost:8080/"
    },
    "id": "fil2GFujnYiZ",
    "outputId": "3cde45e3-a207-4155-9311-d03e30ee2d38"
   },
   "outputs": [
    {
     "name": "stdout",
     "output_type": "stream",
     "text": [
      "None\n"
     ]
    }
   ],
   "source": [
    "x = torch.tensor([-3.5], requires_grad=True)\n",
    "print(x.grad)"
   ]
  },
  {
   "cell_type": "markdown",
   "metadata": {
    "id": "nhxVTNBsL_nZ"
   },
   "source": [
    "Now There is no current gradient, but let's see after we put the value x to the function f we have defined above, which returns $f(x)=(x-2)^2$"
   ]
  },
  {
   "cell_type": "code",
   "execution_count": 26,
   "metadata": {
    "colab": {
     "base_uri": "https://localhost:8080/"
    },
    "id": "I0CeL7ixI0ad",
    "outputId": "c61a799c-05fd-4053-a671-17ebf18e8581"
   },
   "outputs": [
    {
     "name": "stdout",
     "output_type": "stream",
     "text": [
      "tensor([30.2500], grad_fn=<PowBackward0>)\n"
     ]
    }
   ],
   "source": [
    "value = f(x)\n",
    "print(value)"
   ]
  },
  {
   "cell_type": "markdown",
   "metadata": {
    "id": "DqdhLza2YJVY"
   },
   "source": [
    "Notice that we now have different value. Once we told pytorch to calculate the gradian (requires_grad=true) it will keep track every computation that we do. Then, it use that information to go backward and calculate gradients for everything that had a requires_grad=true."
   ]
  },
  {
   "cell_type": "code",
   "execution_count": 27,
   "metadata": {
    "colab": {
     "base_uri": "https://localhost:8080/"
    },
    "id": "ky0rwWBqY3Mo",
    "outputId": "e36e994a-9d95-4e95-ed52-0bbdf372daa0"
   },
   "outputs": [
    {
     "name": "stdout",
     "output_type": "stream",
     "text": [
      "tensor([-11.])\n"
     ]
    }
   ],
   "source": [
    "value.backward()\n",
    "print(x.grad)"
   ]
  },
  {
   "cell_type": "markdown",
   "metadata": {
    "id": "yKNGm-mqZLGu"
   },
   "source": [
    "That covers how we calculate gradient.we can use this automatic differentiation of our PyTorch function $f(x)$ to numerically find the answer that $f(2) = 0$."
   ]
  },
  {
   "cell_type": "markdown",
   "metadata": {
    "id": "kgFcknNOv_N4"
   },
   "source": [
    "## Optimization Steps"
   ]
  },
  {
   "cell_type": "markdown",
   "metadata": {
    "id": "dX05zWFXpmqu"
   },
   "source": [
    "After calculating the gradient. What we want to do next is find the minimum of the function $f(x)$. This process is called optimization.To do that, first, we define a random value $x$<sub>$cur$</sub>$=-3.5$ and keep track the previous value $x$<sub>$prev$. \n",
    "\n",
    "Since we have not done anything yet, it is okay for us to keep a bigger valur for the previous x, e.g., 100.\n",
    "\n",
    "Next we compare if the our previous guess is similar by checking \n",
    "\n",
    "$∥x$<sub>cur</sub>$ − x$<sub>prev</sub>$∥$<sub>$2$</sub>$ > \\epsilon.$\n",
    "\n",
    "The function $∥z∥$<sub>$2$</sub> is called the norm or 2-norm. Norms are the most common and standard ways of measuring magnitude for vectors and matrices. The value of $\\epsilon$ is a common mathematical notation to refer to some arbitrary small value.\n",
    "\n",
    "if value $> \\epsilon$ we know that there are large changes, otherwise there are small changes. When the changes are small, we can stop and accept $x$<sub>$cur$</sub> as our answer, otherwise we need better guess."
   ]
  },
  {
   "cell_type": "markdown",
   "metadata": {
    "id": "rQlELtnLu-Gi"
   },
   "source": [
    "To get this we need the opposite direction of derivative, which looks like the notation below.\n",
    "\n",
    "$x$<sub>$cur$</sub>$= x$<sub>$cur$</sub>$ - \\eta \\cdot f'(x$<sub>$cur$</sub>$)$\n",
    "\n",
    ", such that $\\eta$ is the learning rate which value is usually small (e.g., 0.1 or 0.01).\n",
    "\n",
    "We do this because the gradient $f'(x)$ tells us which way to head, but only gives us a relative answer about how far away we are. It doesn’t tell us exactly how far we should travel in that direction. Since we don’t know how for to travel, we want to be conservative and go a little slower."
   ]
  },
  {
   "cell_type": "code",
   "execution_count": 28,
   "metadata": {
    "id": "NLlKEri5VFFF"
   },
   "outputs": [],
   "source": [
    "import torch"
   ]
  },
  {
   "cell_type": "code",
   "execution_count": 29,
   "metadata": {
    "id": "vQ2jahsiVHO1"
   },
   "outputs": [],
   "source": [
    "def f(x):\n",
    "    return torch.pow((x-2.0),2)"
   ]
  },
  {
   "cell_type": "code",
   "execution_count": 30,
   "metadata": {
    "id": "2TY-6lKiVCHk"
   },
   "outputs": [],
   "source": [
    "x = torch.tensor([-3.5], requires_grad=True)\n",
    "x_cur = x.clone()\n",
    "x_prev = x_cur*100 #Make the initial \"previous\" solution larger\n",
    "epsilon = 1e-5\n",
    "learning_rate = 0.1"
   ]
  },
  {
   "cell_type": "code",
   "execution_count": 31,
   "metadata": {
    "colab": {
     "base_uri": "https://localhost:8080/"
    },
    "id": "qAfBUdJyaYRc",
    "outputId": "6e3f1d71-83bd-4efb-bbc3-4f7dcf144aad"
   },
   "outputs": [
    {
     "name": "stdout",
     "output_type": "stream",
     "text": [
      "tensor([-11.])\n",
      "tensor([-8.8000])\n",
      "tensor([-7.0400])\n",
      "tensor([-5.6320])\n",
      "tensor([-4.5056])\n",
      "tensor([-3.6045])\n",
      "tensor([-2.8836])\n",
      "tensor([-2.3069])\n",
      "tensor([-1.8455])\n",
      "tensor([-1.4764])\n",
      "tensor([-1.1811])\n",
      "tensor([-0.9449])\n",
      "tensor([-0.7559])\n",
      "tensor([-0.6047])\n",
      "tensor([-0.4838])\n",
      "tensor([-0.3870])\n",
      "tensor([-0.3096])\n",
      "tensor([-0.2477])\n",
      "tensor([-0.1982])\n",
      "tensor([-0.1585])\n",
      "tensor([-0.1268])\n",
      "tensor([-0.1015])\n",
      "tensor([-0.0812])\n",
      "tensor([-0.0649])\n",
      "tensor([-0.0519])\n",
      "tensor([-0.0416])\n",
      "tensor([-0.0332])\n",
      "tensor([-0.0266])\n",
      "tensor([-0.0213])\n",
      "tensor([-0.0170])\n",
      "tensor([-0.0136])\n",
      "tensor([-0.0109])\n",
      "tensor([-0.0087])\n",
      "tensor([-0.0070])\n",
      "tensor([-0.0056])\n",
      "tensor([-0.0045])\n",
      "tensor([-0.0036])\n",
      "tensor([-0.0029])\n",
      "tensor([-0.0023])\n",
      "tensor([-0.0018])\n",
      "tensor([-0.0015])\n",
      "tensor([-0.0012])\n",
      "tensor([-0.0009])\n",
      "tensor([-0.0007])\n",
      "tensor([-0.0006])\n",
      "tensor([-0.0005])\n",
      "tensor([-0.0004])\n",
      "tensor([-0.0003])\n",
      "tensor([-0.0002])\n",
      "tensor([-0.0002])\n",
      "tensor([-0.0002])\n",
      "tensor([-0.0001])\n",
      "tensor([-0.0001])\n",
      "tensor([-8.0347e-05])\n",
      "tensor([2.0000])\n"
     ]
    }
   ],
   "source": [
    "while torch.norm(x_cur-x_prev) > epsilon:\n",
    "    # We need to make a clone here so that x_prev and x_cur don't point to the same object\n",
    "    x_prev = x_cur.clone() \n",
    "\n",
    "    # Compute our function, gradient, and update\n",
    "    value = f(x)\n",
    "\n",
    "    # Compute gradient of x\n",
    "    value.backward()\n",
    "    print(x.grad)\n",
    "\n",
    "    # print(\"Gradient: \",x.grad)\n",
    "    x.data -= learning_rate * x.grad\n",
    "\n",
    "    # We need to zero out the old gradient, as pytorch will not do that for us\n",
    "    x.grad.zero_() \n",
    "    # current data\n",
    "    x_cur = x.data\n",
    "\n",
    "print(x_cur)"
   ]
  },
  {
   "cell_type": "markdown",
   "metadata": {
    "id": "-YUs2bP5YPEM"
   },
   "source": [
    "As stated before, what we just did was optimization by finding the minimum of function $f(x)$. By defining loss function $l(x)$, we optimize $f(x)$ to minimize the loss. Meaning that if $l(x)$ is closer to 0, our network is closer to solve the problem perfectly.\n",
    "\n",
    "The figure below shows how it works:\n",
    "\n",
    "<img src=\"https://drive.google.com/uc?export=view&id=1S4Ks-XxsAP6tIqqvnagNK8jc9KXS_f5a\" alt=\"drawing\" width=\"600\"/>"
   ]
  },
  {
   "cell_type": "markdown",
   "metadata": {
    "id": "tLNNFHj7dW30"
   },
   "source": [
    "Pytorch has 2 additional concept to help us. The **parameter** and the **optimizer**.\n",
    "\n",
    "**Parameter** of a model is a value we want to alter using an **optimizer** so that we can reduce our loss $l(x)$.\n",
    "\n",
    "We can easily convert a tensor object into parameters as shown below."
   ]
  },
  {
   "cell_type": "code",
   "execution_count": 32,
   "metadata": {
    "colab": {
     "base_uri": "https://localhost:8080/"
    },
    "id": "pb6G2Jx2XRus",
    "outputId": "336359f7-05c6-410b-eb87-7d3e434be316"
   },
   "outputs": [
    {
     "data": {
      "text/plain": [
       "Parameter containing:\n",
       "tensor([-3.5000], requires_grad=True)"
      ]
     },
     "execution_count": 32,
     "metadata": {},
     "output_type": "execute_result"
    }
   ],
   "source": [
    "x_param = torch.nn.Parameter(torch.tensor([-3.5]), requires_grad=True)\n",
    "x_param"
   ]
  },
  {
   "cell_type": "markdown",
   "metadata": {
    "id": "rAtnybH7e9wZ"
   },
   "source": [
    "After creating parameter, the next thing that we want to do is to create an **optimizer**.\n",
    "\n",
    "Torch has provided us with several different optimizers. One of them is called the SGD, which stands for (Stochastic Gradient Decent). The word \"gradient\" is because we are using the derivatives/gradients of the function. The word \"decent\" is because we are minimizing or descending to a lower value of the function that we minimize.\n",
    "\n",
    "To use SGD we can use the function below."
   ]
  },
  {
   "cell_type": "code",
   "execution_count": 33,
   "metadata": {
    "colab": {
     "base_uri": "https://localhost:8080/"
    },
    "id": "n343Q6GMXvnE",
    "outputId": "7ff97c57-63d8-456b-8705-1aa59e22fc81"
   },
   "outputs": [
    {
     "data": {
      "text/plain": [
       "SGD (\n",
       "Parameter Group 0\n",
       "    dampening: 0\n",
       "    lr: 0.1\n",
       "    momentum: 0\n",
       "    nesterov: False\n",
       "    weight_decay: 0\n",
       ")"
      ]
     },
     "execution_count": 33,
     "metadata": {},
     "output_type": "execute_result"
    }
   ],
   "source": [
    "optimizer = torch.optim.SGD([x_param], lr=learning_rate)\n",
    "optimizer"
   ]
  },
  {
   "cell_type": "markdown",
   "metadata": {
    "id": "GKBnuec5gu2x"
   },
   "source": [
    "Now, we can re-write our previous loop into:"
   ]
  },
  {
   "cell_type": "code",
   "execution_count": 34,
   "metadata": {
    "colab": {
     "base_uri": "https://localhost:8080/"
    },
    "id": "DepaZV0Mgzb5",
    "outputId": "38edd7b4-b7f7-4e1c-c797-004658d8b845"
   },
   "outputs": [
    {
     "name": "stdout",
     "output_type": "stream",
     "text": [
      "tensor([2.0000])\n"
     ]
    }
   ],
   "source": [
    "for epoch in range(60):\n",
    "    # x.grad.zero_()\n",
    "    optimizer.zero_grad() \n",
    "\n",
    "    # value\n",
    "    loss_incurred = f(x_param) \n",
    "\n",
    "    # calculate gradient\n",
    "    loss_incurred.backward() \n",
    "\n",
    "    # x.data -= eta * x.grad\n",
    "    optimizer.step() \n",
    "    \n",
    "print(x_param.data)"
   ]
  },
  {
   "cell_type": "markdown",
   "metadata": {
    "id": "26LH6B-ciibz"
   },
   "source": [
    "## Loading DataSet Object"
   ]
  },
  {
   "cell_type": "markdown",
   "metadata": {
    "id": "nnnzHGCIMqiP"
   },
   "source": [
    "Now, if we want to do some classification let's start with reading data and using common notation. For example notation X is usually used for input data while Y is the label.\n",
    "\n",
    "Pytorch has Dataset class to represent a dataset. It includes information about:\n",
    "\n",
    "1. How many items are in the dataset.\n",
    "2. How to get the n'th item in the dataset."
   ]
  },
  {
   "cell_type": "code",
   "execution_count": 35,
   "metadata": {
    "colab": {
     "base_uri": "https://localhost:8080/"
    },
    "id": "dVJsn9cCivKd",
    "outputId": "894637e5-9787-4aa8-d11f-e720ec163dcb"
   },
   "outputs": [
    {
     "name": "stdout",
     "output_type": "stream",
     "text": [
      "(70000, 784)\n"
     ]
    }
   ],
   "source": [
    "from torch.utils.data import Dataset\n",
    "from sklearn.datasets import fetch_openml\n",
    "\n",
    "# Load data from https://www.openml.org/d/554\n",
    "# The MNIST database of handwritten digits with 784 features\n",
    "X, y = fetch_openml('mnist_784', version=1, return_X_y=True)\n",
    "print(X.shape)"
   ]
  },
  {
   "cell_type": "markdown",
   "metadata": {
    "id": "k0Os-2_vO5Rl"
   },
   "source": [
    "We can see that we have loaded the classic MNIST dataset with a total of 70,000 rows and 784 features.\n",
    "\n",
    "Now we will create a __SimpleDataset__ class that takes in X, y as input.\n",
    "\n",
    "This class will have $__getitem__$ and $__len__$ functions."
   ]
  },
  {
   "cell_type": "code",
   "execution_count": 39,
   "metadata": {
    "id": "St3N7oGfPAqm"
   },
   "outputs": [],
   "source": [
    "class SimpleDataset(Dataset):\n",
    "    def __init__(self, X, y):\n",
    "        '''\n",
    "            input:\n",
    "            X = n-dimensional input data\n",
    "            y = label as scalar\n",
    "\n",
    "            definition:\n",
    "            a constructor to initialize the value\n",
    "        '''\n",
    "        self.X = X\n",
    "        self.y = y\n",
    "    \n",
    "    def __getitem__(self, index):\n",
    "        '''\n",
    "            input:\n",
    "            index = an index to retrieve a certain item within the dataset\n",
    "\n",
    "            definition:\n",
    "            a method to get a cretain item from the dataset\n",
    "\n",
    "            return:\n",
    "            a set of item (input, and its output/label)\n",
    "        '''\n",
    "        input = torch.tensor(self.X.loc[index,:], dtype=torch.float32)\n",
    "        target = torch.tensor(int(self.y.loc[index]), dtype=torch.int64)\n",
    "        return input, target\n",
    "\n",
    "    def __len__(self):\n",
    "        '''\n",
    "            definition:\n",
    "                a method to get the lenght of the item\n",
    "        '''\n",
    "        return self.X.shape[0]"
   ]
  },
  {
   "cell_type": "code",
   "execution_count": 40,
   "metadata": {
    "colab": {
     "base_uri": "https://localhost:8080/"
    },
    "id": "NxUFQo_SRXpy",
    "outputId": "9cbd8b88-fb04-4c44-a04f-36d6fb58055b"
   },
   "outputs": [
    {
     "data": {
      "text/plain": [
       "<__main__.SimpleDataset at 0x1b7a55a9c70>"
      ]
     },
     "execution_count": 40,
     "metadata": {},
     "output_type": "execute_result"
    }
   ],
   "source": [
    "#Now we can make a PyTorch dataset\n",
    "dataset = SimpleDataset(X, y)\n",
    "dataset"
   ]
  },
  {
   "cell_type": "code",
   "execution_count": 41,
   "metadata": {
    "colab": {
     "base_uri": "https://localhost:8080/"
    },
    "id": "d2Tc43euRXjs",
    "outputId": "5347e5aa-3faa-4c66-f343-84fba2284fe2"
   },
   "outputs": [
    {
     "name": "stdout",
     "output_type": "stream",
     "text": [
      "Length:  70000\n",
      "(tensor([  0.,   0.,   0.,   0.,   0.,   0.,   0.,   0.,   0.,   0.,   0.,   0.,\n",
      "          0.,   0.,   0.,   0.,   0.,   0.,   0.,   0.,   0.,   0.,   0.,   0.,\n",
      "          0.,   0.,   0.,   0.,   0.,   0.,   0.,   0.,   0.,   0.,   0.,   0.,\n",
      "          0.,   0.,   0.,   0.,   0.,   0.,   0.,   0.,   0.,   0.,   0.,   0.,\n",
      "          0.,   0.,   0.,   0.,   0.,   0.,   0.,   0.,   0.,   0.,   0.,   0.,\n",
      "          0.,   0.,   0.,   0.,   0.,   0.,   0.,   0.,   0.,   0.,   0.,   0.,\n",
      "          0.,   0.,   0.,   0.,   0.,   0.,   0.,   0.,   0.,   0.,   0.,   0.,\n",
      "          0.,   0.,   0.,   0.,   0.,   0.,   0.,   0.,   0.,   0.,   0.,   0.,\n",
      "          0.,   0.,   0.,   0.,   0.,   0.,   0.,   0.,   0.,   0.,   0.,   0.,\n",
      "          0.,   0.,   0.,   0.,   0.,   0.,   0.,   0.,   0.,   0.,   0.,   0.,\n",
      "          0.,   0.,   0.,   0.,   0.,   0.,   0.,   0.,   0.,   0.,   0.,   0.,\n",
      "          0.,   0.,   0.,   0.,   0.,   0.,   0.,   0.,   0.,   0.,   0.,   0.,\n",
      "          0.,   0.,   0.,   0.,   0.,   0.,   0.,   0.,   3.,  18.,  18.,  18.,\n",
      "        126., 136., 175.,  26., 166., 255., 247., 127.,   0.,   0.,   0.,   0.,\n",
      "          0.,   0.,   0.,   0.,   0.,   0.,   0.,   0.,  30.,  36.,  94., 154.,\n",
      "        170., 253., 253., 253., 253., 253., 225., 172., 253., 242., 195.,  64.,\n",
      "          0.,   0.,   0.,   0.,   0.,   0.,   0.,   0.,   0.,   0.,   0.,  49.,\n",
      "        238., 253., 253., 253., 253., 253., 253., 253., 253., 251.,  93.,  82.,\n",
      "         82.,  56.,  39.,   0.,   0.,   0.,   0.,   0.,   0.,   0.,   0.,   0.,\n",
      "          0.,   0.,   0.,  18., 219., 253., 253., 253., 253., 253., 198., 182.,\n",
      "        247., 241.,   0.,   0.,   0.,   0.,   0.,   0.,   0.,   0.,   0.,   0.,\n",
      "          0.,   0.,   0.,   0.,   0.,   0.,   0.,   0.,  80., 156., 107., 253.,\n",
      "        253., 205.,  11.,   0.,  43., 154.,   0.,   0.,   0.,   0.,   0.,   0.,\n",
      "          0.,   0.,   0.,   0.,   0.,   0.,   0.,   0.,   0.,   0.,   0.,   0.,\n",
      "          0.,  14.,   1., 154., 253.,  90.,   0.,   0.,   0.,   0.,   0.,   0.,\n",
      "          0.,   0.,   0.,   0.,   0.,   0.,   0.,   0.,   0.,   0.,   0.,   0.,\n",
      "          0.,   0.,   0.,   0.,   0.,   0.,   0., 139., 253., 190.,   2.,   0.,\n",
      "          0.,   0.,   0.,   0.,   0.,   0.,   0.,   0.,   0.,   0.,   0.,   0.,\n",
      "          0.,   0.,   0.,   0.,   0.,   0.,   0.,   0.,   0.,   0.,   0.,  11.,\n",
      "        190., 253.,  70.,   0.,   0.,   0.,   0.,   0.,   0.,   0.,   0.,   0.,\n",
      "          0.,   0.,   0.,   0.,   0.,   0.,   0.,   0.,   0.,   0.,   0.,   0.,\n",
      "          0.,   0.,   0.,   0.,  35., 241., 225., 160., 108.,   1.,   0.,   0.,\n",
      "          0.,   0.,   0.,   0.,   0.,   0.,   0.,   0.,   0.,   0.,   0.,   0.,\n",
      "          0.,   0.,   0.,   0.,   0.,   0.,   0.,   0.,   0.,  81., 240., 253.,\n",
      "        253., 119.,  25.,   0.,   0.,   0.,   0.,   0.,   0.,   0.,   0.,   0.,\n",
      "          0.,   0.,   0.,   0.,   0.,   0.,   0.,   0.,   0.,   0.,   0.,   0.,\n",
      "          0.,   0.,  45., 186., 253., 253., 150.,  27.,   0.,   0.,   0.,   0.,\n",
      "          0.,   0.,   0.,   0.,   0.,   0.,   0.,   0.,   0.,   0.,   0.,   0.,\n",
      "          0.,   0.,   0.,   0.,   0.,   0.,   0.,  16.,  93., 252., 253., 187.,\n",
      "          0.,   0.,   0.,   0.,   0.,   0.,   0.,   0.,   0.,   0.,   0.,   0.,\n",
      "          0.,   0.,   0.,   0.,   0.,   0.,   0.,   0.,   0.,   0.,   0.,   0.,\n",
      "          0., 249., 253., 249.,  64.,   0.,   0.,   0.,   0.,   0.,   0.,   0.,\n",
      "          0.,   0.,   0.,   0.,   0.,   0.,   0.,   0.,   0.,   0.,   0.,   0.,\n",
      "          0.,   0.,  46., 130., 183., 253., 253., 207.,   2.,   0.,   0.,   0.,\n",
      "          0.,   0.,   0.,   0.,   0.,   0.,   0.,   0.,   0.,   0.,   0.,   0.,\n",
      "          0.,   0.,   0.,   0.,  39., 148., 229., 253., 253., 253., 250., 182.,\n",
      "          0.,   0.,   0.,   0.,   0.,   0.,   0.,   0.,   0.,   0.,   0.,   0.,\n",
      "          0.,   0.,   0.,   0.,   0.,   0.,  24., 114., 221., 253., 253., 253.,\n",
      "        253., 201.,  78.,   0.,   0.,   0.,   0.,   0.,   0.,   0.,   0.,   0.,\n",
      "          0.,   0.,   0.,   0.,   0.,   0.,   0.,   0.,  23.,  66., 213., 253.,\n",
      "        253., 253., 253., 198.,  81.,   2.,   0.,   0.,   0.,   0.,   0.,   0.,\n",
      "          0.,   0.,   0.,   0.,   0.,   0.,   0.,   0.,   0.,   0.,  18., 171.,\n",
      "        219., 253., 253., 253., 253., 195.,  80.,   9.,   0.,   0.,   0.,   0.,\n",
      "          0.,   0.,   0.,   0.,   0.,   0.,   0.,   0.,   0.,   0.,   0.,   0.,\n",
      "         55., 172., 226., 253., 253., 253., 253., 244., 133.,  11.,   0.,   0.,\n",
      "          0.,   0.,   0.,   0.,   0.,   0.,   0.,   0.,   0.,   0.,   0.,   0.,\n",
      "          0.,   0.,   0.,   0., 136., 253., 253., 253., 212., 135., 132.,  16.,\n",
      "          0.,   0.,   0.,   0.,   0.,   0.,   0.,   0.,   0.,   0.,   0.,   0.,\n",
      "          0.,   0.,   0.,   0.,   0.,   0.,   0.,   0.,   0.,   0.,   0.,   0.,\n",
      "          0.,   0.,   0.,   0.,   0.,   0.,   0.,   0.,   0.,   0.,   0.,   0.,\n",
      "          0.,   0.,   0.,   0.,   0.,   0.,   0.,   0.,   0.,   0.,   0.,   0.,\n",
      "          0.,   0.,   0.,   0.,   0.,   0.,   0.,   0.,   0.,   0.,   0.,   0.,\n",
      "          0.,   0.,   0.,   0.,   0.,   0.,   0.,   0.,   0.,   0.,   0.,   0.,\n",
      "          0.,   0.,   0.,   0.,   0.,   0.,   0.,   0.,   0.,   0.,   0.,   0.,\n",
      "          0.,   0.,   0.,   0.,   0.,   0.,   0.,   0.,   0.,   0.,   0.,   0.,\n",
      "          0.,   0.,   0.,   0.]), tensor(5))\n",
      "Features:  torch.Size([784])\n",
      "Label of index 0:  tensor(5)\n"
     ]
    }
   ],
   "source": [
    "print(\"Length: \", len(dataset))\n",
    "print(dataset[0])\n",
    "example, label = dataset[0]\n",
    "print(\"Features: \", example.shape) #Will return 784\n",
    "print(\"Label of index 0: \", label)"
   ]
  },
  {
   "cell_type": "code",
   "execution_count": 42,
   "metadata": {
    "colab": {
     "base_uri": "https://localhost:8080/",
     "height": 282
    },
    "id": "K5O2dmhCSPPO",
    "outputId": "bbf3192a-4ed6-40db-fcc1-47ee933d683d"
   },
   "outputs": [
    {
     "data": {
      "text/plain": [
       "<matplotlib.image.AxesImage at 0x1b7814e3940>"
      ]
     },
     "execution_count": 42,
     "metadata": {},
     "output_type": "execute_result"
    }
   ],
   "source": [
    "import matplotlib.pyplot as plt\n",
    "\n",
    "plt.imshow(example.reshape((28,28)))"
   ]
  },
  {
   "cell_type": "markdown",
   "metadata": {
    "id": "Tr2VNq1ESf8G"
   },
   "source": [
    "## Creating training and testing split"
   ]
  },
  {
   "cell_type": "code",
   "execution_count": 43,
   "metadata": {
    "colab": {
     "base_uri": "https://localhost:8080/"
    },
    "id": "PhRDr2MISfJb",
    "outputId": "143c934f-49c1-4aa0-a221-635b8e32e331"
   },
   "outputs": [
    {
     "name": "stdout",
     "output_type": "stream",
     "text": [
      "56000 examples for training and 14000 for testing\n"
     ]
    }
   ],
   "source": [
    "# Define train and test size\n",
    "train_size = int(len(dataset)*0.8)\n",
    "test_size = len(dataset)-train_size\n",
    "\n",
    "train_dataset, test_dataset = torch.utils.data.random_split(dataset, (train_size, test_size))\n",
    "print(\"{} examples for training and {} for testing\".format(len(train_dataset),\n",
    "len(test_dataset)))"
   ]
  },
  {
   "cell_type": "code",
   "execution_count": null,
   "metadata": {},
   "outputs": [],
   "source": []
  }
 ],
 "metadata": {
  "accelerator": "GPU",
  "colab": {
   "authorship_tag": "ABX9TyP9xp8ldrSw7N2hM6Kng38N",
   "collapsed_sections": [
    "sN323q0vZmQM",
    "zrN1Ed6aZo8d",
    "kgFcknNOv_N4"
   ],
   "include_colab_link": true,
   "name": "MEAP 1.ipynb",
   "provenance": []
  },
  "kernelspec": {
   "display_name": "Python 3",
   "language": "python",
   "name": "python3"
  },
  "language_info": {
   "codemirror_mode": {
    "name": "ipython",
    "version": 3
   },
   "file_extension": ".py",
   "mimetype": "text/x-python",
   "name": "python",
   "nbconvert_exporter": "python",
   "pygments_lexer": "ipython3",
   "version": "3.8.10"
  }
 },
 "nbformat": 4,
 "nbformat_minor": 1
}
