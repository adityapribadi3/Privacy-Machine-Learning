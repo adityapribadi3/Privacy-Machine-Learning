{
 "cells": [
  {
   "cell_type": "markdown",
   "id": "e63545d9",
   "metadata": {},
   "source": [
    "# Chapter 4: Recurrent Neural Network"
   ]
  },
  {
   "cell_type": "markdown",
   "id": "fcac6f43",
   "metadata": {},
   "source": [
    "Now we want to develop models that can handle sequences (e.g., sequences of characters and words). We can also try to predict the temprature using sequence of temprature per hour."
   ]
  },
  {
   "cell_type": "markdown",
   "id": "e11761a5",
   "metadata": {},
   "source": [
    "Unlike the previous problem, the structure in this case is quite different. Sequences can have a *variable* number of items in each sequence. For example, the two previous sentences have variable lenght 19 and 11 words respectively. Whereas, images size are always the same. If not we can just resize it without changing the meaning. However, in sequence, that is not the case. \"Resizing\" sequences changes its meaning.\n",
    "\n",
    "For this reason, we are using the Recurrent Neural Network (RNN). RNN are  particularly useful because they are able to handle inputs with differing sequence lengths.\n",
    "\n",
    "When talking about RNNs, we will often reer to the sequence as a \"time series\" and the *i*th item in the sequence as the *i*th \"step in time\". We are going to use *t* and *i* to denote a specific item/point in time. We will also use *T* to refer to the number of items in the input sequence. For example *T=19* refers to the 19 words in the first sentence."
   ]
  },
  {
   "cell_type": "markdown",
   "id": "fb573b64",
   "metadata": {},
   "source": [
    "RNN takes sequence as input and produces new sequence as output."
   ]
  },
  {
   "cell_type": "markdown",
   "id": "ad5b463f",
   "metadata": {},
   "source": [
    "## Reccurent Neural Networks as Weight Sharing"
   ]
  },
  {
   "cell_type": "markdown",
   "id": "ac716d8a",
   "metadata": {},
   "source": [
    "Before going deep to RNN, let's refresh the previous topic regarding \"weight sharing\". The figure below will help you refresh the concept.\n",
    "\n",
    "<img src=\"https://drive.google.com/uc?export=view&id=1atSVJVO2mUX8cAfXyjZGZ6xnHRoiDx1y\" alt=\"drawing\" width=\"600\"/>"
   ]
  },
  {
   "cell_type": "markdown",
   "id": "6281b232",
   "metadata": {},
   "source": [
    "When using a CNN, the convolution operation is like having a single small linear network that we slide across the image, applying the same function to every spatial position. This is an implicit property of a CNN, that we made explicit with this small bit of code.\n",
    "\n",
    "```python\n",
    "    # Some input vector\n",
    "    x = torch.rand(D)\n",
    "    # Expected out vector after applying filter with size K to input D\n",
    "    output = torch.zeros(D-K//2*2)\n",
    "    for i in range(output.shape[0]):\n",
    "        output[i] = f(x[i:i+K], theta)\n",
    "```\n",
    "\n",
    "The above code shows the idea of weight sharing, re-using the same weights $\\Theta$ for multiple inputs. Understanding the weight sharing mechanism will help us to arrive at the original RNN algorithm."
   ]
  },
  {
   "cell_type": "markdown",
   "id": "0729224a",
   "metadata": {},
   "source": [
    "### Weight Sharing\n",
    "\n",
    "To start, let's assume that we want to create a fully connected network with 3 hidden layers for classification problem.\n",
    "\n",
    "<img src=\"https://drive.google.com/uc?export=view&id=1CN-m7RZgpbsPLmqvVySdw6LpBkhdm3Iy\" alt=\"drawing\" width=\"600\"/>\n",
    "\n",
    "Which in math notation can be denoted as:\n",
    "$$f(x)=tanh\\left(tanh\\left(tanh\\left(x^T W_{d \\times n}^{h1}\\right) W_{n \\times n}^{h2}\\right) W_{n \\times n}^{h3}\\right) W_{n \\times classes}^{out}$$\n",
    "\n",
    "From the equations above, it shows that we have *d* input feature, *n* neurons in each hidden layer, and *classes* output. Below is the implementation of the network on the MNIST data."
   ]
  },
  {
   "cell_type": "code",
   "execution_count": 1,
   "id": "ce713e40",
   "metadata": {},
   "outputs": [],
   "source": [
    "import torch\n",
    "import torch.nn as nn\n",
    "import torchvision\n",
    "from torchvision import transforms\n",
    "import torch.nn.functional as F\n",
    "from torch.utils.data import Dataset, DataLoader\n",
    "from torch.utils.data import BatchSampler\n",
    "from idlmam import *\n",
    "from tqdm.autonotebook import tqdm\n",
    "\n",
    "import numpy as np\n",
    "import seaborn as sns\n",
    "import matplotlib.pyplot as plt\n",
    "from pylab import *\n",
    "\n",
    "import pandas as pd\n",
    "import time\n",
    "\n",
    "from sklearn.metrics import accuracy_score\n",
    "from sklearn.metrics import f1_score\n",
    "import pprint"
   ]
  },
  {
   "cell_type": "code",
   "execution_count": 2,
   "id": "11851629",
   "metadata": {},
   "outputs": [],
   "source": [
    "# Check and decide device to be used\n",
    "device = torch.device(\"cuda\") if torch.cuda.is_available() else torch.device(\"cpu\")\n",
    "\n",
    "mnist_data_train = torchvision.datasets.MNIST('./data', train=True, download=True,\n",
    "transform=transforms.ToTensor())\n",
    "\n",
    "mnist_data_test = torchvision.datasets.MNIST('./data', train=False, download=True,\n",
    "transform=transforms.ToTensor())\n",
    "\n",
    "mnist_train_loader = DataLoader(mnist_data_train, batch_size=64, shuffle=True)\n",
    "mnist_test_loader = DataLoader(mnist_data_test, batch_size=64)\n",
    "\n",
    "'''\n",
    "    How many values are in the input? \n",
    "    We use this to help determine the \n",
    "    size of subsequent layers\n",
    "'''\n",
    "\n",
    "# 28 * 28 images\n",
    "D = 28*28 \n",
    "\n",
    "# Hidden layer size\n",
    "n = 256\n",
    "\n",
    "# Number of channel\n",
    "C = 1\n",
    "\n",
    "# Number of classes/total predictions\n",
    "classes = 10\n",
    "\n",
    "# Model\n",
    "model_regular = nn.Sequential(\n",
    "    Flatten(),\n",
    "    nn.Linear(D, n),\n",
    "    nn.Tanh(),\n",
    "    nn.Linear(n, n),\n",
    "    nn.Tanh(),\n",
    "    nn.Linear(n, n),\n",
    "    nn.Tanh(),\n",
    "    nn.Linear(n, classes),\n",
    ")"
   ]
  },
  {
   "cell_type": "code",
   "execution_count": 3,
   "id": "9aadf2b4",
   "metadata": {},
   "outputs": [
    {
     "data": {
      "application/vnd.jupyter.widget-view+json": {
       "model_id": "a29afe8ebc8a4648ba7de0bfc7ffbf83",
       "version_major": 2,
       "version_minor": 0
      },
      "text/plain": [
       "Epoch:   0%|          | 0/10 [00:00<?, ?it/s]"
      ]
     },
     "metadata": {},
     "output_type": "display_data"
    },
    {
     "data": {
      "application/vnd.jupyter.widget-view+json": {
       "model_id": "",
       "version_major": 2,
       "version_minor": 0
      },
      "text/plain": [
       "Training:   0%|          | 0/938 [00:00<?, ?it/s]"
      ]
     },
     "metadata": {},
     "output_type": "display_data"
    },
    {
     "data": {
      "application/vnd.jupyter.widget-view+json": {
       "model_id": "",
       "version_major": 2,
       "version_minor": 0
      },
      "text/plain": [
       "Testing:   0%|          | 0/157 [00:00<?, ?it/s]"
      ]
     },
     "metadata": {},
     "output_type": "display_data"
    },
    {
     "data": {
      "application/vnd.jupyter.widget-view+json": {
       "model_id": "",
       "version_major": 2,
       "version_minor": 0
      },
      "text/plain": [
       "Training:   0%|          | 0/938 [00:00<?, ?it/s]"
      ]
     },
     "metadata": {},
     "output_type": "display_data"
    },
    {
     "data": {
      "application/vnd.jupyter.widget-view+json": {
       "model_id": "",
       "version_major": 2,
       "version_minor": 0
      },
      "text/plain": [
       "Testing:   0%|          | 0/157 [00:00<?, ?it/s]"
      ]
     },
     "metadata": {},
     "output_type": "display_data"
    },
    {
     "data": {
      "application/vnd.jupyter.widget-view+json": {
       "model_id": "",
       "version_major": 2,
       "version_minor": 0
      },
      "text/plain": [
       "Training:   0%|          | 0/938 [00:00<?, ?it/s]"
      ]
     },
     "metadata": {},
     "output_type": "display_data"
    },
    {
     "data": {
      "application/vnd.jupyter.widget-view+json": {
       "model_id": "",
       "version_major": 2,
       "version_minor": 0
      },
      "text/plain": [
       "Testing:   0%|          | 0/157 [00:00<?, ?it/s]"
      ]
     },
     "metadata": {},
     "output_type": "display_data"
    },
    {
     "data": {
      "application/vnd.jupyter.widget-view+json": {
       "model_id": "",
       "version_major": 2,
       "version_minor": 0
      },
      "text/plain": [
       "Training:   0%|          | 0/938 [00:00<?, ?it/s]"
      ]
     },
     "metadata": {},
     "output_type": "display_data"
    },
    {
     "data": {
      "application/vnd.jupyter.widget-view+json": {
       "model_id": "",
       "version_major": 2,
       "version_minor": 0
      },
      "text/plain": [
       "Testing:   0%|          | 0/157 [00:00<?, ?it/s]"
      ]
     },
     "metadata": {},
     "output_type": "display_data"
    },
    {
     "data": {
      "application/vnd.jupyter.widget-view+json": {
       "model_id": "",
       "version_major": 2,
       "version_minor": 0
      },
      "text/plain": [
       "Training:   0%|          | 0/938 [00:00<?, ?it/s]"
      ]
     },
     "metadata": {},
     "output_type": "display_data"
    },
    {
     "data": {
      "application/vnd.jupyter.widget-view+json": {
       "model_id": "",
       "version_major": 2,
       "version_minor": 0
      },
      "text/plain": [
       "Testing:   0%|          | 0/157 [00:00<?, ?it/s]"
      ]
     },
     "metadata": {},
     "output_type": "display_data"
    },
    {
     "data": {
      "application/vnd.jupyter.widget-view+json": {
       "model_id": "",
       "version_major": 2,
       "version_minor": 0
      },
      "text/plain": [
       "Training:   0%|          | 0/938 [00:00<?, ?it/s]"
      ]
     },
     "metadata": {},
     "output_type": "display_data"
    },
    {
     "data": {
      "application/vnd.jupyter.widget-view+json": {
       "model_id": "",
       "version_major": 2,
       "version_minor": 0
      },
      "text/plain": [
       "Testing:   0%|          | 0/157 [00:00<?, ?it/s]"
      ]
     },
     "metadata": {},
     "output_type": "display_data"
    },
    {
     "data": {
      "application/vnd.jupyter.widget-view+json": {
       "model_id": "",
       "version_major": 2,
       "version_minor": 0
      },
      "text/plain": [
       "Training:   0%|          | 0/938 [00:00<?, ?it/s]"
      ]
     },
     "metadata": {},
     "output_type": "display_data"
    },
    {
     "data": {
      "application/vnd.jupyter.widget-view+json": {
       "model_id": "",
       "version_major": 2,
       "version_minor": 0
      },
      "text/plain": [
       "Testing:   0%|          | 0/157 [00:00<?, ?it/s]"
      ]
     },
     "metadata": {},
     "output_type": "display_data"
    },
    {
     "data": {
      "application/vnd.jupyter.widget-view+json": {
       "model_id": "",
       "version_major": 2,
       "version_minor": 0
      },
      "text/plain": [
       "Training:   0%|          | 0/938 [00:00<?, ?it/s]"
      ]
     },
     "metadata": {},
     "output_type": "display_data"
    },
    {
     "data": {
      "application/vnd.jupyter.widget-view+json": {
       "model_id": "",
       "version_major": 2,
       "version_minor": 0
      },
      "text/plain": [
       "Testing:   0%|          | 0/157 [00:00<?, ?it/s]"
      ]
     },
     "metadata": {},
     "output_type": "display_data"
    },
    {
     "data": {
      "application/vnd.jupyter.widget-view+json": {
       "model_id": "",
       "version_major": 2,
       "version_minor": 0
      },
      "text/plain": [
       "Training:   0%|          | 0/938 [00:00<?, ?it/s]"
      ]
     },
     "metadata": {},
     "output_type": "display_data"
    },
    {
     "data": {
      "application/vnd.jupyter.widget-view+json": {
       "model_id": "",
       "version_major": 2,
       "version_minor": 0
      },
      "text/plain": [
       "Testing:   0%|          | 0/157 [00:00<?, ?it/s]"
      ]
     },
     "metadata": {},
     "output_type": "display_data"
    },
    {
     "data": {
      "application/vnd.jupyter.widget-view+json": {
       "model_id": "",
       "version_major": 2,
       "version_minor": 0
      },
      "text/plain": [
       "Training:   0%|          | 0/938 [00:00<?, ?it/s]"
      ]
     },
     "metadata": {},
     "output_type": "display_data"
    },
    {
     "data": {
      "application/vnd.jupyter.widget-view+json": {
       "model_id": "",
       "version_major": 2,
       "version_minor": 0
      },
      "text/plain": [
       "Testing:   0%|          | 0/157 [00:00<?, ?it/s]"
      ]
     },
     "metadata": {},
     "output_type": "display_data"
    }
   ],
   "source": [
    "loss_func = nn.CrossEntropyLoss()\n",
    "regular_results = train_simple_network(model_regular, loss_func, mnist_train_loader,\n",
    "test_loader=mnist_test_loader, score_funcs={'Accuracy': accuracy_score},\n",
    "device=device, epochs=10)"
   ]
  },
  {
   "cell_type": "markdown",
   "id": "7af13ce5",
   "metadata": {},
   "source": [
    "Let's say that this is a very large network and we cannot fit the weight for all three hidden layers. One option is to share the weights between some layers. From the picture above notice that $h_2$ and $h_3$ have the same input output. Hence, we can share the weight by simply replacing $h_2$ with $h_3$.\n",
    "\n",
    "Which in math notation can be denoted as:\n",
    "$$f(x)=tanh\\left(tanh\\left(tanh\\left(x^T W_{d \\times n}^{h1}\\right) W_{n \\times n}^{h2}\\right) W_{n \\times n}^{h2}\\right) W_{n \\times classes}^{out}$$\n",
    "\n",
    "The code below shows the weight sharing network."
   ]
  },
  {
   "cell_type": "code",
   "execution_count": 4,
   "id": "72a12057",
   "metadata": {},
   "outputs": [],
   "source": [
    "#Create the layer of weights of our network that we plan to share.\n",
    "h_2 = nn.Linear(n, n)\n",
    "\n",
    "model_shared = nn.Sequential(\n",
    "    Flatten(),\n",
    "    nn.Linear(D, n),\n",
    "    nn.Tanh(),\n",
    "    # First use\n",
    "    h_2,\n",
    "    nn.Tanh(),\n",
    "    # Second use\n",
    "    h_2,\n",
    "    nn.Tanh(),\n",
    "    nn.Linear(n, classes),\n",
    ")"
   ]
  },
  {
   "cell_type": "code",
   "execution_count": 5,
   "id": "19d78524",
   "metadata": {},
   "outputs": [
    {
     "data": {
      "application/vnd.jupyter.widget-view+json": {
       "model_id": "7ff5e28804174853a8c32d0a480972d1",
       "version_major": 2,
       "version_minor": 0
      },
      "text/plain": [
       "Epoch:   0%|          | 0/10 [00:00<?, ?it/s]"
      ]
     },
     "metadata": {},
     "output_type": "display_data"
    },
    {
     "data": {
      "application/vnd.jupyter.widget-view+json": {
       "model_id": "",
       "version_major": 2,
       "version_minor": 0
      },
      "text/plain": [
       "Training:   0%|          | 0/938 [00:00<?, ?it/s]"
      ]
     },
     "metadata": {},
     "output_type": "display_data"
    },
    {
     "data": {
      "application/vnd.jupyter.widget-view+json": {
       "model_id": "",
       "version_major": 2,
       "version_minor": 0
      },
      "text/plain": [
       "Testing:   0%|          | 0/157 [00:00<?, ?it/s]"
      ]
     },
     "metadata": {},
     "output_type": "display_data"
    },
    {
     "data": {
      "application/vnd.jupyter.widget-view+json": {
       "model_id": "",
       "version_major": 2,
       "version_minor": 0
      },
      "text/plain": [
       "Training:   0%|          | 0/938 [00:00<?, ?it/s]"
      ]
     },
     "metadata": {},
     "output_type": "display_data"
    },
    {
     "data": {
      "application/vnd.jupyter.widget-view+json": {
       "model_id": "",
       "version_major": 2,
       "version_minor": 0
      },
      "text/plain": [
       "Testing:   0%|          | 0/157 [00:00<?, ?it/s]"
      ]
     },
     "metadata": {},
     "output_type": "display_data"
    },
    {
     "data": {
      "application/vnd.jupyter.widget-view+json": {
       "model_id": "",
       "version_major": 2,
       "version_minor": 0
      },
      "text/plain": [
       "Training:   0%|          | 0/938 [00:00<?, ?it/s]"
      ]
     },
     "metadata": {},
     "output_type": "display_data"
    },
    {
     "data": {
      "application/vnd.jupyter.widget-view+json": {
       "model_id": "",
       "version_major": 2,
       "version_minor": 0
      },
      "text/plain": [
       "Testing:   0%|          | 0/157 [00:00<?, ?it/s]"
      ]
     },
     "metadata": {},
     "output_type": "display_data"
    },
    {
     "data": {
      "application/vnd.jupyter.widget-view+json": {
       "model_id": "",
       "version_major": 2,
       "version_minor": 0
      },
      "text/plain": [
       "Training:   0%|          | 0/938 [00:00<?, ?it/s]"
      ]
     },
     "metadata": {},
     "output_type": "display_data"
    },
    {
     "data": {
      "application/vnd.jupyter.widget-view+json": {
       "model_id": "",
       "version_major": 2,
       "version_minor": 0
      },
      "text/plain": [
       "Testing:   0%|          | 0/157 [00:00<?, ?it/s]"
      ]
     },
     "metadata": {},
     "output_type": "display_data"
    },
    {
     "data": {
      "application/vnd.jupyter.widget-view+json": {
       "model_id": "",
       "version_major": 2,
       "version_minor": 0
      },
      "text/plain": [
       "Training:   0%|          | 0/938 [00:00<?, ?it/s]"
      ]
     },
     "metadata": {},
     "output_type": "display_data"
    },
    {
     "data": {
      "application/vnd.jupyter.widget-view+json": {
       "model_id": "",
       "version_major": 2,
       "version_minor": 0
      },
      "text/plain": [
       "Testing:   0%|          | 0/157 [00:00<?, ?it/s]"
      ]
     },
     "metadata": {},
     "output_type": "display_data"
    },
    {
     "data": {
      "application/vnd.jupyter.widget-view+json": {
       "model_id": "",
       "version_major": 2,
       "version_minor": 0
      },
      "text/plain": [
       "Training:   0%|          | 0/938 [00:00<?, ?it/s]"
      ]
     },
     "metadata": {},
     "output_type": "display_data"
    },
    {
     "data": {
      "application/vnd.jupyter.widget-view+json": {
       "model_id": "",
       "version_major": 2,
       "version_minor": 0
      },
      "text/plain": [
       "Testing:   0%|          | 0/157 [00:00<?, ?it/s]"
      ]
     },
     "metadata": {},
     "output_type": "display_data"
    },
    {
     "data": {
      "application/vnd.jupyter.widget-view+json": {
       "model_id": "",
       "version_major": 2,
       "version_minor": 0
      },
      "text/plain": [
       "Training:   0%|          | 0/938 [00:00<?, ?it/s]"
      ]
     },
     "metadata": {},
     "output_type": "display_data"
    },
    {
     "data": {
      "application/vnd.jupyter.widget-view+json": {
       "model_id": "",
       "version_major": 2,
       "version_minor": 0
      },
      "text/plain": [
       "Testing:   0%|          | 0/157 [00:00<?, ?it/s]"
      ]
     },
     "metadata": {},
     "output_type": "display_data"
    },
    {
     "data": {
      "application/vnd.jupyter.widget-view+json": {
       "model_id": "",
       "version_major": 2,
       "version_minor": 0
      },
      "text/plain": [
       "Training:   0%|          | 0/938 [00:00<?, ?it/s]"
      ]
     },
     "metadata": {},
     "output_type": "display_data"
    },
    {
     "data": {
      "application/vnd.jupyter.widget-view+json": {
       "model_id": "",
       "version_major": 2,
       "version_minor": 0
      },
      "text/plain": [
       "Testing:   0%|          | 0/157 [00:00<?, ?it/s]"
      ]
     },
     "metadata": {},
     "output_type": "display_data"
    },
    {
     "data": {
      "application/vnd.jupyter.widget-view+json": {
       "model_id": "",
       "version_major": 2,
       "version_minor": 0
      },
      "text/plain": [
       "Training:   0%|          | 0/938 [00:00<?, ?it/s]"
      ]
     },
     "metadata": {},
     "output_type": "display_data"
    },
    {
     "data": {
      "application/vnd.jupyter.widget-view+json": {
       "model_id": "",
       "version_major": 2,
       "version_minor": 0
      },
      "text/plain": [
       "Testing:   0%|          | 0/157 [00:00<?, ?it/s]"
      ]
     },
     "metadata": {},
     "output_type": "display_data"
    },
    {
     "data": {
      "application/vnd.jupyter.widget-view+json": {
       "model_id": "",
       "version_major": 2,
       "version_minor": 0
      },
      "text/plain": [
       "Training:   0%|          | 0/938 [00:00<?, ?it/s]"
      ]
     },
     "metadata": {},
     "output_type": "display_data"
    },
    {
     "data": {
      "application/vnd.jupyter.widget-view+json": {
       "model_id": "",
       "version_major": 2,
       "version_minor": 0
      },
      "text/plain": [
       "Testing:   0%|          | 0/157 [00:00<?, ?it/s]"
      ]
     },
     "metadata": {},
     "output_type": "display_data"
    }
   ],
   "source": [
    "shared_results = train_simple_network(model_shared, loss_func, mnist_train_loader,\n",
    "test_loader=mnist_test_loader, score_funcs={'Accuracy': accuracy_score},\n",
    "device=device, epochs=10)"
   ]
  },
  {
   "cell_type": "markdown",
   "id": "0f9d8c32",
   "metadata": {},
   "source": [
    "With the new weight-shared network, we can now plot the validation accuracy of both to see what that 1) PyTorch really learn with shared weights, and 2) what the results look like."
   ]
  },
  {
   "cell_type": "code",
   "execution_count": 6,
   "id": "e29d4c11",
   "metadata": {},
   "outputs": [
    {
     "data": {
      "image/png": "[encoded data removed]",
      "text/plain": [
       "<Figure size 640x480 with 1 Axes>"
      ]
     },
     "metadata": {},
     "output_type": "display_data"
    }
   ],
   "source": [
    "#Now we can plot the results, and compare them\n",
    "sns.lineplot(x='epoch', y='test Accuracy', data=regular_results, label='Normal')\n",
    "sns.lineplot(x='epoch', y='test Accuracy', data=shared_results, label='Shared')\n",
    "plt.show()"
   ]
  },
  {
   "cell_type": "markdown",
   "id": "9956ea29",
   "metadata": {},
   "source": [
    "As can be seen from the figure above, weight sharing didn't take a longer time to train, nor it lose any accuracy. We only get a benefit of slightly reduced memory usage. However, the main point in weight sharing in this chapter is to learn about the foundation in creating and training RNN."
   ]
  },
  {
   "cell_type": "markdown",
   "id": "0febfd4b",
   "metadata": {},
   "source": [
    "### Weight Sharing Over Time"
   ]
  },
  {
   "cell_type": "markdown",
   "id": "7635dc15",
   "metadata": {},
   "source": [
    "Now that we understand weight sharing, we can start using it to create RNNs. The goal of an RNN is to summarize every item that was seen in a sequence of items, using just a single item. The process can be seen below.\n",
    "\n",
    "<img src=\"https://drive.google.com/uc?export=view&id=1_jM5gfSsrPkm-LJVx_NFZtcRSLtb723X\" alt=\"drawing\" width=\"400\"/>\n",
    "\n",
    "Steps:\n",
    "1. a tensor $h_{t-1}$ represents everything seen so far in the order they have been seen.\n",
    "2. a tensor $x_t$ represents the newest/next item in the sequence.\n",
    "3. RNN takes and combines the historical summary $(h_{t-1})$ and the new information $(x_t)$ to create new summary of everything we have seen thus far $(h_t)$.\n",
    "\n",
    "If we want to make a prediction about the entire sequence of $T$ items, we would use the output after $T$ inputs $(h_T)$ because it represents the $T$'th item and every preceding item."
   ]
  },
  {
   "cell_type": "markdown",
   "id": "b9c53494",
   "metadata": {},
   "source": [
    "Lets put it into mathematical notation. Suppose we have $T$ total units of time. Instead of having single input $x \\in {\\rm I\\!R}$, we will have $T$ inputs $x_1, x_2, ..., x_{T-1}, x_T$. Each input is a vector of the same size which is a representation of something that is sequential. For example, the weather could have a vector with the high, low, and average temperature each day $(x_t=[high, low, mean])$ in natural order."
   ]
  },
  {
   "cell_type": "markdown",
   "id": "cae15c73",
   "metadata": {},
   "source": [
    "To process it over time, we have module $A$, where $A(x) = h$. We could use weight sharing to apply the network module $A$ to every item independently. So, we would get $T$ outputs, $h_i=A(x_i)$. We will eventually use one of these output $h$ as the input to a linear layer, but first we need to work our way to an RNN. A naive approach of applying $A(\\cdot)$ independently is shown in the picture below.\n",
    "\n",
    "<img src=\"https://drive.google.com/uc?export=view&id=1xGg3oHKAPF_5v5YF-Qiom4yInv2qkSqO\" alt=\"drawing\" width=\"600\"/>\n"
   ]
  },
  {
   "cell_type": "markdown",
   "id": "bc3e09b7",
   "metadata": {},
   "source": [
    "From the process above, we used the same function/layer $A(\\cdot)$ to apply weight sharing to each item over time. However, we have not done anything to connect the information over time. We need our function to take both history and the input, which in code will look like this:\n",
    "\n",
    "```python\n",
    "# h0\n",
    "history_summary = 0 \n",
    "\n",
    "# x1, x2, . . . , xT\n",
    "inputs = [...] \n",
    "\n",
    "for t in range(T):\n",
    "    # ht = A(ht−1, xt)\n",
    "    new_summary = RNN(history_summary, inputs[t]) \n",
    "    history_summary = new_summary\n",
    "```\n",
    "\n",
    "This can be done by giving $A$ a *recurrent weight*. We've used $h_t$ to indicate the result from time step $t$. First lets look at the equation with some light annotation,\n",
    "\n",
    "$$\\overbrace{h_t}^{new summary} = \n",
    "A(\\overbrace{h_{t-1}}^{history summary}, \\overbrace{x_t}^{new item}) = \n",
    "tanh \\left(\n",
    "\\overbrace{h_{t-1}^{T}W_{n \\times n}^{prev}}^{update history summary}  +\n",
    "\\overbrace{x_{t}^{T}W_{d \\times n}^{cur}}^{incorporate new information}\n",
    "\\right)$$\n",
    "\n",
    ", where:\n",
    "\n",
    "$h_t$,is a current vector of a summary of all $t$ items that have been seen so far.\n",
    "\n",
    "$A()$, an RNN module to make the summary (takes two parameters).\n",
    "\n",
    "$h_{t-1}$, a summary of everything previous seen.\n",
    "\n",
    "$x_t$, the $t$'th new item.\n",
    "\n",
    "$tanh()$, a non liniearity that is applied after the inside operation is done, outputing the new summary $h_t$.\n",
    "\n",
    "$h_{t-1}^{T}W_{n \\times n}^{prev}$, a linear layer that processes the previous history\n",
    "\n",
    "$+$, mixing them together\n",
    "\n",
    "$x_{t}^{T}W_{d \\times n}^{cur}$, a second linear layer that proesses the new input."
   ]
  },
  {
   "cell_type": "markdown",
   "id": "4998e7c5",
   "metadata": {},
   "source": [
    "So, we have one set of weights ($W_{d \\times n}^{cur}$) that takes in the current time step ($x_i$) that are added to second set of weights ($W_{n \\times n}^{prev}$) for the previous time step's result ($h_{i-1}$). By reusing this new function for each time step, we get information accross time.This can be seen from the picture below.\n",
    "\n",
    "<img src=\"https://drive.google.com/uc?export=view&id=1Ng0NIBBhnPhQ_pITK6Mkb70swiq57bey\" alt=\"drawing\" width=\"600\"/>\n",
    "\n",
    "The overall idea of RNN is to re-use the same function and weights at every time step. At time step t, the model gets information about the past from the hidden state $h_{t-1}$. Because $h_{t-1}$ was computed from h_{t-2}, it actually has information from the past two time steps, and so on.\n",
    "\n",
    "But what do we do at the start of time (i=1) when $h_0$ does not exist? Implicitly we assume that $h_0 = \\vec{0}$ (i.e., a vector of all zeros). This is shown in the figure below, where $T = 3$.\n",
    "\n",
    "<img src=\"https://drive.google.com/uc?export=view&id=1Imm1QbNZJJ0GqZ6kGSzTIgHgXQ20RIdI\" alt=\"drawing\" width=\"600\"/>\n",
    "\n",
    "For simple classification, we will use the last $h_T$ to make prediction as it contains all of the previous information.\n"
   ]
  },
  {
   "cell_type": "markdown",
   "id": "dfe95ee3",
   "metadata": {},
   "source": [
    "## RNNs in PyTorch"
   ]
  },
  {
   "cell_type": "markdown",
   "id": "8293f7f3",
   "metadata": {},
   "source": [
    "Overview of RNN steps:\n",
    "\n",
    "<img src=\"https://drive.google.com/uc?export=view&id=1UoplP2FDXKIaea4hb_yAajTYyc1rE9IN\" alt=\"drawing\" width=\"600\"/>\n",
    "\n",
    "To represent sequence data for an RNN in PyTorch, we will use a 3D input representation, \n",
    "\n",
    "$$(B, T, D)$$\n",
    "\n",
    ", where $B$ is batch size, $T$ total number of time steps, and $D$ is the number of features per time step."
   ]
  },
  {
   "cell_type": "markdown",
   "id": "f8482f89",
   "metadata": {},
   "source": [
    "### A Simple Sequence Classification Problem"
   ]
  },
  {
   "cell_type": "markdown",
   "id": "715a7476",
   "metadata": {},
   "source": [
    "Let's start with many-to-one classification problem (many inputs (every time step) and one ouput).\n",
    "\n",
    "For this task, let's try to predict the language a name come from (e.g., Steven would be an English name, etc).\n",
    "\n",
    "<img src=\"https://drive.google.com/uc?export=view&id=11_MxwJ55DNwOu6YgP4p_QmO5ryxbqIBd\" alt=\"drawing\" width=\"600\"/>"
   ]
  },
  {
   "cell_type": "code",
   "execution_count": 7,
   "id": "351efcdf",
   "metadata": {},
   "outputs": [],
   "source": [
    "# Download dataset\n",
    "import requests, zipfile, io\n",
    "\n",
    "# Zip file is organized as data/names/[LANG].txt , \n",
    "# where [LANG] is a specific language\n",
    "zip_file_url = \"https://download.pytorch.org/tutorial/data.zip\"\n",
    "\n",
    "r = requests.get(zip_file_url)\n",
    "z = zipfile.ZipFile(io.BytesIO(r.content))\n",
    "\n",
    "z.extractall()"
   ]
  },
  {
   "cell_type": "code",
   "execution_count": 8,
   "id": "e609910a",
   "metadata": {
    "scrolled": false
   },
   "outputs": [
    {
     "name": "stdout",
     "output_type": "stream",
     "text": [
      "Arabic :  2000\n",
      "Chinese :  268\n",
      "Czech :  519\n",
      "Dutch :  297\n",
      "English :  3668\n",
      "French :  277\n",
      "German :  724\n",
      "Greek :  203\n",
      "Irish :  232\n",
      "Italian :  709\n",
      "Japanese :  991\n",
      "Korean :  94\n",
      "Polish :  139\n",
      "Portuguese :  74\n",
      "Russian :  9408\n",
      "Scottish :  100\n",
      "Spanish :  298\n",
      "Vietnamese :  73\n"
     ]
    }
   ],
   "source": [
    "#We will use some code to remove UNICODE tokens to make life easy for us processing wise\n",
    "#e.g., convert something like \"Ślusàrski\" to Slusarski\n",
    "import unicodedata\n",
    "import string\n",
    "\n",
    "name_language_data = {}\n",
    "\n",
    "all_letters = string.ascii_letters + \" .,;'\"\n",
    "n_letters = len(all_letters)\n",
    "alphabet = {}\n",
    "\n",
    "for i in range(n_letters):\n",
    "    alphabet[all_letters[i]] = i\n",
    "    \n",
    "# Turn a Unicode string to plain ASCII\n",
    "def unicodeToAscii(s):\n",
    "    return ''.join(\n",
    "        c for c in unicodedata.normalize('NFD', s)\n",
    "        if unicodedata.category(c) != 'Mn'\n",
    "        and c in all_letters\n",
    "    )\n",
    "\n",
    "# Loop through every language, \n",
    "# open the zip file entry, \n",
    "# and read all the lines from the text file.\n",
    "for zip_path in z.namelist():\n",
    "    if \"data/names/\" in zip_path and zip_path.endswith(\".txt\"):\n",
    "        lang = zip_path[len(\"data/names/\"):-len(\".txt\")]\n",
    "        with z.open(zip_path) as myfile:\n",
    "            lang_names = [unicodeToAscii(line).lower() for line in str(myfile.read(),\n",
    "                        encoding='utf-8').strip().split(\"\\n\")]\n",
    "            name_language_data[lang] = lang_names\n",
    "            print(lang, \": \", len(lang_names)) "
   ]
  },
  {
   "cell_type": "markdown",
   "id": "2b3fc736",
   "metadata": {},
   "source": [
    "Now, with our data loaded in memory, we can implement a $Dataset$ to represent it. The $data$ list will contain each name, and an associated index in the $labels$ list will indicate which specific language the name come from. A $vocabulary$ dictionary will map every unique item to an integer value."
   ]
  },
  {
   "cell_type": "code",
   "execution_count": 9,
   "id": "e9fe591b",
   "metadata": {},
   "outputs": [],
   "source": [
    "class LanguageNameDataset(Dataset):\n",
    "    \n",
    "    def __init__(self, lang_name_dict, vocabulary):\n",
    "        self.label_names = [x for x in lang_name_dict.keys()]\n",
    "        self.data = []\n",
    "        self.labels = []\n",
    "        self.vocabulary = vocabulary\n",
    "        \n",
    "        for y, language in enumerate(self.label_names):\n",
    "            for sample in lang_name_dict[language]:\n",
    "                self.data.append(sample)\n",
    "                self.labels.append(y)\n",
    "                \n",
    "    def __len__(self):\n",
    "        '''\n",
    "        return the total number of data points within the dataset\n",
    "        '''\n",
    "        return len(self.data)\n",
    "    \n",
    "    def string2InputVec(self, input_string):\n",
    "        \"\"\"\n",
    "        This method will convert any input string into a vector of long values, \n",
    "        according to the vocabulary used by this object.\n",
    "        tensor len = char len\n",
    "        input_string: the string to convert to a tensor\n",
    "        \"\"\"\n",
    "        # number of characters in a string\n",
    "        T = len(input_string)\n",
    "        \n",
    "        # Create a new tensor to store the result in\n",
    "        name_vec = torch.zeros((T), dtype=torch.long)\n",
    "        \n",
    "        # Iterate through the string and place the appropriate values into the tensor\n",
    "        for pos, character in enumerate(input_string):\n",
    "            name_vec[pos] = self.vocabulary[character]\n",
    "            \n",
    "        return name_vec\n",
    "    \n",
    "    def __getitem__(self, idx):\n",
    "        '''\n",
    "        return:\n",
    "        tensor representation of the character and its label\n",
    "        (tensor([10, 7, 14, 20, 17, 24]), 0)\n",
    "        '''\n",
    "        # Original string\n",
    "        name = self.data[idx]\n",
    "        label = self.labels[idx]\n",
    "        \n",
    "        # Convert the correct class label into a tensor for PyTorch\n",
    "        label_vec = torch.tensor([label], dtype=torch.long)\n",
    "        return self.string2InputVec(name), label"
   ]
  },
  {
   "cell_type": "code",
   "execution_count": 10,
   "id": "05701c47",
   "metadata": {},
   "outputs": [],
   "source": [
    "# Create train/test split with 300 items in test split.\n",
    "dataset = LanguageNameDataset(name_language_data, alphabet)\n",
    "\n",
    "train_data, test_data = torch.utils.data.random_split(dataset, (len(dataset)-300, 300))\n",
    "\n",
    "train_loader = DataLoader(train_data, batch_size=1, shuffle=True)\n",
    "test_loader = DataLoader(test_data, batch_size=1, shuffle=False)"
   ]
  },
  {
   "cell_type": "markdown",
   "id": "189f29fe",
   "metadata": {},
   "source": [
    "### Embedding Layers\n",
    "\n",
    "Now that the dataset is loaded, we can talk about the remaining parts of our RNN.\n",
    "\n",
    "First, we need to implement our $Dataset$ class such that it returns a tensor of length $T$ (the number of characters in a name) storing integer values (a unique value for every character). For example, \"a\" becomes 0, \"b\" becomes 1, etc. This is what we can achieve using the <code> string2InputVec() </code> and mapping from <code> vocabulary </code> dictionary.\n",
    "\n",
    "Next, we need to create an $embedding$ layer. This layers are lookup tables designed to map each integer value to a specific vector representation. In here you need to tell the embedding layer how large the vocabulary is (i.e, how many unique items exist) and how large the dimension you want it to be. the figure below shows the overview of the embedding layer.\n",
    "\n",
    "<img src=\"https://drive.google.com/uc?export=view&id=1RAmUxhABWPvRtK9cA8HLLnxFjYJh5_CV\" alt=\"drawing\" width=\"600\"/>\n",
    "\n",
    "In the example, the vocabulary contains both characters and words. The vocabulary does not even need to be a string so long that it is consistently mapped to an integer value. The <code> nn.Embedding </code> function's first argument is $5$ to indicate that the vocab has five unique items. The second argument $3$ is the output dimension. You can thing of this as similar as the <code> nn.Linear </code> layer.\n",
    "\n",
    "We could increase or decrease the output size based on how much information we\n",
    "think the model needs to be able to pack into each vector. In most applications, you will want to try values in the range of [64, 256] for the number of output dimensions."
   ]
  },
  {
   "cell_type": "markdown",
   "id": "a5655560",
   "metadata": {},
   "source": [
    "The nn.Embedding layer is designed to work with sequences of things. That means it's possible for the sequence to contain repetitions. For example, the below code snippet creates a new input sequence with $T=5$ items in it, but a vocabulary of only 3 items. This is OK because the input sequence [0, 1, 1, 0, 2] has repetitions (0 and 1 occur twice). The embedding object is created with a dimension of d=2, and processes the input to create a new\n",
    "representation x_seq."
   ]
  },
  {
   "cell_type": "code",
   "execution_count": 11,
   "id": "e1633302",
   "metadata": {},
   "outputs": [
    {
     "name": "stdout",
     "output_type": "stream",
     "text": [
      "torch.Size([5]) torch.Size([5, 2])\n",
      "tensor([[-1.8400,  0.0152],\n",
      "        [ 1.8229, -0.6469],\n",
      "        [ 1.8229, -0.6469],\n",
      "        [-1.8400,  0.0152],\n",
      "        [ 0.3028,  0.3337]])\n"
     ]
    }
   ],
   "source": [
    "with torch.no_grad():\n",
    "    input_sequence = torch.tensor([0, 1, 1, 0, 2], dtype=torch.long)\n",
    "    embd = nn.Embedding(3, 2)\n",
    "    x_seq = embd(input_sequence)\n",
    "    print(input_sequence.shape, x_seq.shape)\n",
    "    print(x_seq)"
   ]
  },
  {
   "cell_type": "markdown",
   "id": "556f6deb",
   "metadata": {},
   "source": [
    "This <code> x_seq </code> would be the tensor representation that is now compatible with all of the standard tools of deep learning. Notice that its shape is now (5, 2), and you will see random values filled in. Thats because the Embedding layer initializes everything to random, and these values are altered by gradient descent as the network is trained. \n",
    "\n",
    "Notice that the 1st and 4th rows of the matrix have the exact same values, as do the 2nd and 3rd. This is because the order in the output matches the order in the input.\n",
    "\n",
    "When working with strings, or any other content that does not naturally exist as \"vectors\", you will almost always want to use an Embedding layer as your first step. This is the standard tool for converting these abstract concepts to representations we can work with."
   ]
  },
  {
   "cell_type": "markdown",
   "id": "d23c9310",
   "metadata": {},
   "source": [
    "### Last Time Step"
   ]
  },
  {
   "cell_type": "markdown",
   "id": "e1e0f302",
   "metadata": {},
   "source": [
    "PyTorch has provide the standard RNN algo. What's left is to extract the last time step $h_T$ after being processed by the RNN. We want to do this because the last time step is the only one that carries information from all T inputs based on the input's order.\n",
    "\n",
    "$h_T$ will have the same shape and size, no matter how long the\n",
    "input sequence is. So if our RNN layer has 64 neurons, $h_T$ will be a 64-dimension vector represented as a tensor of shape (B, 64). It does not matter if our sequence has one item T=1, or T=100 items, it will always be the case that $h_T$ will have shape (B, 64).\n",
    "\n",
    "<img src=\"https://drive.google.com/uc?export=view&id=1Fjx7mRz_P4Q27E0Qv_Tr-PpHivs81bm1\" alt=\"drawing\" width=\"600\"/>"
   ]
  },
  {
   "cell_type": "markdown",
   "id": "0ae2592d",
   "metadata": {},
   "source": [
    "Now, we need to implement a new model that extracts the last time step before we can specify an RNN architecture in PyTorch. There are two things that we need to know: the number of layers, and if the model was bidirectorial. This is because the RNN will return enough information for us to extract the result from any layer, giving us the flexibility to implement other kinds of models that will be discussed further in the book.\n",
    "\n",
    "Below is the code that does the work o extract the $LastTimeStep$ $h_T$ from an RNN. Depending the RNN used, the output of an RNN Module is a tuple of two tensors or a nested tuple of three tensors, with the last time step's activation stored in the second item of the tuple."
   ]
  },
  {
   "cell_type": "code",
   "execution_count": 12,
   "id": "4300ec37",
   "metadata": {},
   "outputs": [],
   "source": [
    "class LastTimeStep(nn.Module):\n",
    "    \"\"\"\n",
    "    A class for extracting the hidden activations of the last time step following\n",
    "    the output of a PyTorch RNN module.\n",
    "    \"\"\"\n",
    "    \n",
    "    def __init__(self, rnn_layers=1, bidirectional=False):\n",
    "        super(LastTimeStep, self).__init__()\n",
    "        self.rnn_layers = rnn_layers\n",
    "        if bidirectional:\n",
    "            self.num_driections = 2\n",
    "        else:\n",
    "            self.num_driections = 1\n",
    "            \n",
    "    def forward(self, input):\n",
    "        # Result is either a tuple (out, h_t)\n",
    "        # or a tuple (out, (h_t, c_t))\n",
    "        \n",
    "        rnn_output = input[0]\n",
    "        \n",
    "        # h_t\n",
    "        last_step = input[1] \n",
    "        \n",
    "        # Unless it's a tuple,\n",
    "        if(type(last_step) == tuple):\n",
    "            # Then h_t is the first item in the tuple\n",
    "            last_step = last_step[0]\n",
    "        \n",
    "        # Per docs, shape is: \n",
    "        # '(num_layers, num_directions, batch, hidden_size)'\n",
    "        batch_size = last_step.shape[1]\n",
    "        \n",
    "        # Reshaping so that everything is separated\n",
    "        last_step = last_step.view(self.rnn_layers, self.num_driections, batch_size, -1)\n",
    "        \n",
    "        # We want the last layer's results\n",
    "        last_step = last_step[self.rnn_layers-1]\n",
    "        \n",
    "        #Re order so batch comes first\n",
    "        last_step = last_step.permute(1, 0, 2)\n",
    "        \n",
    "        #Finally, flatten the last two dimensions into one\n",
    "        return last_step.reshape(batch_size, -1)"
   ]
  },
  {
   "cell_type": "markdown",
   "id": "d7c587a5",
   "metadata": {},
   "source": [
    "The output of an RNN in PyTorch is a tuple of shape $(out, H_T)$ or $(out, (h_T, c_T))$. The $out$ object has information about every time step, and $h_T$ contains information about only the last time step but for every layer.\n",
    "\n",
    "Once we have $h_T$, PyTorch is going to provide it as an input that has been $flatten()$-ed. we can use $view$ function to re-shape the tensor with information about the layers, bidirectional content, the batch size, and the number of neurons $d$ in the hidden layer. Since, we want the last layer's result, we can index in and then use the $permute$ function to move the batch dimension to the front.\n",
    "\n",
    "The code below is the final step needed to complete the RNN."
   ]
  },
  {
   "cell_type": "code",
   "execution_count": 13,
   "id": "4d680923",
   "metadata": {},
   "outputs": [],
   "source": [
    "# Size of embedding result (vector representation dimension)\n",
    "D = 64\n",
    "\n",
    "# length of all characters and symbols\n",
    "vocab_size = len(all_letters)\n",
    "\n",
    "# Number of neurons in RNN\n",
    "hidden_nodes = 256\n",
    "\n",
    "# Number of classes/predictions\n",
    "classes = len(dataset.label_names)\n",
    "\n",
    "first_rnn = nn.Sequential(\n",
    "    #(B, T) -> (B, T, D)\n",
    "    nn.Embedding(vocab_size, D), \n",
    "    #(B, T, D) -> ( (B,T,D) , (S, B, D) )\n",
    "    nn.RNN(D, hidden_nodes, batch_first=True), \n",
    "    # The tanh activation is built into the RNN object, \n",
    "    # so we don't need to do it here\n",
    "    # We need to take the RNN output and reduce it to one item, (B, D)\n",
    "    LastTimeStep(), \n",
    "    #(B, D) -> (B, classes)\n",
    "    nn.Linear(hidden_nodes, classes), \n",
    ")"
   ]
  },
  {
   "cell_type": "markdown",
   "id": "c89af50b",
   "metadata": {},
   "source": [
    "Explanations:\n",
    "The input batch is processing $B$ items with a length of up to $T$, so the input has a shape of $(B, T)$. The nn.Embedding layer converts this to a shape of $(B, T, D)$ - adding the D dimensions from the embedding.\n",
    "\n",
    "The RNN takes inputs of shape (B, T, D) only if we specify that <code>batch_first=True</code>.\n",
    "\n",
    "The RNN will return a tuple of at least two tensors, but our $LastTimeStep$ module is designed to take this in and return a fixed length vector by extracting $h_T$ from the last time step. Since $h_T \\in {\\rm I\\!R}^D$ and we are processing $B$ items in a batch, that gives us a tensor of shape $(B, D)$. This is the same shape that our fully-connected networks expect. That means\n",
    "we can now just use standard fully-connected layers. In this case, we can use just one to create a linear layer that makes the final prediction. With that, we can again use the <code>train_simple_network</code> function to train our first RNN."
   ]
  },
  {
   "cell_type": "code",
   "execution_count": null,
   "id": "c7753e4c",
   "metadata": {},
   "outputs": [],
   "source": [
    "loss_func = nn.CrossEntropyLoss()\n",
    "\n",
    "batch_one_train = train_simple_network(first_rnn, loss_func, train_loader,\n",
    "                test_loader=test_loader, score_funcs={'Accuracy': accuracy_score}, device=device,\n",
    "                epochs=5)\n",
    "\n",
    "sns.lineplot(x='epoch', y='test Accuracy', data=batch_one_train, label='RNN')\n",
    "plt.show()"
   ]
  },
  {
   "cell_type": "code",
   "execution_count": null,
   "id": "dd656e6a",
   "metadata": {},
   "outputs": [],
   "source": [
    "pred_rnn = first_rnn.to(\"cpu\").eval()\n",
    "\n",
    "with torch.no_grad():\n",
    "    preds = F.softmax(pred_rnn(dataset.string2InputVec(\"frank\").reshape(1,-1)), dim=-1)\n",
    "    for class_id in range(len(dataset.label_names)):\n",
    "        print(dataset.label_names[class_id], \":\", preds[0,class_id].item()*100 , \"%\")"
   ]
  },
  {
   "cell_type": "markdown",
   "id": "adb82d5c",
   "metadata": {},
   "source": [
    "For further information read Inside Deep Learning: Math, ALgorithms, Models (MEAP) V05 page 138 - 150"
   ]
  }
 ],
 "metadata": {
  "kernelspec": {
   "display_name": "Python 3",
   "language": "python",
   "name": "python3"
  },
  "language_info": {
   "codemirror_mode": {
    "name": "ipython",
    "version": 3
   },
   "file_extension": ".py",
   "mimetype": "text/x-python",
   "name": "python",
   "nbconvert_exporter": "python",
   "pygments_lexer": "ipython3",
   "version": "3.8.10"
  }
 },
 "nbformat": 4,
 "nbformat_minor": 5
}
