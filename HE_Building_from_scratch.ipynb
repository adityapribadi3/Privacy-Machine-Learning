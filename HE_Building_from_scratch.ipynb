{
  "nbformat": 4,
  "nbformat_minor": 0,
  "metadata": {
    "colab": {
      "name": "HE-Building from scratch.ipynb",
      "provenance": [],
      "collapsed_sections": [],
      "authorship_tag": "ABX9TyMDl4lEMNPZ0AvjmbLpCg6N",
      "include_colab_link": true
    },
    "kernelspec": {
      "name": "python3",
      "display_name": "Python 3"
    },
    "language_info": {
      "name": "python"
    }
  },
  "cells": [
    {
      "cell_type": "markdown",
      "metadata": {
        "id": "view-in-github",
        "colab_type": "text"
      },
      "source": [
        "<a href=\"https://colab.research.google.com/github/adityapribadi3/Privacy-Machine-Learning/blob/main/HE_Building_from_scratch.ipynb\" target=\"_parent\"><img src=\"https://colab.research.google.com/assets/colab-badge.svg\" alt=\"Open In Colab\"/></a>"
      ]
    },
    {
      "cell_type": "markdown",
      "metadata": {
        "id": "nd3P_DNkFa_t"
      },
      "source": [
        "#Build an Homomorphic Encryption Scheme\n",
        "\n",
        "Source: https://blog.openmined.org/build-an-homomorphic-encryption-scheme-from-scratch-with-python/\n",
        "\n"
      ]
    },
    {
      "cell_type": "code",
      "metadata": {
        "id": "sjYvfsScFLVN"
      },
      "source": [
        "import numpy as np\n",
        "from numpy.polynomial import polynomial as poly\n",
        "\n",
        "def polymul(x, y, modulus, poly_mod):\n",
        "    \"\"\"Add two polynoms\n",
        "    Args:\n",
        "        x, y: two polynoms to be added.\n",
        "        modulus: coefficient modulus.\n",
        "        poly_mod: polynomial modulus.\n",
        "    Returns:\n",
        "        A polynomial in Z_modulus[X]/(poly_mod).\n",
        "    \"\"\"\n",
        "    return np.int64(\n",
        "        np.round(poly.polydiv(poly.polymul(x, y) % modulus, poly_mod)[1] % modulus)\n",
        "    )\n",
        "\n",
        "\n",
        "def polyadd(x, y, modulus, poly_mod):\n",
        "    \"\"\"Multiply two polynoms\n",
        "    Args:\n",
        "        x, y: two polynoms to be multiplied.\n",
        "        modulus: coefficient modulus.\n",
        "        poly_mod: polynomial modulus.\n",
        "    Returns:\n",
        "        A polynomial in Z_modulus[X]/(poly_mod).\n",
        "    \"\"\"\n",
        "    return np.int64(\n",
        "        np.round(poly.polydiv(poly.polyadd(x, y) % modulus, poly_mod)[1] % modulus)\n",
        "    )"
      ],
      "execution_count": null,
      "outputs": []
    },
    {
      "cell_type": "code",
      "metadata": {
        "id": "Nhy0n2jSFQq3"
      },
      "source": [
        "def gen_binary_poly(size):\n",
        "    \"\"\"Generates a polynomial with coeffecients in [0, 1]\n",
        "    Args:\n",
        "        size: number of coeffcients, size-1 being the degree of the\n",
        "            polynomial.\n",
        "    Returns:\n",
        "        array of coefficients with the coeff[i] being \n",
        "        the coeff of x ^ i.\n",
        "    \"\"\"\n",
        "    return np.random.randint(0, 2, size, dtype=np.int64)\n",
        "\n",
        "\n",
        "def gen_uniform_poly(size, modulus):\n",
        "    \"\"\"Generates a polynomial with coeffecients being integers in Z_modulus\n",
        "    Args:\n",
        "        size: number of coeffcients, size-1 being the degree of the\n",
        "            polynomial.\n",
        "    Returns:\n",
        "        array of coefficients with the coeff[i] being \n",
        "        the coeff of x ^ i.\n",
        "    \"\"\"\n",
        "    return np.random.randint(0, modulus, size, dtype=np.int64)\n",
        "\n",
        "\n",
        "def gen_normal_poly(size):\n",
        "    \"\"\"Generates a polynomial with coeffecients in a normal distribution\n",
        "    of mean 0 and a standard deviation of 2, then discretize it.\n",
        "    Args:\n",
        "        size: number of coeffcients, size-1 being the degree of the\n",
        "            polynomial.\n",
        "    Returns:\n",
        "        array of coefficients with the coeff[i] being \n",
        "        the coeff of x ^ i.\n",
        "    \"\"\"\n",
        "    return np.int64(np.random.normal(0, 2, size=size))"
      ],
      "execution_count": null,
      "outputs": []
    },
    {
      "cell_type": "code",
      "metadata": {
        "id": "na8xTwkeFVrR"
      },
      "source": [
        "def keygen(size, modulus, poly_mod):\n",
        "    \"\"\"Generate a public and secret keys\n",
        "    Args:\n",
        "        size: size of the polynoms for the public and secret keys.\n",
        "        modulus: coefficient modulus.\n",
        "        poly_mod: polynomial modulus.\n",
        "    Returns:\n",
        "        Public and secret key.\n",
        "    \"\"\"\n",
        "    sk = gen_binary_poly(size)\n",
        "    a = gen_uniform_poly(size, modulus)\n",
        "    e = gen_normal_poly(size)\n",
        "    b = polyadd(polymul(-a, sk, modulus, poly_mod), -e, modulus, poly_mod)\n",
        "    return (b, a), sk"
      ],
      "execution_count": null,
      "outputs": []
    },
    {
      "cell_type": "code",
      "metadata": {
        "id": "xMyHL_cRFZU9"
      },
      "source": [
        "def encrypt(pk, size, q, t, poly_mod, pt):\n",
        "    \"\"\"Encrypt an integer.\n",
        "    Args:\n",
        "        pk: public-key.\n",
        "        size: size of polynomials.\n",
        "        q: ciphertext modulus.\n",
        "        t: plaintext modulus.\n",
        "        poly_mod: polynomial modulus.\n",
        "        pt: integer to be encrypted.\n",
        "    Returns:\n",
        "        Tuple representing a ciphertext.      \n",
        "    \"\"\"\n",
        "    # encode the integer into a plaintext polynomial\n",
        "    m = np.array([pt] + [0] * (size - 1), dtype=np.int64) % t\n",
        "    delta = q // t\n",
        "    scaled_m = delta * m  % q\n",
        "    e1 = gen_normal_poly(size)\n",
        "    e2 = gen_normal_poly(size)\n",
        "    u = gen_binary_poly(size)\n",
        "    ct0 = polyadd(\n",
        "            polyadd(\n",
        "                polymul(pk[0], u, q, poly_mod),\n",
        "                e1, q, poly_mod),\n",
        "            scaled_m, q, poly_mod\n",
        "        )\n",
        "    ct1 = polyadd(\n",
        "            polymul(pk[1], u, q, poly_mod),\n",
        "            e2, q, poly_mod\n",
        "        )\n",
        "    return (ct0, ct1)"
      ],
      "execution_count": null,
      "outputs": []
    },
    {
      "cell_type": "code",
      "metadata": {
        "id": "AHkmv7lEFtR_"
      },
      "source": [
        "def decrypt(sk, size, q, t, poly_mod, ct):\n",
        "    \"\"\"Decrypt a ciphertext\n",
        "    Args:\n",
        "        sk: secret-key.\n",
        "        size: size of polynomials.\n",
        "        q: ciphertext modulus.\n",
        "        t: plaintext modulus.\n",
        "        poly_mod: polynomial modulus.\n",
        "        ct: ciphertext.\n",
        "    Returns:\n",
        "        Integer representing the plaintext.\n",
        "    \"\"\"\n",
        "    scaled_pt = polyadd(\n",
        "            polymul(ct[1], sk, q, poly_mod),\n",
        "            ct[0], q, poly_mod\n",
        "        )\n",
        "    decrypted_poly = np.round(scaled_pt * t / q) % t\n",
        "    return int(decrypted_poly[0])"
      ],
      "execution_count": null,
      "outputs": []
    },
    {
      "cell_type": "code",
      "metadata": {
        "id": "cUVwHT5JFwt2"
      },
      "source": [
        "def add_plain(ct, pt, q, t, poly_mod):\n",
        "    \"\"\"Add a ciphertext and a plaintext.\n",
        "    Args:\n",
        "        ct: ciphertext.\n",
        "        pt: integer to add.\n",
        "        q: ciphertext modulus.\n",
        "        t: plaintext modulus.\n",
        "        poly_mod: polynomial modulus.\n",
        "    Returns:\n",
        "        Tuple representing a ciphertext.\n",
        "    \"\"\"\n",
        "    size = len(poly_mod) - 1\n",
        "    # encode the integer into a plaintext polynomial\n",
        "    m = np.array([pt] + [0] * (size - 1), dtype=np.int64) % t\n",
        "    delta = q // t\n",
        "    scaled_m = delta * m  % q\n",
        "    new_ct0 = polyadd(ct[0], scaled_m, q, poly_mod)\n",
        "    return (new_ct0, ct[1])"
      ],
      "execution_count": null,
      "outputs": []
    },
    {
      "cell_type": "code",
      "metadata": {
        "id": "8gd1-kJXF1pV"
      },
      "source": [
        "def mul_plain(ct, pt, q, t, poly_mod):\n",
        "    \"\"\"Multiply a ciphertext and a plaintext.\n",
        "    Args:\n",
        "        ct: ciphertext.\n",
        "        pt: integer to multiply.\n",
        "        q: ciphertext modulus.\n",
        "        t: plaintext modulus.\n",
        "        poly_mod: polynomial modulus.\n",
        "    Returns:\n",
        "        Tuple representing a ciphertext.\n",
        "    \"\"\"\n",
        "    size = len(poly_mod) - 1\n",
        "    # encode the integer into a plaintext polynomial\n",
        "    m = np.array([pt] + [0] * (size - 1), dtype=np.int64) % t\n",
        "    new_c0 = polymul(ct[0], m, q, poly_mod)\n",
        "    new_c1 = polymul(ct[1], m, q, poly_mod)\n",
        "    return (new_c0, new_c1)"
      ],
      "execution_count": null,
      "outputs": []
    },
    {
      "cell_type": "code",
      "metadata": {
        "colab": {
          "base_uri": "https://localhost:8080/"
        },
        "id": "3MfSNpSCF5aW",
        "outputId": "6cfdf859-faa0-4406-cc98-e9980553e2a6"
      },
      "source": [
        "# Scheme's parameters\n",
        "# polynomial modulus degree\n",
        "n = 2**4\n",
        "# ciphertext modulus\n",
        "q = 2**15\n",
        "# plaintext modulus\n",
        "t = 2**8\n",
        "# polynomial modulus\n",
        "poly_mod = np.array([1] + [0] * (n - 1) + [1])\n",
        "# Keygen\n",
        "pk, sk = keygen(n, q, poly_mod)\n",
        "# Encryption\n",
        "pt1, pt2 = 73, 20\n",
        "cst1, cst2 = 7, 5\n",
        "ct1 = encrypt(pk, n, q, t, poly_mod, pt1)\n",
        "ct2 = encrypt(pk, n, q, t, poly_mod, pt2)\n",
        "\n",
        "print(\"[+] Ciphertext ct1({}):\".format(pt1))\n",
        "print(\"\")\n",
        "print(\"\\t ct1_0:\", ct1[0])\n",
        "print(\"\\t ct1_1:\", ct1[1])\n",
        "print(\"\")\n",
        "print(\"[+] Ciphertext ct2({}):\".format(pt2))\n",
        "print(\"\")\n",
        "print(\"\\t ct1_0:\", ct2[0])\n",
        "print(\"\\t ct1_1:\", ct2[1])\n",
        "print(\"\")\n",
        "\n",
        "# Evaluation\n",
        "ct3 = add_plain(ct1, cst1, q, t, poly_mod)\n",
        "ct4 = mul_plain(ct2, cst2, q, t, poly_mod)\n",
        "\n",
        "# Decryption\n",
        "decrypted_ct3 = decrypt(sk, n, q, t, poly_mod, ct3)\n",
        "decrypted_ct4 = decrypt(sk, n, q, t, poly_mod, ct4)\n",
        "\n",
        "print(\"[+] Decrypted ct3(ct1 + {}): {}\".format(cst1, decrypted_ct3))\n",
        "print(\"[+] Decrypted ct4(ct2 * {}): {}\".format(cst2, decrypted_ct4))"
      ],
      "execution_count": null,
      "outputs": [
        {
          "output_type": "stream",
          "text": [
            "[+] Ciphertext ct1(73):\n",
            "\n",
            "\t ct1_0: [ 2807 12861 21717  3518  1135  3200 20584 31066  9510  9362 28827 31329\n",
            " 16277 29294 29676  7723]\n",
            "\t ct1_1: [26824 11894 27962 23720 26097 23208 13157 18319 26608 19976 28851 23254\n",
            "  6849  3129 14798  6627]\n",
            "\n",
            "[+] Ciphertext ct2(20):\n",
            "\n",
            "\t ct1_0: [16671 25443  9953  2990 31202  2621 27883 13784  1584 14795   394  8469\n",
            " 13552  2928 17938 32589]\n",
            "\t ct1_1: [15535  5022 23049 31103 17109 19759 27826 10492  4880 31557 16982 15058\n",
            "  2654 18766 14108 26237]\n",
            "\n",
            "[+] Decrypted ct3(ct1 + 7): 80\n",
            "[+] Decrypted ct4(ct2 * 5): 100\n"
          ],
          "name": "stdout"
        }
      ]
    }
  ]
}