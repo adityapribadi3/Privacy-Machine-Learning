{
 "cells": [
  {
   "cell_type": "markdown",
   "id": "59c46a17",
   "metadata": {},
   "source": [
    "# Chapter 3 Convolutional Neural Network"
   ]
  },
  {
   "cell_type": "code",
   "execution_count": 1,
   "id": "f4854112",
   "metadata": {},
   "outputs": [],
   "source": [
    "import torch\n",
    "import torchvision\n",
    "from torchvision import transforms\n",
    "\n",
    "from pylab import *\n",
    "import matplotlib.pyplot as plt"
   ]
  },
  {
   "cell_type": "markdown",
   "id": "b7acbbff",
   "metadata": {},
   "source": [
    "In this chapter we are going to learn about \"convolutional layer\", which can act as a replacement to <code> nn.Linear </code>."
   ]
  },
  {
   "cell_type": "markdown",
   "id": "d4dd1c89",
   "metadata": {},
   "source": [
    "## Spatial structural prior belief"
   ]
  },
  {
   "cell_type": "markdown",
   "id": "c54a4348",
   "metadata": {},
   "source": [
    "Neural network get really useful when we use them to impose some kind of prior belief, specifically structural priors. The most common types of structure encoded into neural networks are spatial correlation (e.g., images in this chapter) and sequential relationship (e.g., weather changes from one day to another)."
   ]
  },
  {
   "cell_type": "markdown",
   "id": "d6c51429",
   "metadata": {},
   "source": [
    "In our previous problem represented as $(N, D)$ matrix, with $N$ data points and $D$ features, we could have re-arranged the features' order and it would not change the meaning. All that's matter is if column $j$ corresponds to a specific feature is always put in a consistent position. \n",
    "\n",
    "While in spatial data, such as picture, the order of the pixels are is important. If it's shuffeled it would change the meaning."
   ]
  },
  {
   "cell_type": "markdown",
   "id": "0a04bc3a",
   "metadata": {},
   "source": [
    "So, if we have $N$ images, each has a height $H$, and a width $W$. As a starting point we might consider a \"matrix\" of image data to have shape $(N, W, H)$.\n",
    "\n",
    "This gives us a three dimensional tensor. This would be fine if we had black-and-white images only. But for color we need to add some *channels* to our representation. Every channel has the same width and height, but represents a different perceptual concept.\n",
    "\n",
    "Color usually represented with a Red, Green, and Blue *channel*, and we interpret the mixture of the three components to create a final color image. \n",
    "\n",
    "So , if we want to include that, we need to have an additional dimension to the tensor for the channels $(N, C, W, H)$.\n",
    "\n",
    "Now, we have a four dimensional tensor, and there is structure to the tensor. By structure we mean that the axes of the tensor, and the order we access data in, has a specific meaning (we cannot shuffle them).\n",
    "\n",
    "For example, if $x$ was a batch of color images <code> x[3, 2, 0, 0] </code> is saying \"from the 4th image ($N=3$) grab the blue value ($C=2$) of the upper left pixel ($0, 0$)\". Or we can grab the red, green, and blue value using <code> x[3, :, 0, 0] </code>."
   ]
  },
  {
   "cell_type": "markdown",
   "id": "2d8e660c",
   "metadata": {},
   "source": [
    "### Loading MNIST with PyTorch"
   ]
  },
  {
   "cell_type": "markdown",
   "id": "dc7809c1",
   "metadata": {},
   "source": [
    "MNIST is a collection of black and white images of the digit 0 through 9. Each has the size of $28 \\times 28$ pixels."
   ]
  },
  {
   "cell_type": "code",
   "execution_count": 2,
   "id": "684c95f9",
   "metadata": {},
   "outputs": [],
   "source": [
    "import torchvision\n",
    "from torchvision import transforms"
   ]
  },
  {
   "cell_type": "code",
   "execution_count": 3,
   "id": "3af78a88",
   "metadata": {},
   "outputs": [
    {
     "data": {
      "text/plain": [
       "PIL.Image.Image"
      ]
     },
     "execution_count": 3,
     "metadata": {},
     "output_type": "execute_result"
    }
   ],
   "source": [
    "mnist_data_train = torchvision.datasets.MNIST(\"./data\", train=True, download=True)\n",
    "mnist_data_test = torchvision.datasets.MNIST(\"./data\", train=False, download=True)\n",
    "x_example, y_example = mnist_data_train[0]\n",
    "type(x_example)"
   ]
  },
  {
   "cell_type": "markdown",
   "id": "0283a1b1",
   "metadata": {},
   "source": [
    "Now, since the data returned is in a form of PIL images, we need to transofrm it to PyTorch tensor where the minimum possible value is 0.0, and the maximum is 1.0."
   ]
  },
  {
   "cell_type": "code",
   "execution_count": 4,
   "id": "49289e6d",
   "metadata": {},
   "outputs": [
    {
     "name": "stdout",
     "output_type": "stream",
     "text": [
      "torch.Size([1, 28, 28])\n"
     ]
    }
   ],
   "source": [
    "mnist_data_train = torchvision.datasets.MNIST(\"./data\", train=True, download=True,\n",
    "transform=transforms.ToTensor())\n",
    "\n",
    "mnist_data_test = torchvision.datasets.MNIST(\"./data\", train=False, download=True,\n",
    "transform=transforms.ToTensor())\n",
    "\n",
    "x_example, y_example = mnist_data_train[0]\n",
    "print(x_example.shape)"
   ]
  },
  {
   "cell_type": "markdown",
   "id": "b489c7a9",
   "metadata": {},
   "source": [
    "We now have a data with single example, which has a shape of (1, 28, 28) for $C=1$ (black and white), and a width and height of 28 pixels."
   ]
  },
  {
   "cell_type": "code",
   "execution_count": 5,
   "id": "9056c1cf",
   "metadata": {},
   "outputs": [
    {
     "data": {
      "image/png": "[encoded data removed]",
      "text/plain": [
       "<Figure size 640x480 with 1 Axes>"
      ]
     },
     "metadata": {},
     "output_type": "display_data"
    }
   ],
   "source": [
    "from pylab import *\n",
    "import matplotlib.pyplot as plt\n",
    "\n",
    "imshow(x_example[0,:], cmap='gray')\n",
    "plt.show()"
   ]
  },
  {
   "cell_type": "markdown",
   "id": "f7f408e7",
   "metadata": {},
   "source": [
    "Now, lets try to do color version"
   ]
  },
  {
   "cell_type": "code",
   "execution_count": 6,
   "id": "bcd99822",
   "metadata": {},
   "outputs": [
    {
     "name": "stdout",
     "output_type": "stream",
     "text": [
      "torch.Size([3, 28, 28])\n"
     ]
    }
   ],
   "source": [
    "x_as_color = torch.stack([x_example[0,:], x_example[0,:], x_example[0,:]], dim=0)\n",
    "print(x_as_color.shape)"
   ]
  },
  {
   "cell_type": "markdown",
   "id": "a1f2ac67",
   "metadata": {},
   "source": [
    "Now, we need to be careful, in PyTorch an image is represented as (N, C, W, H), but in imshow, the parameter expected is (W, H, C). So, we will need to *permute* the dimension. The order of the original data is (C, W, H) => (0, 1, 2). to permute we need (1, 2, 0)."
   ]
  },
  {
   "cell_type": "code",
   "execution_count": 7,
   "id": "5104b377",
   "metadata": {
    "scrolled": false
   },
   "outputs": [
    {
     "data": {
      "image/png": "[encoded data removed]",
      "text/plain": [
       "<Figure size 640x480 with 1 Axes>"
      ]
     },
     "metadata": {},
     "output_type": "display_data"
    }
   ],
   "source": [
    "imshow(x_as_color.permute(1,2,0))\n",
    "plt.show()"
   ]
  },
  {
   "cell_type": "code",
   "execution_count": 8,
   "id": "4fe3a3e6",
   "metadata": {},
   "outputs": [
    {
     "data": {
      "image/png": "[encoded data removed]",
      "text/plain": [
       "<Figure size 640x480 with 1 Axes>"
      ]
     },
     "metadata": {},
     "output_type": "display_data"
    }
   ],
   "source": [
    "x_as_color = torch.stack([x_example[0,:], x_example[0,:], x_example[0,:]])\n",
    "\n",
    "# No red\n",
    "x_as_color[0,:] =0 \n",
    "\n",
    "# No blue\n",
    "x_as_color[2,:] =0 \n",
    "\n",
    "# Leaving the green value\n",
    "\n",
    "imshow(x_as_color.permute(1,2,0))\n",
    "\n",
    "plt.show()"
   ]
  },
  {
   "cell_type": "markdown",
   "id": "13375224",
   "metadata": {},
   "source": [
    "Let's mix the three color in different number representation"
   ]
  },
  {
   "cell_type": "code",
   "execution_count": 12,
   "id": "16b67057",
   "metadata": {
    "scrolled": false
   },
   "outputs": [
    {
     "data": {
      "image/png": "[encoded data removed]",
      "text/plain": [
       "<Figure size 640x480 with 1 Axes>"
      ]
     },
     "metadata": {},
     "output_type": "display_data"
    }
   ],
   "source": [
    "#grab 3 images\n",
    "x1, x2, x3 = mnist_data_train[0], mnist_data_train[1], mnist_data_train[2]\n",
    "#drop the labels\n",
    "x1, x2, x3 = x1[0], x2[0], x3[0]\n",
    "\n",
    "x_as_color = torch.stack([x1[0,:], x2[0,:], x3[0,:]], dim=0)\n",
    "imshow(x_as_color.permute(1,2,0))\n",
    "\n",
    "plt.show()"
   ]
  },
  {
   "cell_type": "markdown",
   "id": "b3d20737",
   "metadata": {},
   "source": [
    "## What are Convolutions?"
   ]
  },
  {
   "cell_type": "markdown",
   "id": "fe8c8c15",
   "metadata": {},
   "source": []
  }
 ],
 "metadata": {
  "kernelspec": {
   "display_name": "Python 3",
   "language": "python",
   "name": "python3"
  },
  "language_info": {
   "codemirror_mode": {
    "name": "ipython",
    "version": 3
   },
   "file_extension": ".py",
   "mimetype": "text/x-python",
   "name": "python",
   "nbconvert_exporter": "python",
   "pygments_lexer": "ipython3",
   "version": "3.8.10"
  }
 },
 "nbformat": 4,
 "nbformat_minor": 5
}
