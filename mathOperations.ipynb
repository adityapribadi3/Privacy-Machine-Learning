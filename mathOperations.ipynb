{
 "metadata": {
  "language_info": {
   "codemirror_mode": {
    "name": "ipython",
    "version": 3
   },
   "file_extension": ".py",
   "mimetype": "text/x-python",
   "name": "python",
   "nbconvert_exporter": "python",
   "pygments_lexer": "ipython3",
   "version": "3.8.5-final"
  },
  "orig_nbformat": 2,
  "kernelspec": {
   "name": "python3",
   "display_name": "Python 3.8.5 64-bit ('base': conda)",
   "metadata": {
    "interpreter": {
     "hash": "dca0ade3e726a953b501b15e8e990130d2b7799f14cfd9f4271676035ebe5511"
    }
   }
  }
 },
 "nbformat": 4,
 "nbformat_minor": 2,
 "cells": [
  {
   "cell_type": "code",
   "execution_count": 1,
   "metadata": {},
   "outputs": [],
   "source": [
    "import torch\n",
    "from torchvision import transforms\n",
    "from random import randint\n",
    "import pickle\n",
    "from PIL import Image\n",
    "import numpy as np\n",
    "from matplotlib.pyplot import imshow\n",
    "from typing import Dict\n",
    "\n",
    "import tenseal as ts"
   ]
  },
  {
   "cell_type": "code",
   "execution_count": 2,
   "metadata": {},
   "outputs": [],
   "source": [
    "def context():\n",
    "    context = ts.context(ts.SCHEME_TYPE.CKKS, 8192, coeff_mod_bit_sizes=[60, 40, 40, 60])\n",
    "    context.global_scale = pow(2, 40)\n",
    "    context.generate_galois_keys()\n",
    "    return context\n",
    "\n",
    "context = context()"
   ]
  },
  {
   "cell_type": "code",
   "execution_count": 3,
   "metadata": {},
   "outputs": [
    {
     "output_type": "stream",
     "name": "stdout",
     "text": [
      " First tensor: Shape = [2, 2] Data = [[1.0, 2.0], [3.0, 4.0]]\n Second tensor: Shape = [2, 2] Data = [[5.0, 6.0], [7.0, 8.0]]\n"
     ]
    }
   ],
   "source": [
    "plain1 = ts.plain_tensor([1,2,3,4], [2,2])\n",
    "\n",
    "print(\" First tensor: Shape = {} Data = {}\".format(plain1.shape, plain1.tolist()))\n",
    "\n",
    "plain2 = ts.plain_tensor(np.array([5,6,7,8]).reshape(2,2))\n",
    "print(\" Second tensor: Shape = {} Data = {}\".format(plain2.shape, plain2.tolist()))"
   ]
  },
  {
   "cell_type": "code",
   "execution_count": 4,
   "metadata": {},
   "outputs": [
    {
     "output_type": "stream",
     "name": "stdout",
     "text": [
      " Shape = [2, 2]\n Encrypted Data = <tenseal.tensors.ckkstensor.CKKSTensor object at 0x7faf96766130>.\n Shape = [2, 2]\n"
     ]
    }
   ],
   "source": [
    "encrypted_tensor1 = ts.ckks_tensor(context, plain1)\n",
    "encrypted_tensor2 = ts.ckks_tensor(context, plain2)\n",
    "\n",
    "print(\" Shape = {}\".format(encrypted_tensor1.shape))\n",
    "print(\" Encrypted Data = {}.\".format(encrypted_tensor1))\n",
    "\n",
    "\n",
    "encrypted_tensor_from_np = ts.ckks_tensor(context, np.array([5,6,7,8]).reshape([2,2]))\n",
    "print(\" Shape = {}\".format(encrypted_tensor_from_np.shape))"
   ]
  },
  {
   "cell_type": "code",
   "execution_count": 5,
   "metadata": {},
   "outputs": [],
   "source": [
    "def decrypt(enc):\n",
    "    return enc.decrypt().tolist()"
   ]
  },
  {
   "cell_type": "code",
   "execution_count": 6,
   "metadata": {},
   "outputs": [
    {
     "output_type": "stream",
     "name": "stdout",
     "text": [
      "Plain equivalent: [[1.0, 2.0], [3.0, 4.0]] + [[5.0, 6.0], [7.0, 8.0]]\nDecrypted result: [[6.0000000000531815, 7.999999997719797], [10.000000001689402, 12.000000000018336]].\n"
     ]
    }
   ],
   "source": [
    "result = encrypted_tensor1 + encrypted_tensor2\n",
    "print(\"Plain equivalent: {} + {}\\nDecrypted result: {}.\".format(plain1.tolist(), plain2.tolist(), decrypt(result)))"
   ]
  },
  {
   "cell_type": "code",
   "execution_count": 7,
   "metadata": {},
   "outputs": [
    {
     "output_type": "stream",
     "name": "stdout",
     "text": [
      "Plain equivalent: [[1.0, 2.0], [3.0, 4.0]] - [[5.0, 6.0], [7.0, 8.0]]\nDecrypted result: [[-4.000000003120337, -3.9999999989254422], [-4.000000000742178, -4.00000000160239]].\n"
     ]
    }
   ],
   "source": [
    "result = encrypted_tensor1 - encrypted_tensor2\n",
    "print(\"Plain equivalent: {} - {}\\nDecrypted result: {}.\".format(plain1.tolist(), plain2.tolist(), decrypt(result)))"
   ]
  },
  {
   "cell_type": "code",
   "execution_count": 8,
   "metadata": {},
   "outputs": [
    {
     "output_type": "stream",
     "name": "stdout",
     "text": [
      "Plain equivalent: [[1.0, 2.0], [3.0, 4.0]] * [[5.0, 6.0], [7.0, 8.0]]\nDecrypted result: [[5.000000663266781, 12.000001600751453], [21.00000282340683, 32.00000429005461]].\n"
     ]
    }
   ],
   "source": [
    "result = encrypted_tensor1 * encrypted_tensor2\n",
    "print(\"Plain equivalent: {} * {}\\nDecrypted result: {}.\".format(plain1.tolist(), plain2.tolist(), decrypt(result)))\n"
   ]
  },
  {
   "cell_type": "code",
   "execution_count": 10,
   "metadata": {},
   "outputs": [
    {
     "output_type": "stream",
     "name": "stdout",
     "text": [
      "Plain equivalent: [[1.0, 2.0], [3.0, 4.0]] * [[5.0, 6.0], [7.0, 8.0]]\nDecrypted result: [[5.000000662309627, 12.000001607518183], [21.000002818884727, 32.00000428417588]].\n"
     ]
    }
   ],
   "source": [
    "plain = ts.plain_tensor([5,6,7,8], [2,2])\n",
    "result = encrypted_tensor1 * plain\n",
    "\n",
    "print(\"Plain equivalent: {} * {}\\nDecrypted result: {}.\".format(plain1.tolist(), plain.tolist(), decrypt(result)))"
   ]
  },
  {
   "cell_type": "code",
   "execution_count": 11,
   "metadata": {},
   "outputs": [
    {
     "output_type": "stream",
     "name": "stdout",
     "text": [
      "Plain equivalent: -[[1.0, 2.0], [3.0, 4.0]]\nDecrypted result: [[-0.9999999984664225, -1.9999999993971764], [-3.000000000473612, -3.9999999992079722]].\n"
     ]
    }
   ],
   "source": [
    "result = -encrypted_tensor1 \n",
    "\n",
    "print(\"Plain equivalent: -{}\\nDecrypted result: {}.\".format(plain1.tolist(), decrypt(result)))"
   ]
  },
  {
   "cell_type": "code",
   "execution_count": 12,
   "metadata": {},
   "outputs": [
    {
     "output_type": "stream",
     "name": "stdout",
     "text": [
      "Plain equivalent: [[1.0, 2.0], [3.0, 4.0]] ^ 3\nDecrypted result: [[1.000000798607714, 8.000006434515267], [27.000021742311368, 64.000051456162]].\n"
     ]
    }
   ],
   "source": [
    "result = encrypted_tensor1 ** 3\n",
    "print(\"Plain equivalent: {} ^ 3\\nDecrypted result: {}.\".format(plain1.tolist(), decrypt(result)))"
   ]
  },
  {
   "cell_type": "code",
   "execution_count": 13,
   "metadata": {},
   "outputs": [
    {
     "output_type": "stream",
     "name": "stdout",
     "text": [
      "X = [[1.0, 2.0], [3.0, 4.0]]\n1 + X^2 + X^3 = [[3.0000009283583773, 13.00000696908226], [37.00002295490142, 81.00005359402903]].\n"
     ]
    }
   ],
   "source": [
    "result = encrypted_tensor1.polyval([1,0,1,1])\n",
    "\n",
    "print(\"X = {}\".format(plain1.tolist()))\n",
    "print(\"1 + X^2 + X^3 = {}.\".format(decrypt(result)))"
   ]
  },
  {
   "cell_type": "code",
   "execution_count": 14,
   "metadata": {},
   "outputs": [
    {
     "output_type": "stream",
     "name": "stdout",
     "text": [
      "X = [[1.0, 2.0], [3.0, 4.0]]\n0.5 + 0.197 X - 0.004 x^X = [[0.6930000200345982, 0.8620000186126937], [0.9829999820511028, 1.0319998751388226]].\n"
     ]
    }
   ],
   "source": [
    "result = encrypted_tensor1.polyval([0.5, 0.197, 0, -0.004])\n",
    "\n",
    "\n",
    "print(\"X = {}\".format(plain1.tolist()))\n",
    "print(\"0.5 + 0.197 X - 0.004 x^X = {}.\".format(decrypt(result)))"
   ]
  },
  {
   "cell_type": "code",
   "execution_count": null,
   "metadata": {},
   "outputs": [],
   "source": []
  }
 ]
}