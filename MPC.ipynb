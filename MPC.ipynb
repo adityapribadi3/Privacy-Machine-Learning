{
 "metadata": {
  "language_info": {
   "codemirror_mode": {
    "name": "ipython",
    "version": 3
   },
   "file_extension": ".py",
   "mimetype": "text/x-python",
   "name": "python",
   "nbconvert_exporter": "python",
   "pygments_lexer": "ipython3",
   "version": "3.8.5-final"
  },
  "orig_nbformat": 2,
  "kernelspec": {
   "name": "python3",
   "display_name": "Python 3.8.5 64-bit ('base': conda)",
   "metadata": {
    "interpreter": {
     "hash": "dca0ade3e726a953b501b15e8e990130d2b7799f14cfd9f4271676035ebe5511"
    }
   }
  }
 },
 "nbformat": 4,
 "nbformat_minor": 2,
 "cells": [
  {
   "cell_type": "code",
   "execution_count": 1,
   "metadata": {},
   "outputs": [],
   "source": [
    "import torch as th\n",
    "import syft as sy \n",
    "hook = sy.TorchHook(th)\n",
    "\n",
    "alice = sy.VirtualWorker(hook, id=\"alice\")\n",
    "bob = sy.VirtualWorker(hook, id=\"bob\")\n",
    "secure_worker = sy.VirtualWorker(hook, id=\"secure_worker\")\n",
    "\n",
    "x = th.tensor([0.1, 0.2, 0.3])\n",
    "\n",
    "x = x.fix_prec()\n",
    "x = x.share(alice, bob, secure_worker)"
   ]
  },
  {
   "cell_type": "code",
   "execution_count": 2,
   "metadata": {},
   "outputs": [],
   "source": [
    "import random\n",
    "\n",
    "Q = 121639451781281043402593\n",
    "\n",
    "def encrypt(x, n_shares = 2):\n",
    "    shares = list()\n",
    "    \n",
    "    for i in range(n_shares-1):\n",
    "        shares.append(random.randint(0,Q))\n",
    "        \n",
    "    final_share = Q - (sum(shares) % Q) + x\n",
    "    \n",
    "    share.append(final_share)\n",
    "    \n",
    "    return tuple(shares)\n",
    "    \n",
    "def decrypt(shares):\n",
    "    return sum(shares) % Q\n",
    "    \n",
    "def add(a, b):\n",
    "    c = list()\n",
    "    \n",
    "    assert(len(a) == len(b))\n",
    "    \n",
    "    for i in range(len(a)):\n",
    "        c.append((a[i] + b[i]) % Q)\n",
    "        \n",
    "    return tuple(c)"
   ]
  },
  {
   "cell_type": "code",
   "execution_count": 3,
   "metadata": {},
   "outputs": [],
   "source": [
    "def generate_mul_triple():\n",
    "    a = random.randrange(Q)\n",
    "    b = random.randrange(Q)\n",
    "    a_mul_b = (a * b) % Q\n",
    "    return encrypt(a), encrypt(b), encrypt(a_mul_b)\n",
    "    \n",
    "#we also assume that the crypto provider distributes the shares"
   ]
  },
  {
   "cell_type": "code",
   "execution_count": 4,
   "metadata": {},
   "outputs": [],
   "source": [
    "def mul(x, y):\n",
    "    a, b, a_mul_b = generate_mul_triple()\n",
    "    \n",
    "    #x remains hidden because a is random \n",
    "    alpha = decrypt(x - a)\n",
    "    #<-y remains hidden because b is random \n",
    "    beta  = decrypt(y - b)\n",
    "    \n",
    "    #local re-combination\n",
    "    return alpha.mul(beta) + alpha.mul(b) + a.mul(beta) + a_mul_b"
   ]
  },
  {
   "cell_type": "code",
   "execution_count": 5,
   "metadata": {},
   "outputs": [
    {
     "output_type": "execute_result",
     "data": {
      "text/plain": [
       "3.5"
      ]
     },
     "metadata": {},
     "execution_count": 5
    }
   ],
   "source": [
    "BASE=10\n",
    "PRECISION=4\n",
    "\n",
    "def encode(x):\n",
    "    return int((x * (BASE ** PRECISION)) % Q)\n",
    "\n",
    "def decode(x):\n",
    "    return (x if x <= Q/2 else x - Q) / BASE**PRECISION\n",
    "    \n",
    "encode(3.5) \n",
    "#<-- 35000\n",
    "decode(35000) \n",
    "#<-- 3.5"
   ]
  },
  {
   "cell_type": "code",
   "execution_count": 6,
   "metadata": {},
   "outputs": [],
   "source": [
    "#WHAT IS SECURE MULTI-PARTY COMPUTATION?\n",
    "#https://blog.openmined.org/what-is-secure-multi-party-computation/"
   ]
  }
 ]
}